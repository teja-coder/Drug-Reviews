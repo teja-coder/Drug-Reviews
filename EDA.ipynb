{
 "cells": [
  {
   "cell_type": "markdown",
   "metadata": {
    "id": "Vo-jakNL6qcE"
   },
   "source": [
    "## Data Preprocessing"
   ]
  },
  {
   "cell_type": "code",
   "execution_count": 1,
   "metadata": {
    "id": "JTJ0MB_q6qpv"
   },
   "outputs": [],
   "source": [
    "import numpy as np\n",
    "import pandas as pd\n",
    "import string\n",
    "\n",
    "import matplotlib.pyplot as plt\n",
    "import seaborn as sns\n",
    "\n",
    "import ipywidgets\n",
    "from ipywidgets import interact\n",
    "\n",
    "plt.rcParams['figure.figsize'] = (15, 5)\n",
    "plt.style.use('fivethirtyeight')"
   ]
  },
  {
   "cell_type": "code",
   "execution_count": 2,
   "metadata": {
    "colab": {
     "base_uri": "https://localhost:8080/"
    },
    "id": "ANoK_0NDHCO_",
    "outputId": "d78ab04f-de97-4604-cded-1771859a6875"
   },
   "outputs": [
    {
     "name": "stdout",
     "output_type": "stream",
     "text": [
      "The Shape of the Dataset : (161297, 6)\n"
     ]
    }
   ],
   "source": [
    "data = pd.read_csv('../Datasets/drugsComTrain_raw.tsv',sep='\\t')\n",
    "data = data.drop(data.columns[0], axis=1)\n",
    "print(\"The Shape of the Dataset :\", data.shape)"
   ]
  },
  {
   "cell_type": "code",
   "execution_count": 3,
   "metadata": {
    "colab": {
     "base_uri": "https://localhost:8080/",
     "height": 319
    },
    "id": "v_wDAOeEHHiq",
    "outputId": "c6f21904-5302-4688-9a3b-9d9ab88cfafd"
   },
   "outputs": [
    {
     "data": {
      "text/html": [
       "<div>\n",
       "<style scoped>\n",
       "    .dataframe tbody tr th:only-of-type {\n",
       "        vertical-align: middle;\n",
       "    }\n",
       "\n",
       "    .dataframe tbody tr th {\n",
       "        vertical-align: top;\n",
       "    }\n",
       "\n",
       "    .dataframe thead th {\n",
       "        text-align: right;\n",
       "    }\n",
       "</style>\n",
       "<table border=\"1\" class=\"dataframe\">\n",
       "  <thead>\n",
       "    <tr style=\"text-align: right;\">\n",
       "      <th></th>\n",
       "      <th>drugName</th>\n",
       "      <th>condition</th>\n",
       "      <th>review</th>\n",
       "      <th>rating</th>\n",
       "      <th>date</th>\n",
       "      <th>usefulCount</th>\n",
       "    </tr>\n",
       "  </thead>\n",
       "  <tbody>\n",
       "    <tr>\n",
       "      <th>0</th>\n",
       "      <td>Valsartan</td>\n",
       "      <td>Left Ventricular Dysfunction</td>\n",
       "      <td>\"It has no side effect, I take it in combinati...</td>\n",
       "      <td>9.0</td>\n",
       "      <td>May 20, 2012</td>\n",
       "      <td>27</td>\n",
       "    </tr>\n",
       "    <tr>\n",
       "      <th>1</th>\n",
       "      <td>Guanfacine</td>\n",
       "      <td>ADHD</td>\n",
       "      <td>\"My son is halfway through his fourth week of ...</td>\n",
       "      <td>8.0</td>\n",
       "      <td>April 27, 2010</td>\n",
       "      <td>192</td>\n",
       "    </tr>\n",
       "    <tr>\n",
       "      <th>2</th>\n",
       "      <td>Lybrel</td>\n",
       "      <td>Birth Control</td>\n",
       "      <td>\"I used to take another oral contraceptive, wh...</td>\n",
       "      <td>5.0</td>\n",
       "      <td>December 14, 2009</td>\n",
       "      <td>17</td>\n",
       "    </tr>\n",
       "    <tr>\n",
       "      <th>3</th>\n",
       "      <td>Ortho Evra</td>\n",
       "      <td>Birth Control</td>\n",
       "      <td>\"This is my first time using any form of birth...</td>\n",
       "      <td>8.0</td>\n",
       "      <td>November 3, 2015</td>\n",
       "      <td>10</td>\n",
       "    </tr>\n",
       "    <tr>\n",
       "      <th>4</th>\n",
       "      <td>Buprenorphine / naloxone</td>\n",
       "      <td>Opiate Dependence</td>\n",
       "      <td>\"Suboxone has completely turned my life around...</td>\n",
       "      <td>9.0</td>\n",
       "      <td>November 27, 2016</td>\n",
       "      <td>37</td>\n",
       "    </tr>\n",
       "  </tbody>\n",
       "</table>\n",
       "</div>"
      ],
      "text/plain": [
       "                   drugName                     condition  \\\n",
       "0                 Valsartan  Left Ventricular Dysfunction   \n",
       "1                Guanfacine                          ADHD   \n",
       "2                    Lybrel                 Birth Control   \n",
       "3                Ortho Evra                 Birth Control   \n",
       "4  Buprenorphine / naloxone             Opiate Dependence   \n",
       "\n",
       "                                              review  rating  \\\n",
       "0  \"It has no side effect, I take it in combinati...     9.0   \n",
       "1  \"My son is halfway through his fourth week of ...     8.0   \n",
       "2  \"I used to take another oral contraceptive, wh...     5.0   \n",
       "3  \"This is my first time using any form of birth...     8.0   \n",
       "4  \"Suboxone has completely turned my life around...     9.0   \n",
       "\n",
       "                date  usefulCount  \n",
       "0       May 20, 2012           27  \n",
       "1     April 27, 2010          192  \n",
       "2  December 14, 2009           17  \n",
       "3   November 3, 2015           10  \n",
       "4  November 27, 2016           37  "
      ]
     },
     "execution_count": 3,
     "metadata": {},
     "output_type": "execute_result"
    }
   ],
   "source": [
    "data.head()"
   ]
  },
  {
   "cell_type": "code",
   "execution_count": 4,
   "metadata": {
    "colab": {
     "base_uri": "https://localhost:8080/"
    },
    "id": "2z37wh1CHHle",
    "outputId": "38529769-c779-4630-d807-4170a1d73000"
   },
   "outputs": [
    {
     "name": "stdout",
     "output_type": "stream",
     "text": [
      "Number of Unique Drugs present in the Dataset : 3436\n",
      "Number of Unique Medical Conditions present in the Dataset : 884\n",
      "\n",
      "The Time Period of Collecting the Data\n",
      "Starting Date : April 1, 2008\n",
      "Ending Date : September 9, 2017\n"
     ]
    }
   ],
   "source": [
    "# Explore Some of the Important Columns in the dataset\n",
    "\n",
    "print(\"Number of Unique Drugs present in the Dataset :\", data['drugName'].nunique())\n",
    "print(\"Number of Unique Medical Conditions present in the Dataset :\", data['condition'].nunique())\n",
    "\n",
    "print(\"\\nThe Time Period of Collecting the Data\")\n",
    "print(\"Starting Date :\", data['date'].min())\n",
    "print(\"Ending Date :\", data['date'].max())"
   ]
  },
  {
   "cell_type": "code",
   "execution_count": 5,
   "metadata": {
    "colab": {
     "base_uri": "https://localhost:8080/"
    },
    "id": "6QD7FOlEHZT6",
    "outputId": "7a83b0ba-7c38-4eb2-8844-5118e90b3e1d"
   },
   "outputs": [
    {
     "data": {
      "text/plain": [
       "condition\n",
       "Birth Control                              28788\n",
       "Depression                                  9069\n",
       "Pain                                        6145\n",
       "Anxiety                                     5904\n",
       "Acne                                        5588\n",
       "                                           ...  \n",
       "Radionuclide Myocardial Perfusion Study        1\n",
       "Rabies Prophylaxis                             1\n",
       "Q Feve                                         1\n",
       "Bartonellosis                                  1\n",
       "Anti NMDA Receptor Encephalitis                1\n",
       "Name: drugName, Length: 884, dtype: int64"
      ]
     },
     "execution_count": 5,
     "metadata": {},
     "output_type": "execute_result"
    }
   ],
   "source": [
    "# see how many reviews are there for every condition\n",
    "data.groupby('condition').count().sort_values(by='drugName',ascending=False)['drugName']"
   ]
  },
  {
   "cell_type": "code",
   "execution_count": 6,
   "metadata": {
    "id": "bXwrJZOoJaST"
   },
   "outputs": [],
   "source": [
    "def clean_condition(con):\n",
    "    if 'Depress' in con:\n",
    "        return 'Depression'\n",
    "    if 'Anxiety' in con:\n",
    "        return 'Anxiety'\n",
    "    if 'ADHD' in con:\n",
    "        return 'ADHD'\n",
    "    if 'Pain' in con:\n",
    "        return 'Pain'\n",
    "    if 'Insomnia' in con:\n",
    "        return 'Insomnia'\n",
    "    if 'Smok' in con:\n",
    "        return 'Smoking Cessation'\n",
    "    if 'Panic' in con:\n",
    "        return 'Panic Disorder'\n",
    "    if 'Sedation' in con:\n",
    "        return 'Sedation'\n",
    "    else: return con"
   ]
  },
  {
   "cell_type": "code",
   "execution_count": 7,
   "metadata": {
    "id": "q1rghaxSHaXh"
   },
   "outputs": [],
   "source": [
    "cleaned_condition = []\n",
    "for i in range(len(data['condition'])):\n",
    "    cleaned_condition.append(clean_condition(str(data['condition'][i])))"
   ]
  },
  {
   "cell_type": "code",
   "execution_count": 8,
   "metadata": {
    "id": "s_FnyvwcNbKH"
   },
   "outputs": [],
   "source": [
    "data['clean_condition'] = cleaned_condition"
   ]
  },
  {
   "cell_type": "code",
   "execution_count": 9,
   "metadata": {
    "colab": {
     "base_uri": "https://localhost:8080/"
    },
    "id": "Dc_4dPBWNfhw",
    "outputId": "fb4d6ebb-f118-43fb-d8f9-14430b7bb8ed"
   },
   "outputs": [
    {
     "data": {
      "text/plain": [
       "clean_condition\n",
       "Birth Control                28788\n",
       "Depression                   10773\n",
       "Anxiety                       9314\n",
       "Pain                          8820\n",
       "Acne                          5588\n",
       "Bipolar Disorde               4224\n",
       "Insomnia                      3700\n",
       "Weight Loss                   3609\n",
       "Obesity                       3568\n",
       "ADHD                          3383\n",
       "Diabetes, Type 2              2554\n",
       "Emergency Contraception       2463\n",
       "High Blood Pressure           2321\n",
       "Vaginal Yeast Infection       2274\n",
       "Abnormal Uterine Bleeding     2096\n",
       "Bowel Preparation             1859\n",
       "ibromyalgia                   1791\n",
       "Smoking Cessation             1780\n",
       "Migraine                      1694\n",
       "Constipation                  1595\n",
       "Panic Disorder                1463\n",
       "Migraine Prevention           1413\n",
       "Urinary Tract Infection       1316\n",
       "Muscle Spasm                  1244\n",
       "Osteoarthritis                1239\n",
       "Erectile Dysfunction          1086\n",
       "Opiate Dependence             1079\n",
       "Irritable Bowel Syndrome      1014\n",
       "Rheumatoid Arthritis           995\n",
       "Name: drugName, dtype: int64"
      ]
     },
     "execution_count": 9,
     "metadata": {},
     "output_type": "execute_result"
    }
   ],
   "source": [
    "condition_name = data.groupby('clean_condition').count().sort_values(by='drugName',ascending=False).head(29)['drugName']\n",
    "condition_name"
   ]
  },
  {
   "cell_type": "code",
   "execution_count": null,
   "metadata": {
    "colab": {
     "base_uri": "https://localhost:8080/"
    },
    "id": "vH_y2N9zQ5No",
    "outputId": "c2bec854-8cf3-4205-e67e-ebc62dada446"
   },
   "outputs": [],
   "source": []
  },
  {
   "cell_type": "code",
   "execution_count": 10,
   "metadata": {
    "id": "lxSM7Z3CRZDO"
   },
   "outputs": [],
   "source": [
    "condition_list=list(condition_name.index)"
   ]
  },
  {
   "cell_type": "code",
   "execution_count": 11,
   "metadata": {
    "id": "dGBAQLphVWfb"
   },
   "outputs": [],
   "source": [
    "data_new = data.loc[data['clean_condition'].isin(condition_list)]"
   ]
  },
  {
   "cell_type": "code",
   "execution_count": 12,
   "metadata": {
    "colab": {
     "base_uri": "https://localhost:8080/",
     "height": 641
    },
    "id": "AuP0qMvKVdKV",
    "outputId": "b7d3626e-0eb4-48ee-f592-6758c27cb7af"
   },
   "outputs": [
    {
     "data": {
      "text/html": [
       "<div>\n",
       "<style scoped>\n",
       "    .dataframe tbody tr th:only-of-type {\n",
       "        vertical-align: middle;\n",
       "    }\n",
       "\n",
       "    .dataframe tbody tr th {\n",
       "        vertical-align: top;\n",
       "    }\n",
       "\n",
       "    .dataframe thead th {\n",
       "        text-align: right;\n",
       "    }\n",
       "</style>\n",
       "<table border=\"1\" class=\"dataframe\">\n",
       "  <thead>\n",
       "    <tr style=\"text-align: right;\">\n",
       "      <th></th>\n",
       "      <th>drugName</th>\n",
       "      <th>condition</th>\n",
       "      <th>review</th>\n",
       "      <th>rating</th>\n",
       "      <th>date</th>\n",
       "      <th>usefulCount</th>\n",
       "      <th>clean_condition</th>\n",
       "    </tr>\n",
       "  </thead>\n",
       "  <tbody>\n",
       "    <tr>\n",
       "      <th>1</th>\n",
       "      <td>Guanfacine</td>\n",
       "      <td>ADHD</td>\n",
       "      <td>\"My son is halfway through his fourth week of ...</td>\n",
       "      <td>8.0</td>\n",
       "      <td>April 27, 2010</td>\n",
       "      <td>192</td>\n",
       "      <td>ADHD</td>\n",
       "    </tr>\n",
       "    <tr>\n",
       "      <th>2</th>\n",
       "      <td>Lybrel</td>\n",
       "      <td>Birth Control</td>\n",
       "      <td>\"I used to take another oral contraceptive, wh...</td>\n",
       "      <td>5.0</td>\n",
       "      <td>December 14, 2009</td>\n",
       "      <td>17</td>\n",
       "      <td>Birth Control</td>\n",
       "    </tr>\n",
       "    <tr>\n",
       "      <th>3</th>\n",
       "      <td>Ortho Evra</td>\n",
       "      <td>Birth Control</td>\n",
       "      <td>\"This is my first time using any form of birth...</td>\n",
       "      <td>8.0</td>\n",
       "      <td>November 3, 2015</td>\n",
       "      <td>10</td>\n",
       "      <td>Birth Control</td>\n",
       "    </tr>\n",
       "    <tr>\n",
       "      <th>4</th>\n",
       "      <td>Buprenorphine / naloxone</td>\n",
       "      <td>Opiate Dependence</td>\n",
       "      <td>\"Suboxone has completely turned my life around...</td>\n",
       "      <td>9.0</td>\n",
       "      <td>November 27, 2016</td>\n",
       "      <td>37</td>\n",
       "      <td>Opiate Dependence</td>\n",
       "    </tr>\n",
       "    <tr>\n",
       "      <th>6</th>\n",
       "      <td>Levonorgestrel</td>\n",
       "      <td>Emergency Contraception</td>\n",
       "      <td>\"He pulled out, but he cummed a bit in me. I t...</td>\n",
       "      <td>1.0</td>\n",
       "      <td>March 7, 2017</td>\n",
       "      <td>5</td>\n",
       "      <td>Emergency Contraception</td>\n",
       "    </tr>\n",
       "    <tr>\n",
       "      <th>...</th>\n",
       "      <td>...</td>\n",
       "      <td>...</td>\n",
       "      <td>...</td>\n",
       "      <td>...</td>\n",
       "      <td>...</td>\n",
       "      <td>...</td>\n",
       "      <td>...</td>\n",
       "    </tr>\n",
       "    <tr>\n",
       "      <th>161286</th>\n",
       "      <td>Vortioxetine</td>\n",
       "      <td>Depression</td>\n",
       "      <td>\"This is the third med I&amp;#039;ve tried for anx...</td>\n",
       "      <td>2.0</td>\n",
       "      <td>July 17, 2016</td>\n",
       "      <td>33</td>\n",
       "      <td>Depression</td>\n",
       "    </tr>\n",
       "    <tr>\n",
       "      <th>161287</th>\n",
       "      <td>Ativan</td>\n",
       "      <td>Anxiety</td>\n",
       "      <td>\"I was super against taking medication. I&amp;#039...</td>\n",
       "      <td>9.0</td>\n",
       "      <td>August 16, 2016</td>\n",
       "      <td>61</td>\n",
       "      <td>Anxiety</td>\n",
       "    </tr>\n",
       "    <tr>\n",
       "      <th>161290</th>\n",
       "      <td>Tekturna</td>\n",
       "      <td>High Blood Pressure</td>\n",
       "      <td>\"I have only been on Tekturna for 9 days. The ...</td>\n",
       "      <td>7.0</td>\n",
       "      <td>February 7, 2010</td>\n",
       "      <td>18</td>\n",
       "      <td>High Blood Pressure</td>\n",
       "    </tr>\n",
       "    <tr>\n",
       "      <th>161291</th>\n",
       "      <td>Junel 1.5 / 30</td>\n",
       "      <td>Birth Control</td>\n",
       "      <td>\"This would be my second month on Junel. I&amp;#03...</td>\n",
       "      <td>6.0</td>\n",
       "      <td>May 27, 2015</td>\n",
       "      <td>0</td>\n",
       "      <td>Birth Control</td>\n",
       "    </tr>\n",
       "    <tr>\n",
       "      <th>161294</th>\n",
       "      <td>Orencia</td>\n",
       "      <td>Rheumatoid Arthritis</td>\n",
       "      <td>\"Limited improvement after 4 months, developed...</td>\n",
       "      <td>2.0</td>\n",
       "      <td>March 15, 2014</td>\n",
       "      <td>35</td>\n",
       "      <td>Rheumatoid Arthritis</td>\n",
       "    </tr>\n",
       "  </tbody>\n",
       "</table>\n",
       "<p>113043 rows × 7 columns</p>\n",
       "</div>"
      ],
      "text/plain": [
       "                        drugName                condition  \\\n",
       "1                     Guanfacine                     ADHD   \n",
       "2                         Lybrel            Birth Control   \n",
       "3                     Ortho Evra            Birth Control   \n",
       "4       Buprenorphine / naloxone        Opiate Dependence   \n",
       "6                 Levonorgestrel  Emergency Contraception   \n",
       "...                          ...                      ...   \n",
       "161286              Vortioxetine               Depression   \n",
       "161287                    Ativan                  Anxiety   \n",
       "161290                  Tekturna      High Blood Pressure   \n",
       "161291            Junel 1.5 / 30            Birth Control   \n",
       "161294                   Orencia     Rheumatoid Arthritis   \n",
       "\n",
       "                                                   review  rating  \\\n",
       "1       \"My son is halfway through his fourth week of ...     8.0   \n",
       "2       \"I used to take another oral contraceptive, wh...     5.0   \n",
       "3       \"This is my first time using any form of birth...     8.0   \n",
       "4       \"Suboxone has completely turned my life around...     9.0   \n",
       "6       \"He pulled out, but he cummed a bit in me. I t...     1.0   \n",
       "...                                                   ...     ...   \n",
       "161286  \"This is the third med I&#039;ve tried for anx...     2.0   \n",
       "161287  \"I was super against taking medication. I&#039...     9.0   \n",
       "161290  \"I have only been on Tekturna for 9 days. The ...     7.0   \n",
       "161291  \"This would be my second month on Junel. I&#03...     6.0   \n",
       "161294  \"Limited improvement after 4 months, developed...     2.0   \n",
       "\n",
       "                     date  usefulCount          clean_condition  \n",
       "1          April 27, 2010          192                     ADHD  \n",
       "2       December 14, 2009           17            Birth Control  \n",
       "3        November 3, 2015           10            Birth Control  \n",
       "4       November 27, 2016           37        Opiate Dependence  \n",
       "6           March 7, 2017            5  Emergency Contraception  \n",
       "...                   ...          ...                      ...  \n",
       "161286      July 17, 2016           33               Depression  \n",
       "161287    August 16, 2016           61                  Anxiety  \n",
       "161290   February 7, 2010           18      High Blood Pressure  \n",
       "161291       May 27, 2015            0            Birth Control  \n",
       "161294     March 15, 2014           35     Rheumatoid Arthritis  \n",
       "\n",
       "[113043 rows x 7 columns]"
      ]
     },
     "execution_count": 12,
     "metadata": {},
     "output_type": "execute_result"
    }
   ],
   "source": [
    "data_new"
   ]
  },
  {
   "cell_type": "code",
   "execution_count": 13,
   "metadata": {
    "colab": {
     "base_uri": "https://localhost:8080/"
    },
    "id": "RpLX1omIPgb_",
    "outputId": "b34f5dd7-4511-4aba-b626-b4bf972d81ab"
   },
   "outputs": [
    {
     "data": {
      "text/plain": [
       "drugName           0\n",
       "condition          0\n",
       "review             0\n",
       "rating             0\n",
       "date               0\n",
       "usefulCount        0\n",
       "clean_condition    0\n",
       "dtype: int64"
      ]
     },
     "execution_count": 13,
     "metadata": {},
     "output_type": "execute_result"
    }
   ],
   "source": [
    "# check for Missing Values\n",
    "data_new.isnull().sum()"
   ]
  },
  {
   "cell_type": "code",
   "execution_count": 14,
   "metadata": {
    "colab": {
     "base_uri": "https://localhost:8080/"
    },
    "id": "lzWk1cTUoP7A",
    "outputId": "e5e4d1f2-7fbb-452b-dbc4-4e98b78aa830"
   },
   "outputs": [
    {
     "data": {
      "text/plain": [
       "0"
      ]
     },
     "execution_count": 14,
     "metadata": {},
     "output_type": "execute_result"
    }
   ],
   "source": [
    "data_new = data_new.dropna()\n",
    "data_new.isnull().sum().sum()"
   ]
  },
  {
   "cell_type": "code",
   "execution_count": 15,
   "metadata": {
    "colab": {
     "base_uri": "https://localhost:8080/"
    },
    "id": "imbX6x8JrU6j",
    "outputId": "66865b09-1a39-437e-cdbe-d144cb9a49b7"
   },
   "outputs": [
    {
     "data": {
      "text/plain": [
       "(113043, 7)"
      ]
     },
     "execution_count": 15,
     "metadata": {},
     "output_type": "execute_result"
    }
   ],
   "source": [
    "data_new.shape"
   ]
  },
  {
   "cell_type": "code",
   "execution_count": 16,
   "metadata": {
    "colab": {
     "base_uri": "https://localhost:8080/"
    },
    "id": "tzobDwzPTRc9",
    "outputId": "03fcb40f-ac0b-462c-fa59-9e1ba312b6ac"
   },
   "outputs": [
    {
     "name": "stdout",
     "output_type": "stream",
     "text": [
      "The Shape of the Dataset : (113043, 7)\n"
     ]
    }
   ],
   "source": [
    "print(\"The Shape of the Dataset :\", data_new.shape)"
   ]
  },
  {
   "cell_type": "markdown",
   "metadata": {
    "id": "tzVHftiopb1g"
   },
   "source": [
    "## EDA"
   ]
  },
  {
   "cell_type": "markdown",
   "metadata": {
    "id": "4aziLqkLpmXu"
   },
   "source": [
    "### Distribution"
   ]
  },
  {
   "cell_type": "code",
   "execution_count": 17,
   "metadata": {
    "colab": {
     "base_uri": "https://localhost:8080/",
     "height": 400
    },
    "id": "ZLNdn4ZdoTCq",
    "outputId": "d4a52491-2827-44ab-e2d4-9fb0f588adfa"
   },
   "outputs": [
    {
     "name": "stderr",
     "output_type": "stream",
     "text": [
      "/home/teja/anaconda3/lib/python3.9/site-packages/seaborn/distributions.py:2619: FutureWarning: `distplot` is a deprecated function and will be removed in a future version. Please adapt your code to use either `displot` (a figure-level function with similar flexibility) or `histplot` (an axes-level function for histograms).\n",
      "  warnings.warn(msg, FutureWarning)\n",
      "/home/teja/anaconda3/lib/python3.9/site-packages/seaborn/distributions.py:2619: FutureWarning: `distplot` is a deprecated function and will be removed in a future version. Please adapt your code to use either `displot` (a figure-level function with similar flexibility) or `histplot` (an axes-level function for histograms).\n",
      "  warnings.warn(msg, FutureWarning)\n"
     ]
    },
    {
     "data": {
      "image/png": "[encoded data removed]",
      "text/plain": [
       "<Figure size 1080x288 with 2 Axes>"
      ]
     },
     "metadata": {},
     "output_type": "display_data"
    }
   ],
   "source": [
    "# check the Distribution of Rating and Useful Count\n",
    "\n",
    "plt.rcParams['figure.figsize'] = (15, 4)\n",
    "\n",
    "plt.subplot(1, 2, 1)\n",
    "sns.distplot(data_new['rating'], bins=10)\n",
    "\n",
    "plt.subplot(1, 2, 2)\n",
    "sns.distplot(data_new['usefulCount'])\n",
    "\n",
    "plt.suptitle('Distribution of Rating and Useful Count \\n ', fontsize = 20)\n",
    "plt.show()"
   ]
  },
  {
   "cell_type": "code",
   "execution_count": 18,
   "metadata": {
    "colab": {
     "base_uri": "https://localhost:8080/",
     "height": 325
    },
    "id": "S3kgkuISPgen",
    "outputId": "013e62f8-0fea-4173-9f12-fc9927836185"
   },
   "outputs": [
    {
     "name": "stdout",
     "output_type": "stream",
     "text": [
      "Length of Longest Review 10787\n"
     ]
    },
    {
     "data": {
      "text/plain": [
       "'\"Two and a half months ago I was prescribed Venlafaxine to help prevent chronic migraines.\\r\\nIt did help the migraines (reduced them by almost half), but with it came a host of side effects that were far worse than the problem I was trying to get rid of.\\r\\nHaving now come off of the stuff, I would not recommend anyone ever use Venlafaxine unless they suffer from extreme / suicidal depression. I mean extreme in the most emphatic sense of the word. \\r\\nBefore trying Venlafaxine, I was a writer. While on Venlafaxine, I could barely write or speak or communicate at all. More than that, I just didn&#039;t want to. Not normal for a usually outgoing extrovert.\\r\\nNow, I&#039;m beginning to write again - but my ability to speak and converse with others has deteriorated by about 95%. Writing these words is taking forever; keeping up in conversation with even one person is impossible, and I barely see the point of trying either. On Venlafaxine, words pretty much left me - my conversational vocabulary  was whittled down to the following:\\r\\n&quot;Mmm&quot; for yes; a sharp and clipped &quot;Mm&quot; for &quot;No&quot;\\r\\n&quot;Okay.&quot;\\r\\n&quot;Really?&quot;\\r\\n&quot;Oh right.&quot;\\r\\n&quot;Cool.&quot;\\r\\n&quot;That sucks&quot;\\r\\nAt the moment, I&#039;m a week into withdrawal, and I have to try extremely hard just to make the most mundane small talk. Last night I went to a party with some close friends, cheesy &#039;90s music, and a barbecue. About half of them are academics, and I couldn&#039;t keep up with conversations I normally would be able to; the other half like to dance and party, but I felt glued to my seat (as well as practically mute) and eventually walked off and found a quiet sofa to lie down on.\\r\\nI have never felt so isolated and lonely in my life. Thanks Venlafaxine.\\r\\nIf you consider yourself a social, creative, and curious person, DO NOT TAKE EVEN ONE DOSE OF VENLAFAXINE. Unless of course you are extremely extremely depressed. I&#039;ve suffered from depression in the past, but only mildly. Venlafaxine has shown me what true depression feels like.\\r\\nAs for the other side effects:\\r\\n- About two days&#039; worth of total joyful euphoria during the first 48 hours of taking Venlafaxine. Anxiety of all kinds evaporated. This felt amazing - although I can&#039;t remember what it felt like now. At the time, this extremely brief effect was powerful enough to make me feel that pushing on with Venlafaxine would be a Good Idea.\\r\\n- After that, I started feeling very sleepy. All the time. I slept more. No euphoria; more anxiety.\\r\\n- A week later, the night sweats started. My room was pretty cold (it was only spring in the UK), but I sweated more than I ever have on any tropical holiday. This meant that despite being extremely sleepy, I couldn&#039;t sleep.\\r\\nSince the side effects were supposed to wear off after six weeks or so, I stuck with Venlafaxine for six weeks. Over that time I became so sleep deprived that I lived in a state of permanent exhaustion.\\r\\nEnter the writer&#039;s worst enemy: Brain fog. I spent entire days so braindead that the most challenging thing I could manage was staring blankly at a wall - or lifting my phone to read text messages and attempt to learn something from articles about Venlafaxine. I&#039;ve read the same articles countless times, but nothing sank in; every time I read the same article it felt like I was reading it for the first time. I recognised the layout and design of each webpage, and that way I was able to realise I&#039;d read it before, but the actual text went in one eye and out the other.\\r\\nIn conversation, I had a brain like a sieve. Words went in one ear and out the other. Normally, I could pump out a lot of writing on a regular basis; on Venlafaxine, I wrote a small and frankly pitiful handful of short and uninspired pieces, and that was it. If you love being productive and creative, do not go near Venlafaxine.\\r\\nThe above was my life for six weeks - and that was enough. I did see family and friends while on Venlafaxine, but I constantly forgot what was going on and must have seemed scatterbrained or borderline retarded at times. Although I did explain to people what was going on with my medication, it just seemed to make people uncomfortable - and I&#039;ve now become the butt of a lot of jokes relating to my consistent uselessness at everything from chatting to party games and my inability to work or do anything productive. Someone even compared me to Lenny from Of Mice And Men and asked when my family were going to take me into the back garden and shoot me in the head rather than continue to care for me. All of this contributed to the worst feeling of loneliness and isolation I have ever experienced in my life.\\r\\nVenlafaxine not only trapped me inside my head - it also emptied my head of anything worth remembering, and left me barely able to learn new things. \\r\\nI&#039;d sit around tables with people and realise I couldn&#039;t remember the names of people I&#039;d know for years - or even family members. \\r\\nI&#039;d hear a song playing and say &quot;Hey - what&#039;s the name of this dance?&quot;\\r\\nAny sentence longer than a few words requires a minute or so to compose when written. Spoken out loud? Forget about it. When I try to speak, I sound like the Goon from Popeye.\\r\\nAfter six weeks of hell, my doctor and I agreed to taper off my 75mg daily dose. This process lasted a month, not following a particular schedule (which might have been a better idea), and was mostly side effect free until I came down to 18.25mg a day - one half of one 37.5mg tablet.\\r\\nAfter three days of that, it really hit the fan. I got up one day, pottered around a bit, and suddenly decided that I wanted to kill myself. Literally out of nowhere.\\r\\nFortunately I was of sound enough mind to call the Samaritans, who recommended I call the emergency services, who sent an ambulance to take me to hospital. For suicidal thoughts. \\r\\nTo be honest, I&#039;d rather have gone to Disneyland.\\r\\nOnce I was in A&amp;E, I got to wait for several hours, just stewing in a room with a sofa and not much else. Then I met the most useless doctor of all time. After I refused his suggestion that I not only go back on Venlafaxine, but *try a higher dose* than the one that got me into this mess in the first place, he said there wasn&#039;t anything else they could do - and handed me a little leaflet for a local mental health charity meetup that happens every so often.\\r\\nBy this point I&#039;d decided that suicide would not be the best option - and nor would going on even more Venlafaxine than before. I also binned the leaflet on my way out, determined to keep going and just deal with the withdrawal.\\r\\nSince that time, my intelligence level has plummeted to the point of being humiliating. But that&#039;s not even the worst of it.\\r\\nAs I mentioned before, I started taking Venlafaxine for migraines. Now that I&#039;m not taking it, they&#039;re coming back again - but they&#039;ve also changed.\\r\\nA few days ago, days before the party I should probably have stayed home for only I couldn&#039;t stand sitting at home any longer so I went and ended up alone in a darkened room and felt more depressed than I have in my entire life, I was at home when I collapsed. The right side of my body gave way, I hit the wall, and fell on the floor where I lay frozen for God knows how long. Then when I did get up, I realised I couldn&#039;t speak at all, the right side of my body was almost paralysed, and the right side of my head was numb on the outside, and in agony on the inside.\\r\\nAfter calling the emergency services again, I was taken through the standard questions I guess they ask everyone when they think the person in question is having a stroke. Like the suicidal thoughts, stroke symptoms were a new experience for me. Thanks, Venlafaxine.\\r\\nWhen the ambulance arrived, they were able to reassure me that I wasn&#039;t having a stroke, as one side of my face wasn&#039;t drooping. This was good news - but since they couldn&#039;t explain what was actually going on, I was taking to hospital for a brain scan and blood tests and a meeting with a doctor who told me I&#039;d had a right-sided hemiplegic migraine. I&#039;d never had one before, and didn&#039;t know they existed until then; my migraines have always felt like my head is both in a vice and exploding at the same time, and I get them across my whole head, not just one side.\\r\\nAt this point, I&#039;m determined to continue fighting the withdrawal symptoms. The only thing that&#039;s really helped me in doing this was the discovery of a cognitive distortion called &quot;emotional reasoning&quot;. This involves assuming that because you feel bad, things must actually be bad.\\r\\nObviously emotional reasoning (which is worth Googling as it&#039;s quite an in depth subject, or at least feels like it given that my brain&#039;s been hopefully temporarily damaged by Venlafaxine) is pretty common in depression. It&#039;s also been my brain&#039;s default way of operating possibly for as long as I can remember, but definitely since I started taking Venlafaxine. The emotional and physical and psychological rollercoaster Venlafaxine puts you through is utterly exhausting - and while it&#039;s throwing you all over the place and especially during withdrawal it&#039;s tough to keep in mind that a lot of the negative thoughts your mind throws up are going to be based on how you feel (i.e. the levels and mix of different chemicals in your brain), NOT on any Real Life Stuff. You&#039;ll most likely unintentionally filter out all the good stuff in your brain and only remember the darkest and worst things you possibly can, and attach all kinds of apparently logical arguments to make a case against yourself / a case that argues that you and your life are awful.\\r\\nLooking back on this experience, my thoughts were similar to one of those films you see advertised as &quot;...based on a true story&quot;. Works of fiction based very loosely on facts.\\r\\nRather than a film you&#039;d give two stars and never watch again, emotional reasoning&#039;s end product is a lie - not to mention the most toxic thoughts a human being can think. Depression can definitely make people tell these lies to themselves - but Venlafaxine made my brain malfunction so badly that putting together an apparently sensible argument for any depressive thoughts suddenly seemed like the most obvious thing in the world one day.\\r\\nIf I hadn&#039;t had those thoughts, I would&#039;ve just made lunch.\\r\\nSo that&#039;s about it for now - if I don&#039;t update this story in the future, assume I got better and decided to never revisit this page again, preferring to leave Venlafaxine and its horrific toxicity behind me. Good luck with your own journey :)\"'"
      ]
     },
     "execution_count": 18,
     "metadata": {},
     "output_type": "execute_result"
    }
   ],
   "source": [
    "# check the Highest Length Review\n",
    "data_new['len']  = data_new['review'].apply(len)\n",
    "print(\"Length of Longest Review\", data_new['len'].max())\n",
    "data_new['review'][data_new['len'] == data_new['len'].max()].iloc[0]"
   ]
  },
  {
   "cell_type": "markdown",
   "metadata": {
    "id": "8eso2qzCpwCX"
   },
   "source": [
    "### Total number of Reviews posted each day"
   ]
  },
  {
   "cell_type": "code",
   "execution_count": 19,
   "metadata": {
    "id": "BoUQ3x9isCIH"
   },
   "outputs": [],
   "source": [
    "data_new=data_new.sort_values(by='date')"
   ]
  },
  {
   "cell_type": "code",
   "execution_count": 20,
   "metadata": {
    "colab": {
     "base_uri": "https://localhost:8080/"
    },
    "id": "ruFKXukps8gV",
    "outputId": "c19e6f25-0fc6-47f2-8268-d15e0f437a0b"
   },
   "outputs": [],
   "source": [
    "import pandas as pd\n",
    "import numpy as np\n",
    "import matplotlib.pyplot as plt\n",
    "import seaborn as sns\n",
    "from statsmodels.stats.proportion import proportions_chisquare\n",
    "from scipy.stats import chisquare\n",
    "import pickle\n",
    "from bs4 import BeautifulSoup\n",
    "from collections import defaultdict\n",
    "import requests\n",
    "from statsmodels.stats.multitest import fdrcorrection_twostage\n",
    "%matplotlib inline"
   ]
  },
  {
   "cell_type": "code",
   "execution_count": 21,
   "metadata": {
    "colab": {
     "base_uri": "https://localhost:8080/",
     "height": 283
    },
    "id": "KtmToamHpEah",
    "outputId": "4a7df2de-fa98-4114-c003-e885723d1cb4"
   },
   "outputs": [
    {
     "data": {
      "image/png": "[encoded data removed]",
      "text/plain": [
       "<Figure size 864x288 with 1 Axes>"
      ]
     },
     "metadata": {
      "needs_background": "light"
     },
     "output_type": "display_data"
    }
   ],
   "source": [
    "data['date'] = pd.to_datetime(data['date'])\n",
    "data.groupby('date').size().plot(figsize=(12,4))\n",
    "plt.ylabel('Number of reviews')\n",
    "plt.title(\"Number of reviews posting against date\",fontsize=10)\n",
    "plt.savefig(\"num_reviews_date.png\")"
   ]
  },
  {
   "cell_type": "markdown",
   "metadata": {
    "id": "bJ3rxJjdtXAu"
   },
   "source": [
    "### Total number of Reviews posted each month"
   ]
  },
  {
   "cell_type": "code",
   "execution_count": 22,
   "metadata": {
    "colab": {
     "base_uri": "https://localhost:8080/",
     "height": 408
    },
    "id": "VuVWK3Bsp9qj",
    "outputId": "e8019fce-50c4-47e4-d477-bb6e6379b750"
   },
   "outputs": [
    {
     "data": {
      "text/plain": [
       "<AxesSubplot:xlabel='month', ylabel='rating'>"
      ]
     },
     "execution_count": 22,
     "metadata": {},
     "output_type": "execute_result"
    },
    {
     "data": {
      "image/png": "[encoded data removed]",
      "text/plain": [
       "<Figure size 864x432 with 2 Axes>"
      ]
     },
     "metadata": {
      "needs_background": "light"
     },
     "output_type": "display_data"
    }
   ],
   "source": [
    "data['month'] = data['date'].apply(lambda x: x.month)\n",
    "\n",
    "plt.figure(figsize=(12,6))\n",
    "plt.subplot(1, 2, 1)\n",
    "data.groupby('month').size().plot(kind='bar')\n",
    "plt.ylabel('Number of Reviews')\n",
    "\n",
    "plt.subplot(1, 2, 2)\n",
    "sns.violinplot(data=data,x='month',y='rating')"
   ]
  },
  {
   "cell_type": "markdown",
   "metadata": {
    "id": "56f8AtbZuMiK"
   },
   "source": [
    "### Total number of Reviews for each condition"
   ]
  },
  {
   "cell_type": "code",
   "execution_count": 23,
   "metadata": {
    "colab": {
     "base_uri": "https://localhost:8080/",
     "height": 369
    },
    "id": "2a_qBhUZuKR5",
    "outputId": "b18b7dfc-f6d8-4516-ba27-4cbfdbaf7144"
   },
   "outputs": [
    {
     "data": {
      "image/png": "[encoded data removed]",
      "text/plain": [
       "<Figure size 1080x360 with 1 Axes>"
      ]
     },
     "metadata": {
      "needs_background": "light"
     },
     "output_type": "display_data"
    }
   ],
   "source": [
    "data_new['date'] = pd.to_datetime(data_new['date'])\n",
    "data_new['month'] = data_new['date'].apply(lambda x: x.month)\n",
    "df_con_mon = pd.DataFrame(data_new.groupby(['clean_condition','month']).size()).reset_index()\n",
    "\n",
    "df_con_mon_pivot = df_con_mon.pivot_table(index='clean_condition',columns='month',values=0)\n",
    "\n",
    "fig = plt.figure(figsize=(15,5))\n",
    "df_con_mon_pivot.sum(1).sort_values(ascending=False).iloc[:50].plot(kind='bar')\n",
    "plt.title(\"Number of Reviews against each conditions/diseases\",fontsize=15)\n",
    "plt.tight_layout()\n",
    "fig.autofmt_xdate(bottom=0.2, rotation=30, ha='right')\n",
    "plt.xticks(fontsize=10)\n",
    "\n",
    "plt.savefig(\"num_reviews_each_condition.png\")"
   ]
  },
  {
   "cell_type": "code",
   "execution_count": 24,
   "metadata": {
    "colab": {
     "base_uri": "https://localhost:8080/"
    },
    "id": "5keGxslAyVAc",
    "outputId": "01be4c3e-d9ca-43c5-96e7-8765fcc12129"
   },
   "outputs": [
    {
     "data": {
      "text/plain": [
       "clean_condition\n",
       "Birth Control                28788\n",
       "Depression                   10773\n",
       "Anxiety                       9314\n",
       "Pain                          8820\n",
       "Acne                          5588\n",
       "Bipolar Disorde               4224\n",
       "Insomnia                      3700\n",
       "Weight Loss                   3609\n",
       "Obesity                       3568\n",
       "ADHD                          3383\n",
       "Diabetes, Type 2              2554\n",
       "Emergency Contraception       2463\n",
       "High Blood Pressure           2321\n",
       "Vaginal Yeast Infection       2274\n",
       "Abnormal Uterine Bleeding     2096\n",
       "Bowel Preparation             1859\n",
       "ibromyalgia                   1791\n",
       "Smoking Cessation             1780\n",
       "Migraine                      1694\n",
       "Constipation                  1595\n",
       "Panic Disorder                1463\n",
       "Migraine Prevention           1413\n",
       "Urinary Tract Infection       1316\n",
       "Muscle Spasm                  1244\n",
       "Osteoarthritis                1239\n",
       "Erectile Dysfunction          1086\n",
       "Opiate Dependence             1079\n",
       "Irritable Bowel Syndrome      1014\n",
       "Rheumatoid Arthritis           995\n",
       "dtype: int64"
      ]
     },
     "execution_count": 24,
     "metadata": {},
     "output_type": "execute_result"
    }
   ],
   "source": [
    "df_con_mon_pivot.sum(1).sort_values(ascending=False)"
   ]
  },
  {
   "cell_type": "markdown",
   "metadata": {
    "id": "Nq1uZLTRycRW"
   },
   "source": [
    "### Total number of Reviews for each condition against each month"
   ]
  },
  {
   "cell_type": "code",
   "execution_count": 25,
   "metadata": {
    "colab": {
     "base_uri": "https://localhost:8080/",
     "height": 449
    },
    "id": "l8vJTY9GuOYH",
    "outputId": "301defc1-9862-4cd1-e8e4-b01208c99d47"
   },
   "outputs": [
    {
     "data": {
      "image/png": "[encoded data removed]",
      "text/plain": [
       "<Figure size 1080x504 with 1 Axes>"
      ]
     },
     "metadata": {
      "needs_background": "light"
     },
     "output_type": "display_data"
    }
   ],
   "source": [
    "n = 50\n",
    "top_n_index = df_con_mon_pivot.sum(1).sort_values(ascending=False).iloc[:n].index\n",
    "tm_con_mon_pivot = df_con_mon_pivot.loc[top_n_index]\n",
    "tm_con_mon_pivot_per = tm_con_mon_pivot.div(tm_con_mon_pivot.sum(1), axis=0)\n",
    "tm_con_mon_pivot_per.plot.bar(stacked=True, figsize=(15,7))\n",
    "plt.legend(loc='upper left', bbox_to_anchor=(1, 1))\n",
    "plt.title(\"Percentage of Reviews in each month\")\n",
    "plt.tight_layout()\n",
    "plt.savefig(\"Per_Reviews_month.png\")"
   ]
  },
  {
   "cell_type": "markdown",
   "metadata": {
    "id": "5EPBM6c3TXs7"
   },
   "source": [
    "### Number of reviews for the drugs for each condition"
   ]
  },
  {
   "cell_type": "code",
   "execution_count": 26,
   "metadata": {
    "colab": {
     "base_uri": "https://localhost:8080/"
    },
    "id": "p-FJFk1qTv3G",
    "outputId": "279bdc68-45a3-4e03-8be2-678a9d71edd1"
   },
   "outputs": [
    {
     "data": {
      "text/plain": [
       "drugName                            clean_condition        \n",
       "Etonogestrel                        Birth Control              3314\n",
       "Ethinyl estradiol / norethindrone   Birth Control              2337\n",
       "Nexplanon                           Birth Control              2149\n",
       "Levonorgestrel                      Birth Control              2129\n",
       "Ethinyl estradiol / levonorgestrel  Birth Control              1600\n",
       "Ethinyl estradiol / norgestimate    Birth Control              1580\n",
       "Levonorgestrel                      Emergency Contraception    1221\n",
       "Phentermine                         Weight Loss                1211\n",
       "Implanon                            Birth Control              1095\n",
       "Miconazole                          Vaginal Yeast Infection     997\n",
       "Mirena                              Birth Control               965\n",
       "Skyla                               Birth Control               822\n",
       "Varenicline                         Smoking Cessation           785\n",
       "Escitalopram                        Anxiety                     771\n",
       "Tioconazole                         Vaginal Yeast Infection     706\n",
       "Bupropion / naltrexone              Obesity                     678\n",
       "Lo Loestrin Fe                      Birth Control               667\n",
       "Bupropion                           Depression                  666\n",
       "Contrave                            Obesity                     649\n",
       "Chantix                             Smoking Cessation           633\n",
       "Name: usefulCount, dtype: int64"
      ]
     },
     "execution_count": 26,
     "metadata": {},
     "output_type": "execute_result"
    }
   ],
   "source": [
    "data_new[['clean_condition', 'drugName', 'usefulCount']].groupby(\n",
    "    ['drugName', 'clean_condition'])['usefulCount'].count().sort_values(ascending=False).head(20)"
   ]
  },
  {
   "cell_type": "code",
   "execution_count": 27,
   "metadata": {
    "colab": {
     "base_uri": "https://localhost:8080/"
    },
    "id": "P2yiHysNWhR5",
    "outputId": "91338370-5f65-4f11-e753-602ee31a1c48"
   },
   "outputs": [
    {
     "name": "stdout",
     "output_type": "stream",
     "text": [
      "Depression\n",
      "drugName\n",
      "Bupropion         666\n",
      "Venlafaxine       537\n",
      "Sertraline        527\n",
      "Vortioxetine      506\n",
      "Pristiq           444\n",
      "Desvenlafaxine    440\n",
      "Escitalopram      427\n",
      "Citalopram        406\n",
      "Trintellix        394\n",
      "Vilazodone        393\n",
      "Duloxetine        362\n",
      "Viibryd           361\n",
      "Zoloft            340\n",
      "Fluoxetine        338\n",
      "Cymbalta          334\n",
      "Lexapro           333\n",
      "Wellbutrin        261\n",
      "Mirtazapine       245\n",
      "Celexa            233\n",
      "Prozac            226\n",
      "Name: usefulCount, dtype: int64\n"
     ]
    }
   ],
   "source": [
    "# for depression\n",
    "print('Depression')\n",
    "print(data_new.loc[data_new['clean_condition']=='Depression'].groupby(\n",
    "    ['drugName'])['usefulCount'].count().sort_values(ascending=False).head(20))"
   ]
  },
  {
   "cell_type": "code",
   "execution_count": 28,
   "metadata": {
    "colab": {
     "base_uri": "https://localhost:8080/"
    },
    "id": "dQltJ8CbW1s9",
    "outputId": "3d1db5cd-7cea-40e2-887b-9e4db9d3952f"
   },
   "outputs": [
    {
     "data": {
      "text/plain": [
       "drugName\n",
       "Escitalopram    771\n",
       "Lexapro         577\n",
       "Citalopram      492\n",
       "Alprazolam      428\n",
       "Sertraline      423\n",
       "Buspirone       407\n",
       "Clonazepam      392\n",
       "Paroxetine      328\n",
       "Hydroxyzine     315\n",
       "Lorazepam       299\n",
       "Venlafaxine     295\n",
       "Xanax           283\n",
       "Propranolol     281\n",
       "Paxil           255\n",
       "Celexa          242\n",
       "BuSpar          233\n",
       "Fluoxetine      231\n",
       "Klonopin        229\n",
       "Diazepam        204\n",
       "Gabapentin      193\n",
       "Name: usefulCount, dtype: int64"
      ]
     },
     "execution_count": 28,
     "metadata": {},
     "output_type": "execute_result"
    }
   ],
   "source": [
    "# for anxiety\n",
    "data_new.loc[data_new['clean_condition']=='Anxiety'].groupby(\n",
    "    ['drugName'])['usefulCount'].count().sort_values(ascending=False).head(20)"
   ]
  },
  {
   "cell_type": "code",
   "execution_count": 29,
   "metadata": {
    "colab": {
     "base_uri": "https://localhost:8080/"
    },
    "id": "4H39qhyIXI-6",
    "outputId": "2069699a-e8ea-44db-ebce-fb9fb58f7443"
   },
   "outputs": [
    {
     "data": {
      "text/plain": [
       "drugName\n",
       "Zolpidem           477\n",
       "Trazodone          382\n",
       "Ambien             286\n",
       "Suvorexant         201\n",
       "Quetiapine         191\n",
       "Belsomra           189\n",
       "Temazepam          183\n",
       "Eszopiclone        162\n",
       "Doxepin            130\n",
       "Lunesta            128\n",
       "Mirtazapine        121\n",
       "Amitriptyline      109\n",
       "Melatonin          101\n",
       "Doxylamine          72\n",
       "Clonazepam          70\n",
       "Silenor             66\n",
       "Diphenhydramine     64\n",
       "Zaleplon            55\n",
       "Seroquel            47\n",
       "Lorazepam           46\n",
       "Name: usefulCount, dtype: int64"
      ]
     },
     "execution_count": 29,
     "metadata": {},
     "output_type": "execute_result"
    }
   ],
   "source": [
    "# for insomnia\n",
    "data_new.loc[data_new['clean_condition']=='Insomnia'].groupby(\n",
    "    ['drugName'])['usefulCount'].count().sort_values(ascending=False).head(20)"
   ]
  },
  {
   "cell_type": "code",
   "execution_count": 30,
   "metadata": {
    "colab": {
     "base_uri": "https://localhost:8080/"
    },
    "id": "3Oq3xjH8XPmG",
    "outputId": "345101f3-8789-4c28-f65c-5e8989fa784c"
   },
   "outputs": [
    {
     "data": {
      "text/plain": [
       "drugName\n",
       "Sertraline     206\n",
       "Clonazepam     189\n",
       "Alprazolam     168\n",
       "Zoloft         164\n",
       "Xanax          118\n",
       "Klonopin       113\n",
       "Paroxetine      64\n",
       "Buspirone       48\n",
       "Paxil           46\n",
       "Citalopram      43\n",
       "Fluoxetine      43\n",
       "Lorazepam       41\n",
       "Prozac          28\n",
       "BuSpar          25\n",
       "Venlafaxine     23\n",
       "Ativan          22\n",
       "Propranolol     17\n",
       "Effexor XR      16\n",
       "Xanax XR        13\n",
       "Imipramine      11\n",
       "Name: usefulCount, dtype: int64"
      ]
     },
     "execution_count": 30,
     "metadata": {},
     "output_type": "execute_result"
    }
   ],
   "source": [
    "# for panic disorder\n",
    "data_new.loc[data_new['clean_condition']=='Panic Disorder'].groupby(\n",
    "    ['drugName'])['usefulCount'].count().sort_values(ascending=False).head(20)"
   ]
  },
  {
   "cell_type": "markdown",
   "metadata": {
    "id": "gqWoMWxBWQra"
   },
   "source": [
    "Adding up the useful counts, we get a sense of how many people are viewing the reviews for the drug for each condition."
   ]
  },
  {
   "cell_type": "code",
   "execution_count": 31,
   "metadata": {
    "colab": {
     "base_uri": "https://localhost:8080/"
    },
    "id": "waOB7x26Tdcs",
    "outputId": "91d59cbe-c00f-47bf-8d02-d93715e68380"
   },
   "outputs": [
    {
     "data": {
      "text/plain": [
       "drugName      clean_condition\n",
       "Phentermine   Weight Loss        39137\n",
       "Bupropion     Depression         35294\n",
       "Escitalopram  Anxiety            30991\n",
       "Lexapro       Anxiety            29320\n",
       "Citalopram    Anxiety            28841\n",
       "Sertraline    Depression         24982\n",
       "Zoloft        Depression         24824\n",
       "Etonogestrel  Birth Control      21885\n",
       "Lorcaserin    Weight Loss        21707\n",
       "Belviq        Weight Loss        21440\n",
       "Vortioxetine  Depression         20974\n",
       "Buspirone     Anxiety            20364\n",
       "Trintellix    Depression         20211\n",
       "Trazodone     Insomnia           20092\n",
       "Celexa        Anxiety            20071\n",
       "BuSpar        Anxiety            19859\n",
       "Oxycodone     Pain               19841\n",
       "Lamotrigine   Bipolar Disorde    18463\n",
       "Escitalopram  Depression         18381\n",
       "Viibryd       Depression         18381\n",
       "Name: usefulCount, dtype: int64"
      ]
     },
     "execution_count": 31,
     "metadata": {},
     "output_type": "execute_result"
    }
   ],
   "source": [
    "data_new[['clean_condition', 'drugName','usefulCount']].groupby(\n",
    "    ['drugName', 'clean_condition'])['usefulCount'].sum().sort_values(ascending=False).head(20)"
   ]
  },
  {
   "cell_type": "code",
   "execution_count": 32,
   "metadata": {
    "colab": {
     "base_uri": "https://localhost:8080/"
    },
    "id": "c6nHHFAXWzG1",
    "outputId": "ff6a5733-6025-43a6-89bc-2464b9fe16f1"
   },
   "outputs": [
    {
     "data": {
      "text/plain": [
       "drugName\n",
       "Bupropion         35294\n",
       "Sertraline        24982\n",
       "Zoloft            24824\n",
       "Vortioxetine      20974\n",
       "Trintellix        20211\n",
       "Viibryd           18381\n",
       "Escitalopram      18381\n",
       "Wellbutrin        18107\n",
       "Vilazodone        17814\n",
       "Desvenlafaxine    17460\n",
       "Lexapro           17009\n",
       "Duloxetine        16785\n",
       "Pristiq           16636\n",
       "Venlafaxine       15584\n",
       "Citalopram        15543\n",
       "Fluoxetine        14382\n",
       "Cymbalta          14255\n",
       "Celexa            13074\n",
       "Prozac            12892\n",
       "Aripiprazole      10665\n",
       "Name: usefulCount, dtype: int64"
      ]
     },
     "execution_count": 32,
     "metadata": {},
     "output_type": "execute_result"
    }
   ],
   "source": [
    "# for depression\n",
    "data_new.loc[data_new['clean_condition']=='Depression'].groupby(\n",
    "    ['drugName'])['usefulCount'].sum().sort_values(ascending=False).head(20)"
   ]
  },
  {
   "cell_type": "code",
   "execution_count": 33,
   "metadata": {
    "colab": {
     "base_uri": "https://localhost:8080/"
    },
    "id": "yH7O44LCXD3V",
    "outputId": "150b16df-6842-40ac-fbc1-6b6c9751ecbb"
   },
   "outputs": [
    {
     "data": {
      "text/plain": [
       "drugName\n",
       "Escitalopram    30991\n",
       "Lexapro         29320\n",
       "Citalopram      28841\n",
       "Buspirone       20364\n",
       "Celexa          20071\n",
       "BuSpar          19859\n",
       "Fluoxetine      17933\n",
       "Sertraline      17746\n",
       "Alprazolam      16493\n",
       "Gabapentin      15729\n",
       "Clonazepam      15724\n",
       "Paroxetine      14279\n",
       "Klonopin        13946\n",
       "Prozac          13896\n",
       "Xanax           13722\n",
       "Paxil           13498\n",
       "Diazepam        13103\n",
       "Hydroxyzine     12152\n",
       "Venlafaxine     12079\n",
       "Lorazepam       11321\n",
       "Name: usefulCount, dtype: int64"
      ]
     },
     "execution_count": 33,
     "metadata": {},
     "output_type": "execute_result"
    }
   ],
   "source": [
    "# for anxiety\n",
    "data_new.loc[data_new['clean_condition']=='Anxiety'].groupby(\n",
    "    ['drugName'])['usefulCount'].sum().sort_values(ascending=False).head(20)"
   ]
  },
  {
   "cell_type": "code",
   "execution_count": 34,
   "metadata": {
    "colab": {
     "base_uri": "https://localhost:8080/"
    },
    "id": "vFRFPrrsXYUk",
    "outputId": "fa145e59-61f1-4300-e344-be87ab722da0"
   },
   "outputs": [
    {
     "data": {
      "text/plain": [
       "drugName\n",
       "Trazodone        20092\n",
       "Zolpidem         10345\n",
       "Ambien            8219\n",
       "Quetiapine        7292\n",
       "Amitriptyline     6445\n",
       "Mirtazapine       6265\n",
       "Temazepam         6091\n",
       "Doxepin           5430\n",
       "Suvorexant        4804\n",
       "Belsomra          4615\n",
       "Clonazepam        4402\n",
       "Eszopiclone       3615\n",
       "Lorazepam         3585\n",
       "Lunesta           3355\n",
       "Silenor           3249\n",
       "Melatonin         3104\n",
       "Restoril          2300\n",
       "Doxylamine        2249\n",
       "Gabapentin        2114\n",
       "Seroquel          1729\n",
       "Name: usefulCount, dtype: int64"
      ]
     },
     "execution_count": 34,
     "metadata": {},
     "output_type": "execute_result"
    }
   ],
   "source": [
    "# for insomnia\n",
    "data_new.loc[data_new['clean_condition']=='Insomnia'].groupby(\n",
    "    ['drugName'])['usefulCount'].sum().sort_values(ascending=False).head(20)"
   ]
  },
  {
   "cell_type": "code",
   "execution_count": 35,
   "metadata": {
    "colab": {
     "base_uri": "https://localhost:8080/"
    },
    "id": "WH0aoHWVXZ6E",
    "outputId": "4f73718e-2d6f-482a-f551-48dd5a1c9223"
   },
   "outputs": [
    {
     "data": {
      "text/plain": [
       "drugName\n",
       "Sertraline     8516\n",
       "Zoloft         7797\n",
       "Clonazepam     7171\n",
       "Alprazolam     6929\n",
       "Klonopin       6544\n",
       "Xanax          6317\n",
       "Buspirone      2261\n",
       "Fluoxetine     2003\n",
       "Prozac         1928\n",
       "Lorazepam      1886\n",
       "Citalopram     1693\n",
       "Paroxetine     1678\n",
       "BuSpar         1537\n",
       "Paxil          1437\n",
       "Ativan         1093\n",
       "Venlafaxine     627\n",
       "Effexor XR      597\n",
       "Imipramine      544\n",
       "Xanax XR        517\n",
       "Propranolol     472\n",
       "Name: usefulCount, dtype: int64"
      ]
     },
     "execution_count": 35,
     "metadata": {},
     "output_type": "execute_result"
    }
   ],
   "source": [
    "# for panic disorder\n",
    "data_new.loc[data_new['clean_condition']=='Panic Disorder'].groupby(\n",
    "    ['drugName'])['usefulCount'].sum().sort_values(ascending=False).head(20)"
   ]
  },
  {
   "cell_type": "markdown",
   "metadata": {
    "id": "TJzF7pU0zvdN"
   },
   "source": [
    "### Average ratings of Drugs"
   ]
  },
  {
   "cell_type": "code",
   "execution_count": 36,
   "metadata": {
    "colab": {
     "base_uri": "https://localhost:8080/"
    },
    "id": "uDW5OzR7OwHC",
    "outputId": "ae2bfdb7-f926-48b6-f220-56255e477548"
   },
   "outputs": [
    {
     "data": {
      "text/plain": [
       "drugName                            clean_condition        \n",
       "Salicylic acid / sulfur             Acne                       10.0\n",
       "Fleet Glycerin Suppositories Adult  Constipation               10.0\n",
       "Phosphasal                          Urinary Tract Infection    10.0\n",
       "Aspirin / caffeine                  Pain                       10.0\n",
       "Feverall                            Pain                       10.0\n",
       "Plan B                              Birth Control              10.0\n",
       "Fastin                              Obesity                    10.0\n",
       "Plendil                             High Blood Pressure        10.0\n",
       "Exubera                             Diabetes, Type 2           10.0\n",
       "Exparel                             Pain                       10.0\n",
       "Exforge HCT                         High Blood Pressure        10.0\n",
       "Prednicot                           Rheumatoid Arthritis       10.0\n",
       "ProCentra                           ADHD                       10.0\n",
       "Provera                             Birth Control              10.0\n",
       "Vicodin                             Rheumatoid Arthritis       10.0\n",
       "Ethchlorvynol                       Insomnia                   10.0\n",
       "Eskalith-CR                         Bipolar Disorde            10.0\n",
       "Erythromycin                        Acne                       10.0\n",
       "Auranofin                           Rheumatoid Arthritis       10.0\n",
       "Ery Pads                            Acne                       10.0\n",
       "Name: rating, dtype: float64"
      ]
     },
     "execution_count": 36,
     "metadata": {},
     "output_type": "execute_result"
    }
   ],
   "source": [
    "data_new[['clean_condition', 'drugName','rating']].groupby(\n",
    "    ['drugName', 'clean_condition'])['rating'].mean().sort_values(ascending=False).head(20)"
   ]
  },
  {
   "cell_type": "code",
   "execution_count": 37,
   "metadata": {
    "colab": {
     "base_uri": "https://localhost:8080/"
    },
    "id": "qZNv0ev8X94A",
    "outputId": "6b054799-001a-49fa-8893-4ea0a6385244"
   },
   "outputs": [
    {
     "data": {
      "text/plain": [
       "drugName\n",
       "Niravam                             10.000000\n",
       "Norpramin                           10.000000\n",
       "Prozac Weekly                       10.000000\n",
       "Ludiomil                            10.000000\n",
       "Maprotiline                         10.000000\n",
       "Asendin                             10.000000\n",
       "Xanax XR                            10.000000\n",
       "Desipramine                          9.857143\n",
       "Niacin                               9.857143\n",
       "Amitriptyline / chlordiazepoxide     9.666667\n",
       "Serzone                              9.666667\n",
       "Methylin ER                          9.500000\n",
       "Limbitrol                            9.500000\n",
       "Amoxapine                            9.500000\n",
       "Luvox                                9.333333\n",
       "Tramadol                             9.288462\n",
       "Clomipramine                         9.181818\n",
       "Xanax                                9.166667\n",
       "Methylphenidate                      9.160000\n",
       "Alprazolam                           9.081967\n",
       "Name: rating, dtype: float64"
      ]
     },
     "execution_count": 37,
     "metadata": {},
     "output_type": "execute_result"
    }
   ],
   "source": [
    "# for depression\n",
    "data_new.loc[data_new['clean_condition']=='Depression'].groupby(\n",
    "    ['drugName'])['rating'].mean().sort_values(ascending=False).head(20)"
   ]
  },
  {
   "cell_type": "code",
   "execution_count": 38,
   "metadata": {
    "colab": {
     "base_uri": "https://localhost:8080/"
    },
    "id": "rZxxfQbOMvh2",
    "outputId": "98d7add6-d2c7-4e9e-e3fe-5b6870eaab6c"
   },
   "outputs": [
    {
     "data": {
      "text/plain": [
       "drugName\n",
       "Alprazolam Intensol                 10.000000\n",
       "Micrainin                           10.000000\n",
       "Zetran                              10.000000\n",
       "Pexeva                              10.000000\n",
       "Phenytoin                           10.000000\n",
       "Diazepam Intensol                   10.000000\n",
       "Wellbutrin                          10.000000\n",
       "Luvox CR                            10.000000\n",
       "Risperdal                           10.000000\n",
       "Tranxene SD                         10.000000\n",
       "Lorazepam Intensol                  10.000000\n",
       "Elavil                               9.888889\n",
       "Prazosin                             9.833333\n",
       "Niravam                              9.800000\n",
       "Amitriptyline / chlordiazepoxide     9.666667\n",
       "Klonopin Wafer                       9.600000\n",
       "Triavil                              9.500000\n",
       "Limbitrol DS                         9.500000\n",
       "Amitriptyline / perphenazine         9.500000\n",
       "Tramadol                             9.454545\n",
       "Name: rating, dtype: float64"
      ]
     },
     "execution_count": 38,
     "metadata": {},
     "output_type": "execute_result"
    }
   ],
   "source": [
    "# for anxiety\n",
    "data_new.loc[data_new['clean_condition']=='Anxiety'].groupby(\n",
    "    ['drugName'])['rating'].mean().sort_values(ascending=False).head(20)"
   ]
  },
  {
   "cell_type": "code",
   "execution_count": 39,
   "metadata": {
    "colab": {
     "base_uri": "https://localhost:8080/"
    },
    "id": "mAwG70WnYSw7",
    "outputId": "acd9a833-f20e-4dc4-a0c2-fdddc143d490"
   },
   "outputs": [
    {
     "data": {
      "text/plain": [
       "drugName\n",
       "Pentobarbital                 10.000000\n",
       "Seconal Sodium                10.000000\n",
       "Seconal                       10.000000\n",
       "Secobarbital                  10.000000\n",
       "Ethchlorvynol                 10.000000\n",
       "Tryptophan                     9.750000\n",
       "Intermezzo                     9.666667\n",
       "Dimenhydrinate                 9.666667\n",
       "Quazepam                       9.600000\n",
       "Somnote                        9.500000\n",
       "Triazolam                      9.423077\n",
       "Estazolam                      9.363636\n",
       "Halcion                        9.307692\n",
       "Klonopin                       9.076923\n",
       "Compoz Nighttime Sleep Aid     9.000000\n",
       "Aspirin / diphenhydramine      9.000000\n",
       "Advil PM                       9.000000\n",
       "Doral                          9.000000\n",
       "Sinequan                       9.000000\n",
       "Unisom SleepMelts              9.000000\n",
       "Name: rating, dtype: float64"
      ]
     },
     "execution_count": 39,
     "metadata": {},
     "output_type": "execute_result"
    }
   ],
   "source": [
    "# for insomnia\n",
    "data_new.loc[data_new['clean_condition']=='Insomnia'].groupby(\n",
    "    ['drugName'])['rating'].mean().sort_values(ascending=False).head(20)"
   ]
  },
  {
   "cell_type": "code",
   "execution_count": 40,
   "metadata": {
    "colab": {
     "base_uri": "https://localhost:8080/"
    },
    "id": "tsbRPnUNYU-i",
    "outputId": "d2da4f43-3d93-488b-e3c0-2686ddaa417d"
   },
   "outputs": [
    {
     "data": {
      "text/plain": [
       "drugName\n",
       "Tofranil               10.000000\n",
       "Niravam                10.000000\n",
       "Nefazodone             10.000000\n",
       "Alprazolam Intensol    10.000000\n",
       "Klonopin Wafer          9.666667\n",
       "Wellbutrin SR           9.500000\n",
       "Nortriptyline           9.500000\n",
       "Xanax                   9.186441\n",
       "Alprazolam              9.172619\n",
       "Anafranil               9.166667\n",
       "Clomipramine            9.125000\n",
       "Clonazepam              9.095238\n",
       "Xanax XR                9.076923\n",
       "Klonopin                9.000000\n",
       "Serzone                 9.000000\n",
       "Ludiomil                9.000000\n",
       "Lorazepam               8.951220\n",
       "Ativan                  8.772727\n",
       "Desvenlafaxine          8.750000\n",
       "Prozac                  8.250000\n",
       "Name: rating, dtype: float64"
      ]
     },
     "execution_count": 40,
     "metadata": {},
     "output_type": "execute_result"
    }
   ],
   "source": [
    "# for panic disorder\n",
    "data_new.loc[data_new['clean_condition']=='Panic Disorder'].groupby(\n",
    "    ['drugName'])['rating'].mean().sort_values(ascending=False).head(20)"
   ]
  },
  {
   "cell_type": "code",
   "execution_count": null,
   "metadata": {},
   "outputs": [],
   "source": []
  },
  {
   "cell_type": "code",
   "execution_count": null,
   "metadata": {},
   "outputs": [],
   "source": []
  },
  {
   "cell_type": "code",
   "execution_count": null,
   "metadata": {},
   "outputs": [],
   "source": []
  }
 ],
 "metadata": {
  "colab": {
   "name": "EDA.ipynb",
   "provenance": [],
   "toc_visible": true
  },
  "kernelspec": {
   "display_name": "Python 3 (ipykernel)",
   "language": "python",
   "name": "python3"
  },
  "language_info": {
   "codemirror_mode": {
    "name": "ipython",
    "version": 3
   },
   "file_extension": ".py",
   "mimetype": "text/x-python",
   "name": "python",
   "nbconvert_exporter": "python",
   "pygments_lexer": "ipython3",
   "version": "3.9.12"
  }
 },
 "nbformat": 4,
 "nbformat_minor": 1
}
