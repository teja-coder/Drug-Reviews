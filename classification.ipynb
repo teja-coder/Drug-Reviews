{
 "cells": [
  {
   "cell_type": "markdown",
   "metadata": {
    "id": "kBoru-R7JNKe"
   },
   "source": [
    "## Classification"
   ]
  },
  {
   "cell_type": "markdown",
   "metadata": {
    "id": "FAQ-JwtAJPao"
   },
   "source": [
    "In this section, I will fit the vectors given by BoW and TF-IDF model to various machine learning models including logistic regression (already did), naive bayes, SVM, decision tree, LightGBM and XGBoost, and ensemble learning, use grid search to fine tune parameters and use several metrics to evaluate model performance."
   ]
  },
  {
   "cell_type": "markdown",
   "metadata": {
    "id": "vXhWfh7aiToM"
   },
   "source": [
    "The accuracy and f-1 score of the baseline model (TF-IDF + logistic regression) is 0.788 and 0.786."
   ]
  },
  {
   "cell_type": "markdown",
   "metadata": {
    "id": "vlZQWxIvjOrr"
   },
   "source": [
    "In order to improve model performance, I tried to do more feature engineering before training the model.\n",
    "\n",
    "First, I constructed a customized stopword list consisting of the drug names, conditions, and other word including day, week, month, take, etc. The logic behind this is that I noticed that a lot of reviews contain drug names and conditions, but the context does does not contain any significant positive or negative feelings. This is also the case for days, weeks and months, which usually appear in sentences like \"I have taken the drug for 10 days, ...\". Such words might not show strong sentiment and thus do not contribute to the performance of the model."
   ]
  },
  {
   "cell_type": "code",
   "execution_count": 1,
   "metadata": {
    "colab": {
     "base_uri": "https://localhost:8080/"
    },
    "id": "4rPhKwQ5REUb",
    "outputId": "6b9c7f8e-3e0d-4feb-cdf6-5bee4ddaf59c"
   },
   "outputs": [
    {
     "name": "stdout",
     "output_type": "stream",
     "text": [
      "The Shape of the Dataset : (161297, 7)\n"
     ]
    }
   ],
   "source": [
    "import numpy as np\n",
    "import pandas as pd\n",
    "\n",
    "data = pd.read_csv('../Datasets/drugsComTrain_raw.tsv',sep='\\t')\n",
    "print(\"The Shape of the Dataset :\", data.shape)"
   ]
  },
  {
   "cell_type": "code",
   "execution_count": 2,
   "metadata": {
    "colab": {
     "base_uri": "https://localhost:8080/"
    },
    "id": "lI5bSiNiQ_oW",
    "outputId": "f73ec2fe-40d1-49b1-d05a-cdc5f0939efe"
   },
   "outputs": [
    {
     "name": "stderr",
     "output_type": "stream",
     "text": [
      "[nltk_data] Downloading package stopwords to /home/teja/nltk_data...\n",
      "[nltk_data]   Package stopwords is already up-to-date!\n"
     ]
    },
    {
     "data": {
      "text/plain": [
       "True"
      ]
     },
     "execution_count": 2,
     "metadata": {},
     "output_type": "execute_result"
    }
   ],
   "source": [
    "import nltk\n",
    "nltk.download('stopwords')"
   ]
  },
  {
   "cell_type": "code",
   "execution_count": 3,
   "metadata": {
    "colab": {
     "base_uri": "https://localhost:8080/"
    },
    "id": "VWlY1ujtRVEJ",
    "outputId": "3aa7fbf7-9f34-4eb5-9803-6a59ef7b92af"
   },
   "outputs": [
    {
     "name": "stderr",
     "output_type": "stream",
     "text": [
      "[nltk_data] Downloading package punkt to /home/teja/nltk_data...\n",
      "[nltk_data]   Package punkt is already up-to-date!\n"
     ]
    },
    {
     "data": {
      "text/plain": [
       "True"
      ]
     },
     "execution_count": 3,
     "metadata": {},
     "output_type": "execute_result"
    }
   ],
   "source": [
    "import nltk\n",
    "nltk.download('punkt')"
   ]
  },
  {
   "cell_type": "code",
   "execution_count": 4,
   "metadata": {
    "colab": {
     "base_uri": "https://localhost:8080/"
    },
    "id": "853RPw8TaFbd",
    "outputId": "ce7e8674-a9f6-4890-c040-25f40d2d83c1"
   },
   "outputs": [
    {
     "data": {
      "text/plain": [
       "condition\n",
       "Acne                                     5588\n",
       "Actinic Keratosis                          29\n",
       "Acute Coronary Syndrome                    54\n",
       "Acute Lymphoblastic Leukemia                4\n",
       "Acute Nonlymphocytic Leukemia               1\n",
       "Acute Promyelocytic Leukemia                3\n",
       "Addison's Disease                          11\n",
       "Adrenocortical Insufficiency                8\n",
       "Adult Human Growth Hormone Deficiency      10\n",
       "Aggressive Behavi                           2\n",
       "Name: review, dtype: int64"
      ]
     },
     "execution_count": 4,
     "metadata": {},
     "output_type": "execute_result"
    }
   ],
   "source": [
    "data.groupby(['condition']).count()['review'][80:90]"
   ]
  },
  {
   "cell_type": "code",
   "execution_count": 5,
   "metadata": {
    "colab": {
     "base_uri": "https://localhost:8080/",
     "height": 53
    },
    "id": "BtJqsJDOda-R",
    "outputId": "8398bbc3-8ebf-41ca-ca6a-3f09fc53fd96"
   },
   "outputs": [
    {
     "data": {
      "text/plain": [
       "\"\\n'pain', 'flash', \\n                  'headache', 'obesity', 'obsessive', 'disorder', 'panic', 'Dysphoric',\\n                  'Peripheral', 'Neuropathy', 'Sedation', 'sedation', \\n                  \""
      ]
     },
     "execution_count": 5,
     "metadata": {},
     "output_type": "execute_result"
    }
   ],
   "source": [
    "'''\n",
    "'pain', 'flash', \n",
    "                  'headache', 'obesity', 'obsessive', 'disorder', 'panic', 'Dysphoric',\n",
    "                  'Peripheral', 'Neuropathy', 'Sedation', 'sedation', \n",
    "                  '''"
   ]
  },
  {
   "cell_type": "code",
   "execution_count": 6,
   "metadata": {
    "id": "NqIyKM0We-du"
   },
   "outputs": [],
   "source": [
    "drug_name = ['lexapro', 'zoloft', 'prozac', 'paxil', 'celexa', 'cymbalta', 'pristiq',\n",
    "             'effexor', 'bupropion', 'mirtazapine', 'trazodone', 'vilazodone',\n",
    "             'vortioxetine', 'trintellix', 'viibryd', 'wellbutrin', 'bupropion', \n",
    "             'wellbutrin', 'mg', 'xl', 'sr', 'budeprion', 'sedyrel', 'aplenzin',\n",
    "             'buproban', 'forfivo', 'oleptro', 'remeron', 'soltab', \n",
    "             'vortioxetine', 'viibryd', 'zyban']\n",
    "condition_name = ['depression', 'anxiety']\n",
    "other = ['day', 'week', 'month', 'year', 'take']\n",
    "\n",
    "customized_stopwords = drug_name+other"
   ]
  },
  {
   "cell_type": "code",
   "execution_count": 7,
   "metadata": {
    "colab": {
     "base_uri": "https://localhost:8080/"
    },
    "id": "s5WXAlZjFRiv",
    "outputId": "07d2b2e4-50fa-402a-e4ae-8d74005915e1"
   },
   "outputs": [
    {
     "name": "stderr",
     "output_type": "stream",
     "text": [
      "[nltk_data] Downloading package wordnet to /home/teja/nltk_data...\n",
      "[nltk_data]   Package wordnet is already up-to-date!\n"
     ]
    },
    {
     "data": {
      "text/plain": [
       "True"
      ]
     },
     "execution_count": 7,
     "metadata": {},
     "output_type": "execute_result"
    }
   ],
   "source": [
    "nltk.download('wordnet')"
   ]
  },
  {
   "cell_type": "code",
   "execution_count": 8,
   "metadata": {
    "id": "xiZn21aihJsh"
   },
   "outputs": [
    {
     "name": "stderr",
     "output_type": "stream",
     "text": [
      "2022-08-25 15:50:34.020468: I tensorflow/core/util/util.cc:169] oneDNN custom operations are on. You may see slightly different numerical results due to floating-point round-off errors from different computation orders. To turn them off, set the environment variable `TF_ENABLE_ONEDNN_OPTS=0`.\n",
      "2022-08-25 15:50:34.023153: W tensorflow/stream_executor/platform/default/dso_loader.cc:64] Could not load dynamic library 'libcudart.so.11.0'; dlerror: libcudart.so.11.0: cannot open shared object file: No such file or directory\n",
      "2022-08-25 15:50:34.023165: I tensorflow/stream_executor/cuda/cudart_stub.cc:29] Ignore above cudart dlerror if you do not have a GPU set up on your machine.\n",
      "2022-08-25 15:50:34.906450: W tensorflow/stream_executor/platform/default/dso_loader.cc:64] Could not load dynamic library 'libcuda.so.1'; dlerror: libcuda.so.1: cannot open shared object file: No such file or directory\n",
      "2022-08-25 15:50:34.906475: W tensorflow/stream_executor/cuda/cuda_driver.cc:269] failed call to cuInit: UNKNOWN ERROR (303)\n",
      "2022-08-25 15:50:34.906490: I tensorflow/stream_executor/cuda/cuda_diagnostics.cc:156] kernel driver does not appear to be running on this host (teja): /proc/driver/nvidia/version does not exist\n"
     ]
    }
   ],
   "source": [
    "from nltk.stem.snowball import SnowballStemmer\n",
    "import spacy\n",
    "\n",
    "from nltk.stem import WordNetLemmatizer\n",
    "\n",
    "lemmatizer = WordNetLemmatizer()\n",
    "# Lemmatize with POS Tag\n",
    "from nltk.corpus import wordnet\n",
    "\n",
    "def get_wordnet_pos(word):\n",
    "    \"\"\"Map POS tag to first character lemmatize() accepts\"\"\"\n",
    "    tag = nltk.pos_tag([word])[0][1][0].upper()\n",
    "    tag_dict = {\"J\": wordnet.ADJ,\n",
    "                \"N\": wordnet.NOUN,\n",
    "                \"V\": wordnet.VERB,\n",
    "                \"R\": wordnet.ADV}\n",
    "\n",
    "    return tag_dict.get(tag, wordnet.NOUN)\n",
    "\n",
    "stemmed_stopwords = []\n",
    "'''\n",
    "for w in customized_stopwords:\n",
    "    stemmed_stopwords.append(SnowballStemmer('english').stem(lemmatizer.lemmatize(w, get_wordnet_pos(w))))\n",
    "'''\n",
    "\n",
    "for w in customized_stopwords:\n",
    "    stemmed_stopwords.append(SnowballStemmer('english').stem(w))"
   ]
  },
  {
   "cell_type": "code",
   "execution_count": 9,
   "metadata": {
    "colab": {
     "base_uri": "https://localhost:8080/"
    },
    "id": "WMdjkwIqJCFJ",
    "outputId": "d91d88a3-2c63-4d15-9496-bb2de8b06712"
   },
   "outputs": [
    {
     "name": "stderr",
     "output_type": "stream",
     "text": [
      "[nltk_data] Downloading package averaged_perceptron_tagger to\n",
      "[nltk_data]     /home/teja/nltk_data...\n",
      "[nltk_data]   Package averaged_perceptron_tagger is already up-to-\n",
      "[nltk_data]       date!\n"
     ]
    },
    {
     "data": {
      "text/plain": [
       "True"
      ]
     },
     "execution_count": 9,
     "metadata": {},
     "output_type": "execute_result"
    }
   ],
   "source": [
    "nltk.download('averaged_perceptron_tagger')"
   ]
  },
  {
   "cell_type": "code",
   "execution_count": 10,
   "metadata": {
    "colab": {
     "base_uri": "https://localhost:8080/"
    },
    "id": "9WPRxp12EAHS",
    "outputId": "ba7069a0-6ebe-428c-a43c-ae13a896d2c1"
   },
   "outputs": [
    {
     "data": {
      "text/plain": [
       "['lexapro',\n",
       " 'zoloft',\n",
       " 'prozac',\n",
       " 'paxil',\n",
       " 'celexa',\n",
       " 'cymbalta',\n",
       " 'pristiq',\n",
       " 'effexor',\n",
       " 'bupropion',\n",
       " 'mirtazapin',\n",
       " 'trazodon',\n",
       " 'vilazodon',\n",
       " 'vortioxetin',\n",
       " 'trintellix',\n",
       " 'viibryd',\n",
       " 'wellbutrin',\n",
       " 'bupropion',\n",
       " 'wellbutrin',\n",
       " 'mg',\n",
       " 'xl',\n",
       " 'sr',\n",
       " 'budeprion',\n",
       " 'sedyrel',\n",
       " 'aplenzin',\n",
       " 'buproban',\n",
       " 'forfivo',\n",
       " 'oleptro',\n",
       " 'remeron',\n",
       " 'soltab',\n",
       " 'vortioxetin',\n",
       " 'viibryd',\n",
       " 'zyban',\n",
       " 'day',\n",
       " 'week',\n",
       " 'month',\n",
       " 'year',\n",
       " 'take']"
      ]
     },
     "execution_count": 10,
     "metadata": {},
     "output_type": "execute_result"
    }
   ],
   "source": [
    "stemmed_stopwords"
   ]
  },
  {
   "cell_type": "code",
   "execution_count": 11,
   "metadata": {},
   "outputs": [],
   "source": [
    "import string \n",
    "import re\n",
    "from sklearn.feature_extraction.text import TfidfVectorizer, CountVectorizer\n",
    "from sklearn import feature_extraction\n",
    "import matplotlib.pyplot as plt\n",
    "import seaborn as sns\n",
    "from sklearn import metrics\n",
    "import spacy\n",
    "from tqdm import tqdm"
   ]
  },
  {
   "cell_type": "code",
   "execution_count": 12,
   "metadata": {},
   "outputs": [],
   "source": [
    "# delete all the records where Condition or rating is Missing\n",
    "data = data.dropna()"
   ]
  },
  {
   "cell_type": "code",
   "execution_count": 13,
   "metadata": {},
   "outputs": [],
   "source": [
    "# First remove Punctuations from the Reviews\n",
    "def punctuation_removal(messy_str):\n",
    "    clean_list = [char for char in messy_str if char not in string.punctuation]\n",
    "    clean_str = ''.join(clean_list)\n",
    "    return clean_str\n",
    "data['review'] = data['review'].apply(punctuation_removal)"
   ]
  },
  {
   "cell_type": "code",
   "execution_count": 14,
   "metadata": {},
   "outputs": [],
   "source": [
    "## remove special symbol\n",
    "def rm_sym(df):\n",
    "    df['review'] = df['review'].str.replace(\"&#039;\",'\\'')\n",
    "    df['review'].head()\n",
    "    return df\n",
    "data = rm_sym(data)"
   ]
  },
  {
   "cell_type": "code",
   "execution_count": 15,
   "metadata": {},
   "outputs": [],
   "source": [
    "def normalize_whitespace(text):\n",
    "    \"\"\"\n",
    "    This function normalizes whitespaces, removing duplicates.\n",
    "    \"\"\"\n",
    "    corrected = str(text)\n",
    "    corrected = re.sub(r\"//t\",r\"\\t\", corrected)\n",
    "    corrected = re.sub(r\"( )\\1+\",r\"\\1\", corrected)\n",
    "    corrected = re.sub(r\"(\\n)\\1+\",r\"\\1\", corrected)\n",
    "    corrected = re.sub(r\"(\\r)\\1+\",r\"\\1\", corrected)\n",
    "    corrected = re.sub(r\"(\\t)\\1+\",r\"\\1\", corrected)\n",
    "    return corrected.strip(\" \")\n",
    "\n",
    "#data['review']=data['review'].apply(lambda x: normalize whitespace(x))"
   ]
  },
  {
   "cell_type": "code",
   "execution_count": 16,
   "metadata": {},
   "outputs": [],
   "source": [
    "def tokenize(text):\n",
    "    split=re.split(\"\\W+\",text)\n",
    "    split=split[1:-1]\n",
    "    return split\n",
    "data['review_list']=data['review'].apply(lambda x: tokenize(x.lower()))\n",
    "#data['review_list'].head()"
   ]
  },
  {
   "cell_type": "code",
   "execution_count": 17,
   "metadata": {},
   "outputs": [],
   "source": [
    "def drop_numbers(list_text):\n",
    "    list_text_new = []\n",
    "    for i in list_text:\n",
    "        if not re.search('\\d', i):\n",
    "            list_text_new.append(i)\n",
    "    return ' '.join(list_text_new)\n",
    "data['review']=data['review_list'].apply(lambda x: drop_numbers(x))\n",
    "data['review_list']=data['review'].apply(lambda x: tokenize(x))"
   ]
  },
  {
   "cell_type": "code",
   "execution_count": null,
   "metadata": {},
   "outputs": [],
   "source": [
    "def lemmatize(word_list):\n",
    "    lemmatized = []\n",
    "    for w in word_list:\n",
    "        lemmatized.append(lemmatizer.lemmatize(w, get_wordnet_pos(w)))\n",
    "    return lemmatized\n",
    "\n",
    "data['review_list']=data['review_list'].apply(lambda x: lemmatize(x))"
   ]
  },
  {
   "cell_type": "code",
   "execution_count": 18,
   "metadata": {},
   "outputs": [],
   "source": [
    "stopword = nltk.corpus.stopwords.words('english')\n",
    "def remove_stopwords(text):\n",
    "    text=[word for word in text if word not in stopword]\n",
    "    return text\n",
    "\n",
    "data['review_list'] = data['review_list'].apply(lambda x: remove_stopwords(x))\n"
   ]
  },
  {
   "cell_type": "code",
   "execution_count": 19,
   "metadata": {},
   "outputs": [],
   "source": [
    "from nltk.stem.snowball import SnowballStemmer\n",
    "\n",
    "def stem_tokens(tokens, stemmer):\n",
    "    stemmed = []\n",
    "    for item in tokens:\n",
    "        stemmed.append(stemmer.stem(item))\n",
    "    return stemmed\n",
    "\n",
    "stemmer = SnowballStemmer('english')\n",
    "data['review_list'] = data['review_list'].apply(lambda x: stem_tokens(x, stemmer=stemmer))"
   ]
  },
  {
   "cell_type": "code",
   "execution_count": null,
   "metadata": {},
   "outputs": [],
   "source": []
  },
  {
   "cell_type": "code",
   "execution_count": null,
   "metadata": {
    "id": "NcEu2qZhJPwt"
   },
   "outputs": [],
   "source": [
    "\n"
   ]
  },
  {
   "cell_type": "code",
   "execution_count": 20,
   "metadata": {
    "colab": {
     "base_uri": "https://localhost:8080/"
    },
    "id": "yvmnTgf5hxL6",
    "outputId": "26118214-1f14-48fa-cfc6-604b340e93df"
   },
   "outputs": [
    {
     "data": {
      "text/plain": [
       "0                  [side, effect, take, combin, bystol, mg]\n",
       "1         [halfway, fourth, week, intuniv, becam, concer...\n",
       "2         [take, anoth, oral, contracept, pill, cycl, ha...\n",
       "3         [first, time, use, form, birth, control, glad,...\n",
       "4         [complet, turn, life, around, feel, healthier,...\n",
       "                                ...                        \n",
       "161292    [first, report, midoctob, alcohol, sinc, post,...\n",
       "161293    [given, iv, surgey, immedi, becam, anxious, co...\n",
       "161294               [month, develop, bad, rash, md, refus]\n",
       "161295    [thyroid, medic, year, spent, first, synthroid...\n",
       "161296    [chronic, constip, adult, life, tri, linzess, ...\n",
       "Name: review_list, Length: 160398, dtype: object"
      ]
     },
     "execution_count": 20,
     "metadata": {},
     "output_type": "execute_result"
    }
   ],
   "source": [
    "data['review_list']"
   ]
  },
  {
   "cell_type": "code",
   "execution_count": 21,
   "metadata": {
    "id": "6hO5r28Dj_tV"
   },
   "outputs": [],
   "source": [
    "def combine(list_text):\n",
    "    list_text_new = []\n",
    "    for i in list_text:\n",
    "        list_text_new.append(i)\n",
    "    return ' '.join(list_text_new)\n",
    "data['review']=data['review_list'].apply(lambda x: combine(x))"
   ]
  },
  {
   "cell_type": "code",
   "execution_count": 22,
   "metadata": {
    "colab": {
     "base_uri": "https://localhost:8080/"
    },
    "id": "46I1FqllkJO3",
    "outputId": "fe3740d0-c4bc-44b1-dfae-777844310202"
   },
   "outputs": [
    {
     "data": {
      "text/plain": [
       "0                         side effect take combin bystol mg\n",
       "1         halfway fourth week intuniv becam concern bega...\n",
       "2         take anoth oral contracept pill cycl happi lig...\n",
       "3         first time use form birth control glad went pa...\n",
       "4         complet turn life around feel healthier excel ...\n",
       "                                ...                        \n",
       "161292    first report midoctob alcohol sinc post reduc ...\n",
       "161293    given iv surgey immedi becam anxious could sit...\n",
       "161294                      month develop bad rash md refus\n",
       "161295    thyroid medic year spent first synthroid vario...\n",
       "161296    chronic constip adult life tri linzess work mo...\n",
       "Name: review, Length: 160398, dtype: object"
      ]
     },
     "execution_count": 22,
     "metadata": {},
     "output_type": "execute_result"
    }
   ],
   "source": [
    "data['review']"
   ]
  },
  {
   "cell_type": "code",
   "execution_count": 23,
   "metadata": {
    "id": "kAriXdO5h8hr"
   },
   "outputs": [],
   "source": [
    "def remove_customized_stopwords(text):\n",
    "    text=[word for word in text if word not in stemmed_stopwords]\n",
    "    return text\n",
    "\n",
    "data['review_list_new'] = data['review_list'].apply(lambda x: remove_customized_stopwords(x))"
   ]
  },
  {
   "cell_type": "code",
   "execution_count": 24,
   "metadata": {
    "id": "89HZq6MninZD"
   },
   "outputs": [],
   "source": [
    "data['review_list_new']\n",
    "data['review_new']=data['review_list_new'].apply(lambda x: combine(x))"
   ]
  },
  {
   "cell_type": "code",
   "execution_count": 25,
   "metadata": {
    "colab": {
     "base_uri": "https://localhost:8080/"
    },
    "id": "SL18tYkEXhPa",
    "outputId": "1bcc7ad7-27ec-4639-da26-3ffb206d23a3"
   },
   "outputs": [
    {
     "data": {
      "text/plain": [
       "0                                 side effect combin bystol\n",
       "1         halfway fourth intuniv becam concern began las...\n",
       "2         anoth oral contracept pill cycl happi light pe...\n",
       "3         first time use form birth control glad went pa...\n",
       "4         complet turn life around feel healthier excel ...\n",
       "                                ...                        \n",
       "161292    first report midoctob alcohol sinc post reduc ...\n",
       "161293    given iv surgey immedi becam anxious could sit...\n",
       "161294                            develop bad rash md refus\n",
       "161295    thyroid medic spent first synthroid various fo...\n",
       "161296    chronic constip adult life tri linzess work st...\n",
       "Name: review_new, Length: 160398, dtype: object"
      ]
     },
     "execution_count": 25,
     "metadata": {},
     "output_type": "execute_result"
    }
   ],
   "source": [
    "data['review_new']"
   ]
  },
  {
   "cell_type": "code",
   "execution_count": 26,
   "metadata": {
    "id": "c40zhMrTPcmL"
   },
   "outputs": [],
   "source": [
    "# transform the ratings to three categories: positive, neutral and negative\n",
    "def transform_rating(df):\n",
    "    df['sentiment'] = ''\n",
    "    df.loc[df['rating'] >= 7,'sentiment'] = 'positive'\n",
    "    df.loc[df['rating'] <= 4,'sentiment'] = 'negative'\n",
    "    df.loc[(df['rating'] > 4) & (df['rating'] < 7),'sentiment'] = 'neutral'\n",
    "    return df\n",
    "data = transform_rating(data)\n",
    "\n",
    "# split the dataset\n",
    "from sklearn.datasets import make_classification\n",
    "from sklearn.model_selection import train_test_split\n",
    "train, test = train_test_split(data, test_size=0.25)"
   ]
  },
  {
   "cell_type": "code",
   "execution_count": 27,
   "metadata": {
    "id": "W7Zy51hUQA5h"
   },
   "outputs": [],
   "source": [
    "## only need to remove punctuation and stemize\n",
    "stemmer = SnowballStemmer('english')\n",
    "\n",
    "def stem_tokens(tokens, stemmer):\n",
    "    stemmed = []\n",
    "    for item in tokens:\n",
    "        stemmed.append(stemmer.stem(item))\n",
    "    return stemmed\n",
    "\n",
    "def tokenize(text):\n",
    "    text = \"\".join([ch for ch in text if ch not in string.punctuation])\n",
    "    tokens = nltk.word_tokenize(text)\n",
    "    stems = stem_tokens(tokens, stemmer)\n",
    "    return stems"
   ]
  },
  {
   "cell_type": "code",
   "execution_count": 28,
   "metadata": {
    "id": "uNVZVXtVQShd"
   },
   "outputs": [],
   "source": [
    "from sklearn.metrics import accuracy_score, f1_score, precision_score, recall_score, classification_report\n",
    "\n",
    "def get_metrics(y_test, y_predicted):  \n",
    "    # true positives / (true positives+false positives)\n",
    "    precision = precision_score(y_test, y_predicted, pos_label=None,\n",
    "                                    average='weighted')             \n",
    "    # true positives / (true positives + false negatives)\n",
    "    recall = recall_score(y_test, y_predicted, pos_label=None,\n",
    "                              average='weighted')\n",
    "    \n",
    "    # harmonic mean of precision and recall\n",
    "    f1 = f1_score(y_test, y_predicted, pos_label=None, average='weighted')\n",
    "    \n",
    "    # true positives + true negatives/ total\n",
    "    accuracy = accuracy_score(y_test, y_predicted)\n",
    "    return accuracy, precision, recall, f1"
   ]
  },
  {
   "cell_type": "code",
   "execution_count": 29,
   "metadata": {
    "colab": {
     "base_uri": "https://localhost:8080/"
    },
    "id": "nFOxNqd3QS0U",
    "outputId": "1edfb57e-eb22-4edb-beed-c2f66bd086e6"
   },
   "outputs": [
    {
     "name": "stdout",
     "output_type": "stream",
     "text": [
      "(120298, 10000)\n",
      "(40100, 10000)\n"
     ]
    }
   ],
   "source": [
    "## Generate table of words with their counts\n",
    "## TfidfVectorizer transform train and test\n",
    "con_vec_tf = TfidfVectorizer(max_features = 10000, ngram_range = (1, 3))\n",
    "X_train_tf = con_vec_tf.fit_transform(train['review'])\n",
    "y_train = train['sentiment']\n",
    "X_test_tf = con_vec_tf.transform(test['review'])\n",
    "y_test = test['sentiment']\n",
    "\n",
    "print(X_train_tf.shape)\n",
    "print(X_test_tf.shape)"
   ]
  },
  {
   "cell_type": "code",
   "execution_count": 30,
   "metadata": {
    "id": "qc-WxAz0Ozoe"
   },
   "outputs": [],
   "source": [
    "con_vec_tf = TfidfVectorizer(max_features = 20000, ngram_range = (1, 3))\n",
    "X_train_tf_new = con_vec_tf.fit_transform(train['review'])\n",
    "y_train = train['sentiment']\n",
    "X_test_tf_new = con_vec_tf.transform(test['review'])\n",
    "y_test = test['sentiment']"
   ]
  },
  {
   "cell_type": "markdown",
   "metadata": {
    "id": "-wqV6xwyRzKA"
   },
   "source": [
    "### Logistic Regression"
   ]
  },
  {
   "cell_type": "code",
   "execution_count": 32,
   "metadata": {
    "colab": {
     "base_uri": "https://localhost:8080/"
    },
    "id": "RLyO07ceQYn2",
    "outputId": "e54c15fe-afbf-449d-c3d3-9a38ec93ffa6"
   },
   "outputs": [
    {
     "name": "stderr",
     "output_type": "stream",
     "text": [
      "[Parallel(n_jobs=-1)]: Using backend ThreadingBackend with 8 concurrent workers.\n"
     ]
    },
    {
     "name": "stdout",
     "output_type": "stream",
     "text": [
      " change: 0.49792556\n",
      "Epoch 961, change: 0.52434345\n",
      "Epoch 962, change: 0.58950485\n",
      "Epoch 963, change: 0.65684581\n",
      "Epoch 964, change: 0.50025190\n",
      "Epoch 965, change: 0.48944668\n",
      "Epoch 966, change: 0.54885206\n",
      "Epoch 967, change: 0.63819675\n",
      "Epoch 968, change: 0.53784631\n",
      "Epoch 969, change: 0.48602463\n",
      "Epoch 970, change: 0.45881373\n",
      "Epoch 971, change: 0.60495403\n",
      "Epoch 972, change: 0.52453996\n",
      "Epoch 973, change: 0.50521783\n",
      "Epoch 974, change: 0.55981074\n",
      "Epoch 975, change: 0.55539458\n",
      "Epoch 976, change: 0.60056340\n",
      "Epoch 977, change: 0.61817131\n",
      "Epoch 978, change: 0.53428325\n",
      "Epoch 979, change: 0.52163211\n",
      "Epoch 980, change: 0.48445247\n",
      "Epoch 981, change: 0.49874825\n",
      "Epoch 982, change: 0.55545113\n",
      "Epoch 983, change: 0.51996409\n",
      "Epoch 984, change: 0.52115695\n",
      "Epoch 985, change: 0.53943522\n",
      "Epoch 986, change: 0.59635050\n",
      "Epoch 987, change: 0.57827155\n",
      "Epoch 988, change: 0.44660124\n",
      "Epoch 989, change: 0.48075750\n",
      "Epoch 990, change: 0.44459069\n",
      "Epoch 991, change: 0.48739560\n",
      "Epoch 992, change: 0.49457237\n",
      "Epoch 993, change: 0.49757984\n",
      "Epoch 994, change: 0.44337227\n",
      "Epoch 995, change: 0.53060961\n",
      "Epoch 996, change: 0.58504225\n",
      "Epoch 997, change: 0.49080591\n",
      "Epoch 998, change: 0.62182206\n",
      "Epoch 999, change: 0.46082086\n",
      "Epoch 1000, change: 0.53187716\n",
      "Epoch 1, change: 1.00000000\n",
      "Epoch 2, change: 0.64854320\n",
      "Epoch 3, change: 0.57173836\n",
      "Epoch 4, change: 0.62564887\n",
      "Epoch 5, change: 0.54671137\n",
      "Epoch 6, change: 0.60127748\n",
      "Epoch 7, change: 0.56473107\n",
      "Epoch 8, change: 0.45884950\n",
      "Epoch 9, change: 0.44851586\n",
      "Epoch 10, change: 0.60429263\n",
      "Epoch 11, change: 0.53454584\n",
      "Epoch 12, change: 0.46888516\n",
      "Epoch 13, change: 0.48054961\n",
      "Epoch 14, change: 0.51679421\n",
      "Epoch 15, change: 0.47734535\n",
      "Epoch 16, change: 0.50967996\n",
      "Epoch 17, change: 0.69240122\n",
      "Epoch 18, change: 0.63078184\n",
      "Epoch 19, change: 0.62075807\n",
      "Epoch 20, change: 0.56383170\n",
      "Epoch 21, change: 0.49600704\n",
      "Epoch 22, change: 0.42976597\n",
      "Epoch 23, change: 0.49133421\n",
      "Epoch 24, change: 0.59141782\n",
      "Epoch 25, change: 0.50959491\n",
      "Epoch 26, change: 0.50934895\n",
      "Epoch 27, change: 0.47074273\n",
      "Epoch 28, change: 0.45600926\n",
      "Epoch 29, change: 0.48604880\n",
      "Epoch 30, change: 0.49881994\n",
      "Epoch 31, change: 0.48978974\n",
      "Epoch 32, change: 0.54890298\n",
      "Epoch 33, change: 0.53320114\n",
      "Epoch 34, change: 0.49872951\n",
      "Epoch 35, change: 0.51798474\n",
      "Epoch 36, change: 0.48498142\n",
      "Epoch 37, change: 0.43638439\n",
      "Epoch 38, change: 0.55118515\n",
      "Epoch 39, change: 0.42288680\n",
      "Epoch 40, change: 0.43814855\n",
      "Epoch 41, change: 0.49949012\n",
      "Epoch 42, change: 0.58976122\n",
      "Epoch 43, change: 0.60224810\n",
      "Epoch 44, change: 0.46624974\n",
      "Epoch 45, change: 0.50042038\n",
      "Epoch 46, change: 0.46678126\n",
      "Epoch 47, change: 0.53939582\n",
      "Epoch 48, change: 0.49978913\n",
      "Epoch 49, change: 0.61326005\n",
      "Epoch 50, change: 0.48618340\n",
      "Epoch 51, change: 0.55438899\n",
      "Epoch 52, change: 0.50654604\n",
      "Epoch 53, change: 0.48820246\n",
      "Epoch 54, change: 0.55501012\n",
      "Epoch 55, change: 0.49259248\n",
      "Epoch 56, change: 0.42909265\n",
      "Epoch 57, change: 0.51663418\n",
      "Epoch 58, change: 0.42646523\n",
      "Epoch 59, change: 0.48928730\n",
      "Epoch 60, change: 0.70601544\n",
      "Epoch 61, change: 0.56287790\n",
      "Epoch 62, change: 0.57280982\n",
      "Epoch 63, change: 0.52832650\n",
      "Epoch 64, change: 0.60287729\n",
      "Epoch 65, change: 0.56673363\n",
      "Epoch 66, change: 0.56317390\n",
      "Epoch 67, change: 0.52169196\n",
      "Epoch 68, change: 0.56069089\n",
      "Epoch 69, change: 0.51561077\n",
      "Epoch 70, change: 0.47113895\n",
      "Epoch 71, change: 0.59664482\n",
      "Epoch 72, change: 0.56722323\n",
      "Epoch 73, change: 0.56003881\n",
      "Epoch 74, change: 0.52735012\n",
      "Epoch 75, change: 0.58023698\n",
      "Epoch 76, change: 0.49820041\n",
      "Epoch 77, change: 0.43255406\n",
      "Epoch 78, change: 0.56934481\n",
      "Epoch 79, change: 0.46727663\n",
      "Epoch 80, change: 0.42155437\n",
      "Epoch 81, change: 0.40212370\n",
      "Epoch 82, change: 0.50709129\n",
      "Epoch 83, change: 0.49622382\n",
      "Epoch 84, change: 0.52748373\n",
      "Epoch 85, change: 0.59648308\n",
      "Epoch 86, change: 0.50545699\n",
      "Epoch 87, change: 0.52356786\n",
      "Epoch 88, change: 0.49224177\n",
      "Epoch 89, change: 0.53712254\n",
      "Epoch 90, change: 0.51315969\n",
      "Epoch 91, change: 0.43841425\n",
      "Epoch 92, change: 0.47037871\n",
      "Epoch 93, change: 0.50792503\n",
      "Epoch 94, change: 0.43682107\n",
      "Epoch 95, change: 0.55716187\n",
      "Epoch 96, change: 0.44659168\n",
      "Epoch 97, change: 0.61383153\n",
      "Epoch 98, change: 0.71995122\n",
      "Epoch 99, change: 0.42801860\n",
      "Epoch 100, change: 0.49619286\n",
      "Epoch 101, change: 0.52972586\n",
      "Epoch 102, change: 0.59820982\n",
      "Epoch 103, change: 0.49605251\n",
      "Epoch 104, change: 0.47155324\n",
      "Epoch 105, change: 0.58205860\n",
      "Epoch 106, change: 0.58385315\n",
      "Epoch 107, change: 0.47882141\n",
      "Epoch 108, change: 0.49386604\n",
      "Epoch 109, change: 0.44271913\n",
      "Epoch 110, change: 0.49268427\n",
      "Epoch 111, change: 0.46594522\n",
      "Epoch 112, change: 0.64474179\n",
      "Epoch 113, change: 0.55841061\n",
      "Epoch 114, change: 0.48972097\n",
      "Epoch 115, change: 0.51706916\n",
      "Epoch 116, change: 0.49212456\n",
      "Epoch 117, change: 0.41730040\n",
      "Epoch 118, change: 0.56862146\n",
      "Epoch 119, change: 0.53684941\n",
      "Epoch 120, change: 0.43697450\n",
      "Epoch 121, change: 0.43838338\n",
      "Epoch 122, change: 0.45252555\n",
      "Epoch 123, change: 0.48234365\n",
      "Epoch 124, change: 0.45032950\n",
      "Epoch 125, change: 0.47677448\n",
      "Epoch 126, change: 0.42764535\n",
      "Epoch 127, change: 0.45030561\n",
      "Epoch 128, change: 0.42495399\n",
      "Epoch 129, change: 0.47725013\n",
      "Epoch 130, change: 0.55084068\n",
      "Epoch 131, change: 0.46866611\n",
      "Epoch 132, change: 0.46921855\n",
      "Epoch 133, change: 0.51890990\n",
      "Epoch 134, change: 0.49847316\n",
      "Epoch 135, change: 0.53109262\n",
      "Epoch 136, change: 0.50582117\n",
      "Epoch 137, change: 0.51648587\n",
      "Epoch 138, change: 0.51259862\n",
      "Epoch 139, change: 0.54317136\n",
      "Epoch 140, change: 0.48768804\n",
      "Epoch 141, change: 0.46660188\n",
      "Epoch 142, change: 0.56868563\n",
      "Epoch 143, change: 0.49200533\n",
      "Epoch 144, change: 0.47065455\n",
      "Epoch 145, change: 0.57423598\n",
      "Epoch 146, change: 0.48853624\n",
      "Epoch 147, change: 0.48527843\n",
      "Epoch 148, change: 0.47954624\n",
      "Epoch 149, change: 0.43960731\n",
      "Epoch 150, change: 0.48112801\n",
      "Epoch 151, change: 0.49413029\n",
      "Epoch 152, change: 0.56270036\n",
      "Epoch 153, change: 0.47335106\n",
      "Epoch 154, change: 0.50482870\n",
      "Epoch 155, change: 0.51840945\n",
      "Epoch 156, change: 0.55377969\n",
      "Epoch 157, change: 0.53071155\n",
      "Epoch 158, change: 0.57926564\n",
      "Epoch 159, change: 0.55257894\n",
      "Epoch 160, change: 0.48174342\n",
      "Epoch 161, change: 0.50066861\n",
      "Epoch 162, change: 0.46534446\n",
      "Epoch 163, change: 0.49456434\n",
      "Epoch 164, change: 0.52478680\n",
      "Epoch 165, change: 0.57611835\n",
      "Epoch 166, change: 0.54769352\n",
      "Epoch 167, change: 0.49785431\n",
      "Epoch 168, change: 0.49175103\n",
      "Epoch 169, change: 0.44855418\n",
      "Epoch 170, change: 0.49429246\n",
      "Epoch 171, change: 0.49202037\n",
      "Epoch 172, change: 0.46096429\n",
      "Epoch 173, change: 0.49567036\n",
      "Epoch 174, change: 0.45200538\n",
      "Epoch 175, change: 0.44554410\n",
      "Epoch 176, change: 0.54915312\n",
      "Epoch 177, change: 0.54143203\n",
      "Epoch 178, change: 0.55979184\n",
      "Epoch 179, change: 0.47453736\n",
      "Epoch 180, change: 0.53760598\n",
      "Epoch 181, change: 0.47350658\n",
      "Epoch 182, change: 0.60828278\n",
      "Epoch 183, change: 0.60030042\n",
      "Epoch 184, change: 0.53239042\n",
      "Epoch 185, change: 0.57297019\n",
      "Epoch 186, change: 0.49065601\n",
      "Epoch 187, change: 0.55549264\n",
      "Epoch 188, change: 0.64051640\n",
      "Epoch 189, change: 0.59860798\n",
      "Epoch 190, change: 0.56725502\n",
      "Epoch 191, change: 0.52937156\n",
      "Epoch 192, change: 0.52195915\n",
      "Epoch 193, change: 0.41903041\n",
      "Epoch 194, change: 0.45191179\n",
      "Epoch 195, change: 0.45779043\n",
      "Epoch 196, change: 0.49313008\n",
      "Epoch 197, change: 0.55995099\n",
      "Epoch 198, change: 0.69933729\n",
      "Epoch 199, change: 0.65725380\n",
      "Epoch 200, change: 0.45266494\n",
      "Epoch 201, change: 0.52175674\n",
      "Epoch 202, change: 0.63117537\n",
      "Epoch 203, change: 0.46505875\n",
      "Epoch 204, change: 0.52863674\n",
      "Epoch 205, change: 0.43016671\n",
      "Epoch 206, change: 0.42365395\n",
      "Epoch 207, change: 0.49654451\n",
      "Epoch 208, change: 0.52348594\n",
      "Epoch 209, change: 0.51685134\n",
      "Epoch 210, change: 0.55625026\n",
      "Epoch 211, change: 0.47058447\n",
      "Epoch 212, change: 0.47402445\n",
      "Epoch 213, change: 0.51921657\n",
      "Epoch 214, change: 0.59397176\n",
      "Epoch 215, change: 0.70932248\n",
      "Epoch 216, change: 0.52506068\n",
      "Epoch 217, change: 0.48741879\n",
      "Epoch 218, change: 0.44036488\n",
      "Epoch 219, change: 0.48899133\n",
      "Epoch 220, change: 0.53793046\n",
      "Epoch 221, change: 0.46791404\n",
      "Epoch 222, change: 0.53612718\n",
      "Epoch 223, change: 0.55524047\n",
      "Epoch 224, change: 0.55709876\n",
      "Epoch 225, change: 0.49377570\n",
      "Epoch 226, change: 0.51901491\n",
      "Epoch 227, change: 0.50773079\n",
      "Epoch 228, change: 0.53277814\n",
      "Epoch 229, change: 0.46558378\n",
      "Epoch 230, change: 0.38445561\n",
      "Epoch 231, change: 0.43476362\n",
      "Epoch 232, change: 0.52535564\n",
      "Epoch 233, change: 0.44663589\n",
      "Epoch 234, change: 0.48478953\n",
      "Epoch 235, change: 0.48256262\n",
      "Epoch 236, change: 0.51544773\n",
      "Epoch 237, change: 0.45903313\n",
      "Epoch 238, change: 0.45703959\n",
      "Epoch 239, change: 0.48995942\n",
      "Epoch 240, change: 0.44202934\n",
      "Epoch 241, change: 0.50812998\n",
      "Epoch 242, change: 0.51955298\n",
      "Epoch 243, change: 0.46763437\n",
      "Epoch 244, change: 0.54384650\n",
      "Epoch 245, change: 0.52335125\n",
      "Epoch 246, change: 0.47598709\n",
      "Epoch 247, change: 0.49197119\n",
      "Epoch 248, change: 0.51293249\n",
      "Epoch 249, change: 0.51673368\n",
      "Epoch 250, change: 0.52579617\n",
      "Epoch 251, change: 0.53718089\n",
      "Epoch 252, change: 0.49328175\n",
      "Epoch 253, change: 0.40897053\n",
      "Epoch 254, change: 0.52355875\n",
      "Epoch 255, change: 0.47738027\n",
      "Epoch 256, change: 0.51580390\n",
      "Epoch 257, change: 0.60561076\n",
      "Epoch 258, change: 0.42739014\n",
      "Epoch 259, change: 0.42279270\n",
      "Epoch 260, change: 0.46942132\n",
      "Epoch 261, change: 0.43259283\n",
      "Epoch 262, change: 0.52637909\n",
      "Epoch 263, change: 0.49690179\n",
      "Epoch 264, change: 0.51432542\n",
      "Epoch 265, change: 0.49814099\n",
      "Epoch 266, change: 0.45795556\n",
      "Epoch 267, change: 0.48682286\n",
      "Epoch 268, change: 0.50778925\n",
      "Epoch 269, change: 0.52685838\n",
      "Epoch 270, change: 0.44001692\n",
      "Epoch 271, change: 0.54608413\n",
      "Epoch 272, change: 0.58225206\n",
      "Epoch 273, change: 0.50044916\n",
      "Epoch 274, change: 0.49015885\n",
      "Epoch 275, change: 0.64364267\n",
      "Epoch 276, change: 0.51219610\n",
      "Epoch 277, change: 0.48732932\n",
      "Epoch 278, change: 0.49217598\n",
      "Epoch 279, change: 0.44185914\n",
      "Epoch 280, change: 0.53590085\n",
      "Epoch 281, change: 0.44027881\n",
      "Epoch 282, change: 0.49818330\n",
      "Epoch 283, change: 0.49455378\n",
      "Epoch 284, change: 0.47670353\n",
      "Epoch 285, change: 0.47992986\n",
      "Epoch 286, change: 0.52456046\n",
      "Epoch 287, change: 0.50804416\n",
      "Epoch 288, change: 0.49879223\n",
      "Epoch 289, change: 0.46259127\n",
      "Epoch 290, change: 0.62655267\n",
      "Epoch 291, change: 0.49033584\n",
      "Epoch 292, change: 0.47040017\n",
      "Epoch 293, change: 0.45301732\n",
      "Epoch 294, change: 0.49693463\n",
      "Epoch 295, change: 0.42431005\n",
      "Epoch 296, change: 0.53142093\n",
      "Epoch 297, change: 0.52671557\n",
      "Epoch 298, change: 0.50815271\n",
      "Epoch 299, change: 0.46944939\n",
      "Epoch 300, change: 0.46729336\n",
      "Epoch 301, change: 0.46727349\n",
      "Epoch 302, change: 0.53557021\n",
      "Epoch 303, change: 0.55574226\n",
      "Epoch 304, change: 0.54094875\n",
      "Epoch 305, change: 0.55432624\n",
      "Epoch 306, change: 0.51473146\n",
      "Epoch 307, change: 0.42222777\n",
      "Epoch 308, change: 0.47751387\n",
      "Epoch 309, change: 0.55072891\n",
      "Epoch 310, change: 0.47514762\n",
      "Epoch 311, change: 0.49462721\n",
      "Epoch 312, change: 0.47033568\n",
      "Epoch 313, change: 0.52065679\n",
      "Epoch 314, change: 0.53718539\n",
      "Epoch 315, change: 0.49212909\n",
      "Epoch 316, change: 0.58280988\n",
      "Epoch 317, change: 0.52878403\n",
      "Epoch 318, change: 0.54764788\n",
      "Epoch 319, change: 0.54266383\n",
      "Epoch 320, change: 0.53646271\n",
      "Epoch 321, change: 0.48333347\n",
      "Epoch 322, change: 0.45637185\n",
      "Epoch 323, change: 0.48651979\n",
      "Epoch 324, change: 0.45399158\n",
      "Epoch 325, change: 0.49620254\n",
      "Epoch 326, change: 0.63868599\n",
      "Epoch 327, change: 0.51886564\n",
      "Epoch 328, change: 0.63006296\n",
      "Epoch 329, change: 0.59138330\n",
      "Epoch 330, change: 0.50061263\n",
      "Epoch 331, change: 0.48006052\n",
      "Epoch 332, change: 0.51874175\n",
      "Epoch 333, change: 0.50084156\n",
      "Epoch 334, change: 0.56256674\n",
      "Epoch 335, change: 0.52405177\n",
      "Epoch 336, change: 0.51634199\n",
      "Epoch 337, change: 0.59836655\n",
      "Epoch 338, change: 0.54582220\n",
      "Epoch 339, change: 0.52749807\n",
      "Epoch 340, change: 0.61140754\n",
      "Epoch 341, change: 0.51256947\n",
      "Epoch 342, change: 0.49136261\n",
      "Epoch 343, change: 0.46082790\n",
      "Epoch 344, change: 0.50981182\n",
      "Epoch 345, change: 0.49266548\n",
      "Epoch 346, change: 0.47421774\n",
      "Epoch 347, change: 0.48177716\n",
      "Epoch 348, change: 0.49712173\n",
      "Epoch 349, change: 0.60269507\n",
      "Epoch 350, change: 0.63895442\n",
      "Epoch 351, change: 0.54190023\n",
      "Epoch 352, change: 0.45554064\n",
      "Epoch 353, change: 0.57675465\n",
      "Epoch 354, change: 0.54687626\n",
      "Epoch 355, change: 0.58053003\n",
      "Epoch 356, change: 0.54853090\n",
      "Epoch 357, change: 0.55124094\n",
      "Epoch 358, change: 0.46589256\n",
      "Epoch 359, change: 0.43836824\n",
      "Epoch 360, change: 0.47255079\n",
      "Epoch 361, change: 0.47288409\n",
      "Epoch 362, change: 0.52474596\n",
      "Epoch 363, change: 0.46662125\n",
      "Epoch 364, change: 0.45234537\n",
      "Epoch 365, change: 0.52953748\n",
      "Epoch 366, change: 0.51416782\n",
      "Epoch 367, change: 0.54420011\n",
      "Epoch 368, change: 0.45500937\n",
      "Epoch 369, change: 0.51734065\n",
      "Epoch 370, change: 0.51694741\n",
      "Epoch 371, change: 0.50317751\n",
      "Epoch 372, change: 0.53124741\n"
     ]
    },
    {
     "name": "stdout",
     "output_type": "stream",
     "text": [
      "Epoch 373, change: 0.49288826\n",
      "Epoch 374, change: 0.52333220\n",
      "Epoch 375, change: 0.51505853\n",
      "Epoch 376, change: 0.62291434\n",
      "Epoch 377, change: 0.58263352\n",
      "Epoch 378, change: 0.50433284\n",
      "Epoch 379, change: 0.45622435\n",
      "Epoch 380, change: 0.43005841\n",
      "Epoch 381, change: 0.47862278\n",
      "Epoch 382, change: 0.50132448\n",
      "Epoch 383, change: 0.44068528\n",
      "Epoch 384, change: 0.49236460\n",
      "Epoch 385, change: 0.44271210\n",
      "Epoch 386, change: 0.41467388\n",
      "Epoch 387, change: 0.46752010\n",
      "Epoch 388, change: 0.47608709\n",
      "Epoch 389, change: 0.44919213\n",
      "Epoch 390, change: 0.45381487\n",
      "Epoch 391, change: 0.48413433\n",
      "Epoch 392, change: 0.51365579\n",
      "Epoch 393, change: 0.47340885\n",
      "Epoch 394, change: 0.50110417\n",
      "Epoch 395, change: 0.52582933\n",
      "Epoch 396, change: 0.49269398\n",
      "Epoch 397, change: 0.58473410\n",
      "Epoch 398, change: 0.61837877\n",
      "Epoch 399, change: 0.61081768\n",
      "Epoch 400, change: 0.47930729\n",
      "Epoch 401, change: 0.50085811\n",
      "Epoch 402, change: 0.45264255\n",
      "Epoch 403, change: 0.51542325\n",
      "Epoch 404, change: 0.53520123\n",
      "Epoch 405, change: 0.56122073\n",
      "Epoch 406, change: 0.48359953\n",
      "Epoch 407, change: 0.46459592\n",
      "Epoch 408, change: 0.60312595\n",
      "Epoch 409, change: 0.51014684\n",
      "Epoch 410, change: 0.44190519\n",
      "Epoch 411, change: 0.51315452\n",
      "Epoch 412, change: 0.66584173\n",
      "Epoch 413, change: 0.49480621\n",
      "Epoch 414, change: 0.56282610\n",
      "Epoch 415, change: 0.50026665\n",
      "Epoch 416, change: 0.61704349\n",
      "Epoch 417, change: 0.59668241\n",
      "Epoch 418, change: 0.51457270\n",
      "Epoch 419, change: 0.41526299\n",
      "Epoch 420, change: 0.55041128\n",
      "Epoch 421, change: 0.45427384\n",
      "Epoch 422, change: 0.48165548\n",
      "Epoch 423, change: 0.50007464\n",
      "Epoch 424, change: 0.53337229\n",
      "Epoch 425, change: 0.47038375\n",
      "Epoch 426, change: 0.47436511\n",
      "Epoch 427, change: 0.50557986\n",
      "Epoch 428, change: 0.44046269\n",
      "Epoch 429, change: 0.44967540\n",
      "Epoch 430, change: 0.48931739\n",
      "Epoch 431, change: 0.51218720\n",
      "Epoch 432, change: 0.45141646\n",
      "Epoch 433, change: 0.54493387\n",
      "Epoch 434, change: 0.53915002\n",
      "Epoch 435, change: 0.62250193\n",
      "Epoch 436, change: 0.48662391\n",
      "Epoch 437, change: 0.51707352\n",
      "Epoch 438, change: 0.59876567\n",
      "Epoch 439, change: 0.50347016\n",
      "Epoch 440, change: 0.56581343\n",
      "Epoch 441, change: 0.45975031\n",
      "Epoch 442, change: 0.52174490\n",
      "Epoch 443, change: 0.52970961\n",
      "Epoch 444, change: 0.50052454\n",
      "Epoch 445, change: 0.46485645\n",
      "Epoch 446, change: 0.59483949\n",
      "Epoch 447, change: 0.72711890\n",
      "Epoch 448, change: 0.49997930\n",
      "Epoch 449, change: 0.54592119\n",
      "Epoch 450, change: 0.50801212\n",
      "Epoch 451, change: 0.70196865\n",
      "Epoch 452, change: 0.55147326\n",
      "Epoch 453, change: 0.68012197\n",
      "Epoch 454, change: 0.57082002\n",
      "Epoch 455, change: 0.55443079\n",
      "Epoch 456, change: 0.48792959\n",
      "Epoch 457, change: 0.44626934\n",
      "Epoch 458, change: 0.44736138\n",
      "Epoch 459, change: 0.54595548\n",
      "Epoch 460, change: 0.57811529\n",
      "Epoch 461, change: 0.48097787\n",
      "Epoch 462, change: 0.40588909\n",
      "Epoch 463, change: 0.46454628\n",
      "Epoch 464, change: 0.49051308\n",
      "Epoch 465, change: 0.58650092\n",
      "Epoch 466, change: 0.46351100\n",
      "Epoch 467, change: 0.47592473\n",
      "Epoch 468, change: 0.53834521\n",
      "Epoch 469, change: 0.43852814\n",
      "Epoch 470, change: 0.43330184\n",
      "Epoch 471, change: 0.55619181\n",
      "Epoch 472, change: 0.57034876\n",
      "Epoch 473, change: 0.58464192\n",
      "Epoch 474, change: 0.53246879\n",
      "Epoch 475, change: 0.45713673\n",
      "Epoch 476, change: 0.43261054\n",
      "Epoch 477, change: 0.56702718\n",
      "Epoch 478, change: 0.46154847\n",
      "Epoch 479, change: 0.57819991\n",
      "Epoch 480, change: 0.53343430\n",
      "Epoch 481, change: 0.43449481\n",
      "Epoch 482, change: 0.53414962\n",
      "Epoch 483, change: 0.45795900\n",
      "Epoch 484, change: 0.51967434\n",
      "Epoch 485, change: 0.52394821\n",
      "Epoch 486, change: 0.55455147\n",
      "Epoch 487, change: 0.54187067\n",
      "Epoch 488, change: 0.56319005\n",
      "Epoch 489, change: 0.50606176\n",
      "Epoch 490, change: 0.55303240\n",
      "Epoch 491, change: 0.50078417\n",
      "Epoch 492, change: 0.41426718\n",
      "Epoch 493, change: 0.45168651\n",
      "Epoch 494, change: 0.59862425\n",
      "Epoch 495, change: 0.55461586\n",
      "Epoch 496, change: 0.56534266\n",
      "Epoch 497, change: 0.66340748\n",
      "Epoch 498, change: 0.54332949\n",
      "Epoch 499, change: 0.58328915\n",
      "Epoch 500, change: 0.48182181\n",
      "Epoch 501, change: 0.46112329\n",
      "Epoch 502, change: 0.47449072\n",
      "Epoch 503, change: 0.58375029\n",
      "Epoch 504, change: 0.50211490\n",
      "Epoch 505, change: 0.52031030\n",
      "Epoch 506, change: 0.46479277\n",
      "Epoch 507, change: 0.48670827\n",
      "Epoch 508, change: 0.48571289\n",
      "Epoch 509, change: 0.58099803\n",
      "Epoch 510, change: 0.49018579\n",
      "Epoch 511, change: 0.67328528\n",
      "Epoch 512, change: 0.42101783\n",
      "Epoch 513, change: 0.42710180\n",
      "Epoch 514, change: 0.49719674\n",
      "Epoch 515, change: 0.48172298\n",
      "Epoch 516, change: 0.54254565\n",
      "Epoch 517, change: 0.42083656\n",
      "Epoch 518, change: 0.53667042\n",
      "Epoch 519, change: 0.45269518\n",
      "Epoch 520, change: 0.42187778\n",
      "Epoch 521, change: 0.50611446\n",
      "Epoch 522, change: 0.52465722\n",
      "Epoch 523, change: 0.48745244\n",
      "Epoch 524, change: 0.55744832\n",
      "Epoch 525, change: 0.47729206\n",
      "Epoch 526, change: 0.47528995\n",
      "Epoch 527, change: 0.51377760\n",
      "Epoch 528, change: 0.52672583\n",
      "Epoch 529, change: 0.53446544\n",
      "Epoch 530, change: 0.55672919\n",
      "Epoch 531, change: 0.60167641\n",
      "Epoch 532, change: 0.67250436\n",
      "Epoch 533, change: 0.54131011\n",
      "Epoch 534, change: 0.56520656\n",
      "Epoch 535, change: 0.55276439\n",
      "Epoch 536, change: 0.60481812\n",
      "Epoch 537, change: 0.52195047\n",
      "Epoch 538, change: 0.64489673\n",
      "Epoch 539, change: 0.54104045\n",
      "Epoch 540, change: 0.61119604\n",
      "Epoch 541, change: 0.53129970\n",
      "Epoch 542, change: 0.48278321\n",
      "Epoch 543, change: 0.51812178\n",
      "Epoch 544, change: 0.48197323\n",
      "Epoch 545, change: 0.54851198\n",
      "Epoch 546, change: 0.47602470\n",
      "Epoch 547, change: 0.44799223\n",
      "Epoch 548, change: 0.52656284\n",
      "Epoch 549, change: 0.54395899\n",
      "Epoch 550, change: 0.56405255\n",
      "Epoch 551, change: 0.53303767\n",
      "Epoch 552, change: 0.53479267\n",
      "Epoch 553, change: 0.42994676\n",
      "Epoch 554, change: 0.48433576\n",
      "Epoch 555, change: 0.45778682\n",
      "Epoch 556, change: 0.48602110\n",
      "Epoch 557, change: 0.50711227\n",
      "Epoch 558, change: 0.46325604\n",
      "Epoch 559, change: 0.50787376\n",
      "Epoch 560, change: 0.43245493\n",
      "Epoch 561, change: 0.55086782\n",
      "Epoch 562, change: 0.56624635\n",
      "Epoch 563, change: 0.55248022\n",
      "Epoch 564, change: 0.54882881\n",
      "Epoch 565, change: 0.57921662\n",
      "Epoch 566, change: 0.50693412\n",
      "Epoch 567, change: 0.51502047\n",
      "Epoch 568, change: 0.56669195\n",
      "Epoch 569, change: 0.52866958\n",
      "Epoch 570, change: 0.55552453\n",
      "Epoch 571, change: 0.55084965\n",
      "Epoch 572, change: 0.44855347\n",
      "Epoch 573, change: 0.57723530\n",
      "Epoch 574, change: 0.57643450\n",
      "Epoch 575, change: 0.67927790\n",
      "Epoch 576, change: 0.56819231\n",
      "Epoch 577, change: 0.52173505\n",
      "Epoch 578, change: 0.42737996\n",
      "Epoch 579, change: 0.50520120\n",
      "Epoch 580, change: 0.47520790\n",
      "Epoch 581, change: 0.54275794\n",
      "Epoch 582, change: 0.59230409\n",
      "Epoch 583, change: 0.57889502\n",
      "Epoch 584, change: 0.63568339\n",
      "Epoch 585, change: 0.48624305\n",
      "Epoch 586, change: 0.44317220\n",
      "Epoch 587, change: 0.55808661\n",
      "Epoch 588, change: 0.47243760\n",
      "Epoch 589, change: 0.51300152\n",
      "Epoch 590, change: 0.48322053\n",
      "Epoch 591, change: 0.52712804\n",
      "Epoch 592, change: 0.49101143\n",
      "Epoch 593, change: 0.58268348\n",
      "Epoch 594, change: 0.48593300\n",
      "Epoch 595, change: 0.57198843\n",
      "Epoch 596, change: 0.51730981\n",
      "Epoch 597, change: 0.66482016\n",
      "Epoch 598, change: 0.52627434\n",
      "Epoch 599, change: 0.51460507\n",
      "Epoch 600, change: 0.48685973\n",
      "Epoch 601, change: 0.45866381\n",
      "Epoch 602, change: 0.53376505\n",
      "Epoch 603, change: 0.49821499\n",
      "Epoch 604, change: 0.45047740\n",
      "Epoch 605, change: 0.57815037\n",
      "Epoch 606, change: 0.54172390\n",
      "Epoch 607, change: 0.47438349\n",
      "Epoch 608, change: 0.47598422\n",
      "Epoch 609, change: 0.52939137\n",
      "Epoch 610, change: 0.53898857\n",
      "Epoch 611, change: 0.50643524\n",
      "Epoch 612, change: 0.41784936\n",
      "Epoch 613, change: 0.52054582\n",
      "Epoch 614, change: 0.49950730\n",
      "Epoch 615, change: 0.51497060\n",
      "Epoch 616, change: 0.56694978\n",
      "Epoch 617, change: 0.50622893\n",
      "Epoch 618, change: 0.43614745\n",
      "Epoch 619, change: 0.62260381\n",
      "Epoch 620, change: 0.60890737\n",
      "Epoch 621, change: 0.56474674\n",
      "Epoch 622, change: 0.54230365\n",
      "Epoch 623, change: 0.56443411\n",
      "Epoch 624, change: 0.55237916\n",
      "Epoch 625, change: 0.65136640\n",
      "Epoch 626, change: 0.56073393\n",
      "Epoch 627, change: 0.50140747\n",
      "Epoch 628, change: 0.46920069\n",
      "Epoch 629, change: 0.48502442\n",
      "Epoch 630, change: 0.57762100\n",
      "Epoch 631, change: 0.47910241\n",
      "Epoch 632, change: 0.51366778\n",
      "Epoch 633, change: 0.59233427\n",
      "Epoch 634, change: 0.49676979\n",
      "Epoch 635, change: 0.48536773\n",
      "Epoch 636, change: 0.52420349\n",
      "Epoch 637, change: 0.55916540\n",
      "Epoch 638, change: 0.56252799\n",
      "Epoch 639, change: 0.58073776\n",
      "Epoch 640, change: 0.50146303\n",
      "Epoch 641, change: 0.50166211\n",
      "Epoch 642, change: 0.62004972\n",
      "Epoch 643, change: 0.45014055\n",
      "Epoch 644, change: 0.58248030\n",
      "Epoch 645, change: 0.50822785\n"
     ]
    },
    {
     "name": "stdout",
     "output_type": "stream",
     "text": [
      "Epoch 646, change: 0.50733672\n",
      "Epoch 647, change: 0.59885045\n",
      "Epoch 648, change: 0.53813730\n",
      "Epoch 649, change: 0.59394245\n",
      "Epoch 650, change: 0.49627870\n",
      "Epoch 651, change: 0.49302133\n",
      "Epoch 652, change: 0.48406918\n",
      "Epoch 653, change: 0.54126092\n",
      "Epoch 654, change: 0.55524300\n",
      "Epoch 655, change: 0.52943041\n",
      "Epoch 656, change: 0.52252912\n",
      "Epoch 657, change: 0.59055947\n",
      "Epoch 658, change: 0.53527067\n",
      "Epoch 659, change: 0.51866275\n",
      "Epoch 660, change: 0.42029304\n",
      "Epoch 661, change: 0.48748041\n",
      "Epoch 662, change: 0.55285737\n",
      "Epoch 663, change: 0.45450467\n",
      "Epoch 664, change: 0.52203288\n",
      "Epoch 665, change: 0.42824988\n",
      "Epoch 666, change: 0.51915593\n",
      "Epoch 667, change: 0.50400953\n",
      "Epoch 668, change: 0.51154570\n",
      "Epoch 669, change: 0.50492553\n",
      "Epoch 670, change: 0.44760501\n",
      "Epoch 671, change: 0.50771361\n",
      "Epoch 672, change: 0.50188747\n",
      "Epoch 673, change: 0.59381049\n",
      "Epoch 674, change: 0.51598584\n",
      "Epoch 675, change: 0.52702868\n",
      "Epoch 676, change: 0.45008396\n",
      "Epoch 677, change: 0.51179516\n",
      "Epoch 678, change: 0.50478751\n",
      "Epoch 679, change: 0.52663845\n",
      "Epoch 680, change: 0.51106567\n",
      "Epoch 681, change: 0.55102837\n",
      "Epoch 682, change: 0.64065036\n",
      "Epoch 683, change: 0.54946752\n",
      "Epoch 684, change: 0.52014214\n",
      "Epoch 685, change: 0.61233116\n",
      "Epoch 686, change: 0.57113474\n",
      "Epoch 687, change: 0.53848337\n",
      "Epoch 688, change: 0.49930003\n",
      "Epoch 689, change: 0.44428635\n",
      "Epoch 690, change: 0.46863138\n",
      "Epoch 691, change: 0.48041501\n",
      "Epoch 692, change: 0.40314989\n",
      "Epoch 693, change: 0.46785992\n",
      "Epoch 694, change: 0.44655529\n",
      "Epoch 695, change: 0.44477191\n",
      "Epoch 696, change: 0.49302543\n",
      "Epoch 697, change: 0.50606964\n",
      "Epoch 698, change: 0.50102049\n",
      "Epoch 699, change: 0.53022056\n",
      "Epoch 700, change: 0.53396574\n",
      "Epoch 701, change: 0.52418120\n",
      "Epoch 702, change: 0.52322276\n",
      "Epoch 703, change: 0.52880758\n",
      "Epoch 704, change: 0.65251177\n",
      "Epoch 705, change: 0.58649879\n",
      "Epoch 706, change: 0.52706556\n",
      "Epoch 707, change: 0.44261447\n",
      "Epoch 708, change: 0.49438397\n",
      "Epoch 709, change: 0.44853911\n",
      "Epoch 710, change: 0.49271823\n",
      "Epoch 711, change: 0.46931410\n",
      "Epoch 712, change: 0.54358613\n",
      "Epoch 713, change: 0.62011329\n",
      "Epoch 714, change: 0.57372081\n",
      "Epoch 715, change: 0.55202121\n",
      "Epoch 716, change: 0.42918767\n",
      "Epoch 717, change: 0.50538551\n",
      "Epoch 718, change: 0.61188075\n",
      "Epoch 719, change: 0.57961768\n",
      "Epoch 720, change: 0.45425527\n",
      "Epoch 721, change: 0.49814927\n",
      "Epoch 722, change: 0.50769620\n",
      "Epoch 723, change: 0.55049599\n",
      "Epoch 724, change: 0.47145546\n",
      "Epoch 725, change: 0.67570713\n",
      "Epoch 726, change: 0.73780751\n",
      "Epoch 727, change: 0.49643568\n",
      "Epoch 728, change: 0.50506925\n",
      "Epoch 729, change: 0.55376438\n",
      "Epoch 730, change: 0.53899595\n",
      "Epoch 731, change: 0.50518350\n",
      "Epoch 732, change: 0.45431907\n",
      "Epoch 733, change: 0.58043606\n",
      "Epoch 734, change: 0.63771587\n",
      "Epoch 735, change: 0.53370408\n",
      "Epoch 736, change: 0.60404438\n",
      "Epoch 737, change: 0.55544591\n",
      "Epoch 738, change: 0.56279280\n",
      "Epoch 739, change: 0.52232701\n",
      "Epoch 740, change: 0.48896369\n",
      "Epoch 741, change: 0.52539223\n",
      "Epoch 742, change: 0.61406853\n",
      "Epoch 743, change: 0.51298774\n",
      "Epoch 744, change: 0.55684749\n",
      "Epoch 745, change: 0.57602731\n",
      "Epoch 746, change: 0.50816499\n",
      "Epoch 747, change: 0.59803579\n",
      "Epoch 748, change: 0.50337630\n",
      "Epoch 749, change: 0.49426072\n",
      "Epoch 750, change: 0.49917029\n",
      "Epoch 751, change: 0.50327562\n",
      "Epoch 752, change: 0.55325320\n",
      "Epoch 753, change: 0.49023179\n",
      "Epoch 754, change: 0.55109933\n",
      "Epoch 755, change: 0.56593097\n",
      "Epoch 756, change: 0.57471949\n",
      "Epoch 757, change: 0.52013988\n",
      "Epoch 758, change: 0.54057065\n",
      "Epoch 759, change: 0.51791758\n",
      "Epoch 760, change: 0.49109660\n",
      "Epoch 761, change: 0.46702506\n",
      "Epoch 762, change: 0.52274895\n",
      "Epoch 763, change: 0.56839705\n",
      "Epoch 764, change: 0.50696528\n",
      "Epoch 765, change: 0.56993132\n",
      "Epoch 766, change: 0.58239833\n",
      "Epoch 767, change: 0.47038277\n",
      "Epoch 768, change: 0.55873691\n",
      "Epoch 769, change: 0.51337743\n",
      "Epoch 770, change: 0.45068058\n",
      "Epoch 771, change: 0.51307980\n",
      "Epoch 772, change: 0.44210861\n",
      "Epoch 773, change: 0.48205092\n",
      "Epoch 774, change: 0.44589463\n",
      "Epoch 775, change: 0.52584558\n",
      "Epoch 776, change: 0.53913061\n",
      "Epoch 777, change: 0.49057173\n",
      "Epoch 778, change: 0.42757996\n",
      "Epoch 779, change: 0.47241188\n",
      "Epoch 780, change: 0.67302854\n",
      "Epoch 781, change: 0.53700023\n",
      "Epoch 782, change: 0.48681155\n",
      "Epoch 783, change: 0.54564339\n",
      "Epoch 784, change: 0.53136386\n",
      "Epoch 785, change: 0.47706319\n",
      "Epoch 786, change: 0.59426768\n",
      "Epoch 787, change: 0.53576996\n",
      "Epoch 788, change: 0.56706154\n",
      "Epoch 789, change: 0.52734721\n",
      "Epoch 790, change: 0.50936208\n",
      "Epoch 791, change: 0.47144249\n",
      "Epoch 792, change: 0.44598984\n",
      "Epoch 793, change: 0.47642129\n",
      "Epoch 794, change: 0.49947459\n",
      "Epoch 795, change: 0.56325512\n",
      "Epoch 796, change: 0.67074949\n",
      "Epoch 797, change: 0.55403106\n",
      "Epoch 798, change: 0.50674250\n",
      "Epoch 799, change: 0.51851026\n",
      "Epoch 800, change: 0.54884556\n",
      "Epoch 801, change: 0.52240942\n",
      "Epoch 802, change: 0.50330396\n",
      "Epoch 803, change: 0.44373126\n",
      "Epoch 804, change: 0.50536922\n",
      "Epoch 805, change: 0.53732647\n",
      "Epoch 806, change: 0.49655842\n",
      "Epoch 807, change: 0.47094577\n",
      "Epoch 808, change: 0.58919455\n",
      "Epoch 809, change: 0.56575821\n",
      "Epoch 810, change: 0.47640991\n",
      "Epoch 811, change: 0.50656148\n",
      "Epoch 812, change: 0.54285328\n",
      "Epoch 813, change: 0.54055523\n",
      "Epoch 814, change: 0.50384726\n",
      "Epoch 815, change: 0.43070966\n",
      "Epoch 816, change: 0.42653994\n",
      "Epoch 817, change: 0.45985330\n",
      "Epoch 818, change: 0.51748630\n",
      "Epoch 819, change: 0.54655556\n",
      "Epoch 820, change: 0.47634501\n",
      "Epoch 821, change: 0.51804856\n",
      "Epoch 822, change: 0.51125302\n",
      "Epoch 823, change: 0.53859864\n",
      "Epoch 824, change: 0.46060343\n",
      "Epoch 825, change: 0.47780814\n",
      "Epoch 826, change: 0.50145560\n",
      "Epoch 827, change: 0.49107519\n",
      "Epoch 828, change: 0.51853612\n",
      "Epoch 829, change: 0.60694876\n",
      "Epoch 830, change: 0.54896234\n",
      "Epoch 831, change: 0.53488023\n",
      "Epoch 832, change: 0.56212395\n",
      "Epoch 833, change: 0.45325152\n",
      "Epoch 834, change: 0.53614042\n",
      "Epoch 835, change: 0.49958078\n",
      "Epoch 836, change: 0.47045718\n",
      "Epoch 837, change: 0.48732218\n",
      "Epoch 838, change: 0.53567879\n",
      "Epoch 839, change: 0.50325558\n",
      "Epoch 840, change: 0.58690508\n",
      "Epoch 841, change: 0.52784550\n",
      "Epoch 842, change: 0.48908571\n",
      "Epoch 843, change: 0.46651737\n",
      "Epoch 844, change: 0.43365472\n",
      "Epoch 845, change: 0.51565656\n",
      "Epoch 846, change: 0.45857853\n",
      "Epoch 847, change: 0.60301995\n",
      "Epoch 848, change: 0.51171640\n",
      "Epoch 849, change: 0.41422367\n",
      "Epoch 850, change: 0.40495186\n",
      "Epoch 851, change: 0.51599259\n",
      "Epoch 852, change: 0.46055299\n",
      "Epoch 853, change: 0.50226715\n",
      "Epoch 854, change: 0.45576026\n",
      "Epoch 855, change: 0.51581094\n",
      "Epoch 856, change: 0.46890952\n",
      "Epoch 857, change: 0.51815670\n",
      "Epoch 858, change: 0.56487579\n",
      "Epoch 859, change: 0.51634432\n",
      "Epoch 860, change: 0.52021077\n",
      "Epoch 861, change: 0.58601234\n",
      "Epoch 862, change: 0.55419219\n",
      "Epoch 863, change: 0.51585027\n",
      "Epoch 864, change: 0.51935654\n",
      "Epoch 865, change: 0.46327634\n",
      "Epoch 866, change: 0.60082970\n",
      "Epoch 867, change: 0.44831180\n",
      "Epoch 868, change: 0.48359211\n",
      "Epoch 869, change: 0.47985383\n",
      "Epoch 870, change: 0.50718128\n",
      "Epoch 871, change: 0.49850139\n",
      "Epoch 872, change: 0.50550894\n",
      "Epoch 873, change: 0.58029941\n",
      "Epoch 874, change: 0.55849140\n",
      "Epoch 875, change: 0.50927834\n",
      "Epoch 876, change: 0.47363498\n",
      "Epoch 877, change: 0.44684923\n",
      "Epoch 878, change: 0.40665305\n",
      "Epoch 879, change: 0.52206241\n",
      "Epoch 880, change: 0.52548770\n",
      "Epoch 881, change: 0.44483407\n",
      "Epoch 882, change: 0.41624319\n",
      "Epoch 883, change: 0.39013180\n",
      "Epoch 884, change: 0.48375629\n",
      "Epoch 885, change: 0.44767146\n",
      "Epoch 886, change: 0.46587072\n",
      "Epoch 887, change: 0.49810863\n",
      "Epoch 888, change: 0.51939367\n",
      "Epoch 889, change: 0.60067355\n",
      "Epoch 890, change: 0.53085160\n",
      "Epoch 891, change: 0.51905032\n",
      "Epoch 892, change: 0.59534606\n",
      "Epoch 893, change: 0.57538313\n",
      "Epoch 894, change: 0.52944475\n",
      "Epoch 895, change: 0.55173334\n",
      "Epoch 896, change: 0.50095502\n",
      "Epoch 897, change: 0.49034123\n",
      "Epoch 898, change: 0.44616197\n",
      "Epoch 899, change: 0.47258092\n",
      "Epoch 900, change: 0.51215896\n",
      "Epoch 901, change: 0.57913329\n",
      "Epoch 902, change: 0.50706920\n",
      "Epoch 903, change: 0.56852804\n",
      "Epoch 904, change: 0.55769990\n",
      "Epoch 905, change: 0.68585162\n",
      "Epoch 906, change: 0.59690316\n",
      "Epoch 907, change: 0.51534430\n",
      "Epoch 908, change: 0.50243214\n",
      "Epoch 909, change: 0.48233874\n",
      "Epoch 910, change: 0.50629960\n",
      "Epoch 911, change: 0.45049709\n",
      "Epoch 912, change: 0.45841727\n",
      "Epoch 913, change: 0.43118605\n",
      "Epoch 914, change: 0.45861580\n",
      "Epoch 915, change: 0.47898627\n",
      "Epoch 916, change: 0.52948191\n",
      "Epoch 917, change: 0.47955046\n",
      "Epoch 918, change: 0.51588609\n"
     ]
    },
    {
     "name": "stdout",
     "output_type": "stream",
     "text": [
      "Epoch 919, change: max_iter reached after 123 seconds\n"
     ]
    },
    {
     "name": "stderr",
     "output_type": "stream",
     "text": [
      "/home/teja/anaconda3/lib/python3.9/site-packages/sklearn/linear_model/_sag.py:352: ConvergenceWarning: The max_iter was reached which means the coef_ did not converge\n",
      "  warnings.warn(\n",
      "[Parallel(n_jobs=-1)]: Done   1 out of   1 | elapsed:  2.1min finished\n"
     ]
    }
   ],
   "source": [
    "from sklearn.linear_model import LogisticRegression\n",
    "\n",
    "clf_tf = LogisticRegression(C=30.0, class_weight='balanced', solver='sag', \n",
    "                             multi_class='multinomial', n_jobs=-1, random_state=40, \n",
    "                             verbose=1, max_iter = 1000)\n",
    "clf_tf.fit(X_train_tf, y_train)\n",
    "y_predicted_tf = clf_tf.predict(X_test_tf)"
   ]
  },
  {
   "cell_type": "code",
   "execution_count": 33,
   "metadata": {
    "colab": {
     "base_uri": "https://localhost:8080/"
    },
    "id": "ZEu5B3jFQbcr",
    "outputId": "db2f6e61-4ca9-4c48-904b-0ab1ff5e2813"
   },
   "outputs": [
    {
     "name": "stdout",
     "output_type": "stream",
     "text": [
      "accuracy = 0.638, precision = 0.746, recall = 0.638, f1 = 0.671\n"
     ]
    }
   ],
   "source": [
    "accuracy_tf, precision_tf, recall_tf, f1_tf = get_metrics(y_test, y_predicted_tf)\n",
    "print(\"accuracy = %.3f, precision = %.3f, recall = %.3f, f1 = %.3f\" % (accuracy_tf, precision_tf, \n",
    "                                                                       recall_tf, f1_tf))"
   ]
  },
  {
   "cell_type": "code",
   "execution_count": 34,
   "metadata": {
    "colab": {
     "base_uri": "https://localhost:8080/"
    },
    "id": "9ecnZSb2O-vF",
    "outputId": "ac8ebf53-9460-453f-add9-31b5592c31b6"
   },
   "outputs": [
    {
     "name": "stderr",
     "output_type": "stream",
     "text": [
      "[Parallel(n_jobs=-1)]: Using backend ThreadingBackend with 8 concurrent workers.\n"
     ]
    },
    {
     "name": "stdout",
     "output_type": "stream",
     "text": [
      "0.55282131\n",
      "Epoch 920, change: 0.45725500\n",
      "Epoch 921, change: 0.50327799\n",
      "Epoch 922, change: 0.49470139\n",
      "Epoch 923, change: 0.48790387\n",
      "Epoch 924, change: 0.52625260\n",
      "Epoch 925, change: 0.54641485\n",
      "Epoch 926, change: 0.48000620\n",
      "Epoch 927, change: 0.59524626\n",
      "Epoch 928, change: 0.57414154\n",
      "Epoch 929, change: 0.48653114\n",
      "Epoch 930, change: 0.52267909\n",
      "Epoch 931, change: 0.54179011\n",
      "Epoch 932, change: 0.49657162\n",
      "Epoch 933, change: 0.50698067\n",
      "Epoch 934, change: 0.46124657\n",
      "Epoch 935, change: 0.51528992\n",
      "Epoch 936, change: 0.50116196\n",
      "Epoch 937, change: 0.46865164\n",
      "Epoch 938, change: 0.55369951\n",
      "Epoch 939, change: 0.44682116\n",
      "Epoch 940, change: 0.44313679\n",
      "Epoch 941, change: 0.50978764\n",
      "Epoch 942, change: 0.46587019\n",
      "Epoch 943, change: 0.47746834\n",
      "Epoch 944, change: 0.47655009\n",
      "Epoch 945, change: 0.48921924\n",
      "Epoch 946, change: 0.51045291\n",
      "Epoch 947, change: 0.55704238\n",
      "Epoch 948, change: 0.44380790\n",
      "Epoch 949, change: 0.43883992\n",
      "Epoch 950, change: 0.45466773\n",
      "Epoch 951, change: 0.47999260\n",
      "Epoch 952, change: 0.50938286\n",
      "Epoch 953, change: 0.47454337\n",
      "Epoch 954, change: 0.53036827\n",
      "Epoch 955, change: 0.50376684\n",
      "Epoch 956, change: 0.61375762\n",
      "Epoch 957, change: 0.62172975\n",
      "Epoch 958, change: 0.55094177\n",
      "Epoch 959, change: 0.56160646\n",
      "Epoch 960, change: 0.49792556\n",
      "Epoch 961, change: 0.52434345\n",
      "Epoch 962, change: 0.58950485\n",
      "Epoch 963, change: 0.65684581\n",
      "Epoch 964, change: 0.50025190\n",
      "Epoch 965, change: 0.48944668\n",
      "Epoch 966, change: 0.54885206\n",
      "Epoch 967, change: 0.63819675\n",
      "Epoch 968, change: 0.53784631\n",
      "Epoch 969, change: 0.48602463\n",
      "Epoch 970, change: 0.45881373\n",
      "Epoch 971, change: 0.60495403\n",
      "Epoch 972, change: 0.52453996\n",
      "Epoch 973, change: 0.50521783\n",
      "Epoch 974, change: 0.55981074\n",
      "Epoch 975, change: 0.55539458\n",
      "Epoch 976, change: 0.60056340\n",
      "Epoch 977, change: 0.61817131\n",
      "Epoch 978, change: 0.53428325\n",
      "Epoch 979, change: 0.52163211\n",
      "Epoch 980, change: 0.48445247\n",
      "Epoch 981, change: 0.49874825\n",
      "Epoch 982, change: 0.55545113\n",
      "Epoch 983, change: 0.51996409\n",
      "Epoch 984, change: 0.52115695\n",
      "Epoch 985, change: 0.53943522\n",
      "Epoch 986, change: 0.59635050\n",
      "Epoch 987, change: 0.57827155\n",
      "Epoch 988, change: 0.44660124\n",
      "Epoch 989, change: 0.48075750\n",
      "Epoch 990, change: 0.44459069\n",
      "Epoch 991, change: 0.48739560\n",
      "Epoch 992, change: 0.49457237\n",
      "Epoch 993, change: 0.49757984\n",
      "Epoch 994, change: 0.44337227\n",
      "Epoch 995, change: 0.53060961\n",
      "Epoch 996, change: 0.58504225\n",
      "Epoch 997, change: 0.49080591\n",
      "Epoch 998, change: 0.62182206\n",
      "Epoch 999, change: 0.46082086\n",
      "Epoch 1000, change: 0.53187716\n",
      "Epoch 1, change: 1.00000000\n",
      "Epoch 2, change: 0.74705165\n",
      "Epoch 3, change: 0.63632530\n",
      "Epoch 4, change: 0.54113323\n",
      "Epoch 5, change: 0.51253114\n",
      "Epoch 6, change: 0.41675940\n",
      "Epoch 7, change: 0.45729456\n",
      "Epoch 8, change: 0.45046855\n",
      "Epoch 9, change: 0.39043371\n",
      "Epoch 10, change: 0.42230482\n",
      "Epoch 11, change: 0.50400868\n",
      "Epoch 12, change: 0.34153306\n",
      "Epoch 13, change: 0.40889526\n",
      "Epoch 14, change: 0.42492253\n",
      "Epoch 15, change: 0.44470384\n",
      "Epoch 16, change: 0.42078144\n",
      "Epoch 17, change: 0.46217094\n",
      "Epoch 18, change: 0.46991398\n",
      "Epoch 19, change: 0.45551114\n",
      "Epoch 20, change: 0.38791326\n",
      "Epoch 21, change: 0.49625898\n",
      "Epoch 22, change: 0.47675487\n",
      "Epoch 23, change: 0.51302780\n",
      "Epoch 24, change: 0.47212595\n",
      "Epoch 25, change: 0.45096533\n",
      "Epoch 26, change: 0.49816492\n",
      "Epoch 27, change: 0.47730593\n",
      "Epoch 28, change: 0.45724905\n",
      "Epoch 29, change: 0.47221273\n",
      "Epoch 30, change: 0.47111146\n",
      "Epoch 31, change: 0.46464099\n",
      "Epoch 32, change: 0.44119022\n",
      "Epoch 33, change: 0.39332293\n",
      "Epoch 34, change: 0.39998365\n",
      "Epoch 35, change: 0.42281657\n",
      "Epoch 36, change: 0.48547135\n",
      "Epoch 37, change: 0.40600110\n",
      "Epoch 38, change: 0.41796285\n",
      "Epoch 39, change: 0.46428661\n",
      "Epoch 40, change: 0.44567093\n",
      "Epoch 41, change: 0.41813980\n",
      "Epoch 42, change: 0.43274524\n",
      "Epoch 43, change: 0.40183611\n",
      "Epoch 44, change: 0.52980333\n",
      "Epoch 45, change: 0.44427292\n",
      "Epoch 46, change: 0.49184638\n",
      "Epoch 47, change: 0.47473872\n",
      "Epoch 48, change: 0.42417632\n",
      "Epoch 49, change: 0.50432508\n",
      "Epoch 50, change: 0.43353492\n",
      "Epoch 51, change: 0.49749125\n",
      "Epoch 52, change: 0.42369653\n",
      "Epoch 53, change: 0.42160659\n",
      "Epoch 54, change: 0.39785083\n",
      "Epoch 55, change: 0.40091890\n",
      "Epoch 56, change: 0.45129630\n",
      "Epoch 57, change: 0.42540839\n",
      "Epoch 58, change: 0.38837746\n",
      "Epoch 59, change: 0.40016490\n",
      "Epoch 60, change: 0.37457487\n",
      "Epoch 61, change: 0.38515246\n",
      "Epoch 62, change: 0.38638306\n",
      "Epoch 63, change: 0.43590866\n",
      "Epoch 64, change: 0.43223857\n",
      "Epoch 65, change: 0.48923090\n",
      "Epoch 66, change: 0.50164343\n",
      "Epoch 67, change: 0.60111069\n",
      "Epoch 68, change: 0.43424029\n",
      "Epoch 69, change: 0.43986217\n",
      "Epoch 70, change: 0.46794103\n",
      "Epoch 71, change: 0.47313062\n",
      "Epoch 72, change: 0.35364238\n",
      "Epoch 73, change: 0.39347579\n",
      "Epoch 74, change: 0.40442822\n",
      "Epoch 75, change: 0.38526073\n",
      "Epoch 76, change: 0.40289595\n",
      "Epoch 77, change: 0.54870436\n",
      "Epoch 78, change: 0.38687891\n",
      "Epoch 79, change: 0.45281096\n",
      "Epoch 80, change: 0.38112967\n",
      "Epoch 81, change: 0.39878033\n",
      "Epoch 82, change: 0.51799663\n",
      "Epoch 83, change: 0.50498074\n",
      "Epoch 84, change: 0.46465906\n",
      "Epoch 85, change: 0.43141659\n",
      "Epoch 86, change: 0.39577151\n",
      "Epoch 87, change: 0.38094276\n",
      "Epoch 88, change: 0.42058438\n",
      "Epoch 89, change: 0.44926749\n",
      "Epoch 90, change: 0.41922910\n",
      "Epoch 91, change: 0.44129495\n",
      "Epoch 92, change: 0.48021127\n",
      "Epoch 93, change: 0.57356638\n",
      "Epoch 94, change: 0.44085286\n",
      "Epoch 95, change: 0.41603269\n",
      "Epoch 96, change: 0.45150145\n",
      "Epoch 97, change: 0.45528779\n",
      "Epoch 98, change: 0.48031095\n",
      "Epoch 99, change: 0.51110861\n",
      "Epoch 100, change: 0.56329916\n",
      "Epoch 101, change: 0.45565379\n",
      "Epoch 102, change: 0.47470567\n",
      "Epoch 103, change: 0.39226305\n",
      "Epoch 104, change: 0.44510696\n",
      "Epoch 105, change: 0.39868516\n",
      "Epoch 106, change: 0.43176354\n",
      "Epoch 107, change: 0.51184876\n",
      "Epoch 108, change: 0.52435451\n",
      "Epoch 109, change: 0.43360591\n",
      "Epoch 110, change: 0.43315048\n",
      "Epoch 111, change: 0.46213949\n",
      "Epoch 112, change: 0.39852410\n",
      "Epoch 113, change: 0.45426909\n",
      "Epoch 114, change: 0.39823957\n",
      "Epoch 115, change: 0.44660247\n",
      "Epoch 116, change: 0.53709581\n",
      "Epoch 117, change: 0.61660207\n",
      "Epoch 118, change: 0.44466721\n",
      "Epoch 119, change: 0.46505120\n",
      "Epoch 120, change: 0.44276811\n",
      "Epoch 121, change: 0.44202792\n",
      "Epoch 122, change: 0.38403709\n",
      "Epoch 123, change: 0.36412044\n",
      "Epoch 124, change: 0.40521601\n",
      "Epoch 125, change: 0.36262690\n",
      "Epoch 126, change: 0.36068857\n",
      "Epoch 127, change: 0.39429777\n",
      "Epoch 128, change: 0.46357091\n",
      "Epoch 129, change: 0.48743233\n",
      "Epoch 130, change: 0.44269153\n",
      "Epoch 131, change: 0.45156641\n",
      "Epoch 132, change: 0.41317753\n",
      "Epoch 133, change: 0.45384223\n",
      "Epoch 134, change: 0.45546803\n",
      "Epoch 135, change: 0.47323960\n",
      "Epoch 136, change: 0.43199041\n",
      "Epoch 137, change: 0.42129260\n",
      "Epoch 138, change: 0.36774382\n",
      "Epoch 139, change: 0.37995931\n",
      "Epoch 140, change: 0.38934048\n",
      "Epoch 141, change: 0.45747889\n",
      "Epoch 142, change: 0.46924455\n",
      "Epoch 143, change: 0.43889831\n",
      "Epoch 144, change: 0.47564736\n",
      "Epoch 145, change: 0.43353604\n",
      "Epoch 146, change: 0.36256166\n",
      "Epoch 147, change: 0.38240319\n",
      "Epoch 148, change: 0.46744602\n",
      "Epoch 149, change: 0.54394402\n",
      "Epoch 150, change: 0.52610965\n",
      "Epoch 151, change: 0.46369281\n",
      "Epoch 152, change: 0.45344186\n",
      "Epoch 153, change: 0.39993830\n",
      "Epoch 154, change: 0.45719985\n",
      "Epoch 155, change: 0.40101866\n",
      "Epoch 156, change: 0.43490252\n",
      "Epoch 157, change: 0.39206006\n",
      "Epoch 158, change: 0.47167412\n",
      "Epoch 159, change: 0.37659015\n",
      "Epoch 160, change: 0.37354702\n",
      "Epoch 161, change: 0.41198524\n",
      "Epoch 162, change: 0.52255159\n",
      "Epoch 163, change: 0.40204907\n",
      "Epoch 164, change: 0.48973417\n",
      "Epoch 165, change: 0.46508107\n",
      "Epoch 166, change: 0.44564879\n",
      "Epoch 167, change: 0.41588245\n",
      "Epoch 168, change: 0.50215220\n",
      "Epoch 169, change: 0.41660018\n",
      "Epoch 170, change: 0.41684762\n",
      "Epoch 171, change: 0.49513778\n",
      "Epoch 172, change: 0.43530246\n",
      "Epoch 173, change: 0.48505624\n",
      "Epoch 174, change: 0.45984388\n",
      "Epoch 175, change: 0.51153338\n",
      "Epoch 176, change: 0.35786742\n",
      "Epoch 177, change: 0.38824485\n",
      "Epoch 178, change: 0.38355111\n",
      "Epoch 179, change: 0.46469936\n",
      "Epoch 180, change: 0.41295944\n",
      "Epoch 181, change: 0.41155028\n",
      "Epoch 182, change: 0.41030753\n",
      "Epoch 183, change: 0.41458270\n",
      "Epoch 184, change: 0.40485858\n",
      "Epoch 185, change: 0.42472076\n",
      "Epoch 186, change: 0.48629690\n",
      "Epoch 187, change: 0.49163213\n",
      "Epoch 188, change: 0.44177299\n",
      "Epoch 189, change: 0.43326615\n",
      "Epoch 190, change: 0.62425186\n",
      "Epoch 191, change: 0.44548813\n",
      "Epoch 192, change: 0.48121984\n",
      "Epoch 193, change: 0.44124541\n",
      "Epoch 194, change: 0.47720616\n",
      "Epoch 195, change: 0.43106765\n",
      "Epoch 196, change: 0.42906142\n",
      "Epoch 197, change: 0.45506207\n",
      "Epoch 198, change: 0.42617272\n",
      "Epoch 199, change: 0.50905127\n",
      "Epoch 200, change: 0.41880508\n",
      "Epoch 201, change: 0.52963197\n",
      "Epoch 202, change: 0.43383390\n",
      "Epoch 203, change: 0.41923620\n",
      "Epoch 204, change: 0.42411200\n",
      "Epoch 205, change: 0.35941743\n",
      "Epoch 206, change: 0.45035858\n",
      "Epoch 207, change: 0.46156058\n",
      "Epoch 208, change: 0.40360493\n",
      "Epoch 209, change: 0.52408232\n",
      "Epoch 210, change: 0.52080617\n",
      "Epoch 211, change: 0.43434118\n",
      "Epoch 212, change: 0.40018938\n",
      "Epoch 213, change: 0.35816856\n",
      "Epoch 214, change: 0.40430450\n",
      "Epoch 215, change: 0.52937033\n",
      "Epoch 216, change: 0.48643543\n",
      "Epoch 217, change: 0.47604525\n",
      "Epoch 218, change: 0.37935702\n",
      "Epoch 219, change: 0.35830921\n",
      "Epoch 220, change: 0.38780218\n",
      "Epoch 221, change: 0.57579943\n",
      "Epoch 222, change: 0.46449510\n",
      "Epoch 223, change: 0.41793649\n",
      "Epoch 224, change: 0.49677683\n",
      "Epoch 225, change: 0.40516041\n",
      "Epoch 226, change: 0.48295679\n",
      "Epoch 227, change: 0.38020168\n",
      "Epoch 228, change: 0.38635623\n",
      "Epoch 229, change: 0.49779135\n",
      "Epoch 230, change: 0.43677742\n",
      "Epoch 231, change: 0.36762920\n",
      "Epoch 232, change: 0.45638655\n",
      "Epoch 233, change: 0.47021989\n",
      "Epoch 234, change: 0.44321087\n",
      "Epoch 235, change: 0.56719749\n",
      "Epoch 236, change: 0.50637790\n",
      "Epoch 237, change: 0.46479354\n",
      "Epoch 238, change: 0.53212659\n",
      "Epoch 239, change: 0.49929538\n",
      "Epoch 240, change: 0.42812745\n",
      "Epoch 241, change: 0.53576496\n",
      "Epoch 242, change: 0.39202987\n",
      "Epoch 243, change: 0.41503406\n",
      "Epoch 244, change: 0.43836181\n",
      "Epoch 245, change: 0.42510734\n",
      "Epoch 246, change: 0.51133638\n",
      "Epoch 247, change: 0.50128680\n",
      "Epoch 248, change: 0.51801917\n",
      "Epoch 249, change: 0.40612948\n",
      "Epoch 250, change: 0.40730926\n",
      "Epoch 251, change: 0.40970934\n",
      "Epoch 252, change: 0.42319934\n",
      "Epoch 253, change: 0.41668404\n",
      "Epoch 254, change: 0.49428536\n",
      "Epoch 255, change: 0.49747078\n",
      "Epoch 256, change: 0.46366999\n",
      "Epoch 257, change: 0.38485429\n",
      "Epoch 258, change: 0.36800004\n",
      "Epoch 259, change: 0.40804718\n",
      "Epoch 260, change: 0.39622880\n",
      "Epoch 261, change: 0.47881395\n",
      "Epoch 262, change: 0.39537246\n",
      "Epoch 263, change: 0.44065572\n",
      "Epoch 264, change: 0.42369245\n",
      "Epoch 265, change: 0.44038313\n",
      "Epoch 266, change: 0.40404211\n",
      "Epoch 267, change: 0.35797645\n",
      "Epoch 268, change: 0.44608676\n",
      "Epoch 269, change: 0.41906062\n",
      "Epoch 270, change: 0.41224804\n",
      "Epoch 271, change: 0.40959466\n",
      "Epoch 272, change: 0.54665810\n",
      "Epoch 273, change: 0.48900588\n",
      "Epoch 274, change: 0.44454602\n",
      "Epoch 275, change: 0.42047359\n",
      "Epoch 276, change: 0.53451281\n",
      "Epoch 277, change: 0.44699055\n",
      "Epoch 278, change: 0.48125353\n",
      "Epoch 279, change: 0.47379176\n",
      "Epoch 280, change: 0.45382984\n",
      "Epoch 281, change: 0.47082255\n",
      "Epoch 282, change: 0.45769906\n",
      "Epoch 283, change: 0.46333436\n",
      "Epoch 284, change: 0.38500026\n",
      "Epoch 285, change: 0.48123484\n",
      "Epoch 286, change: 0.45060075\n",
      "Epoch 287, change: 0.43366926\n",
      "Epoch 288, change: 0.42689693\n",
      "Epoch 289, change: 0.40031511\n",
      "Epoch 290, change: 0.37338091\n",
      "Epoch 291, change: 0.40255581\n",
      "Epoch 292, change: 0.39407417\n",
      "Epoch 293, change: 0.41125508\n",
      "Epoch 294, change: 0.46319851\n",
      "Epoch 295, change: 0.51037168\n",
      "Epoch 296, change: 0.49108007\n",
      "Epoch 297, change: 0.53517108\n",
      "Epoch 298, change: 0.44571431\n",
      "Epoch 299, change: 0.43271740\n",
      "Epoch 300, change: 0.44066859\n",
      "Epoch 301, change: 0.44845110\n",
      "Epoch 302, change: 0.50365931\n",
      "Epoch 303, change: 0.41066436\n",
      "Epoch 304, change: 0.36949948\n",
      "Epoch 305, change: 0.39117028\n",
      "Epoch 306, change: 0.40828059\n",
      "Epoch 307, change: 0.47516147\n",
      "Epoch 308, change: 0.41207475\n",
      "Epoch 309, change: 0.36721920\n",
      "Epoch 310, change: 0.44256538\n",
      "Epoch 311, change: 0.39632633\n",
      "Epoch 312, change: 0.41471928\n",
      "Epoch 313, change: 0.61684239\n",
      "Epoch 314, change: 0.42153847\n",
      "Epoch 315, change: 0.44861142\n",
      "Epoch 316, change: 0.49402603\n",
      "Epoch 317, change: 0.36440294\n",
      "Epoch 318, change: 0.52672972\n",
      "Epoch 319, change: 0.38317300\n",
      "Epoch 320, change: 0.37545278\n",
      "Epoch 321, change: 0.41345309\n",
      "Epoch 322, change: 0.30330214\n",
      "Epoch 323, change: 0.47064343\n",
      "Epoch 324, change: 0.41527944\n",
      "Epoch 325, change: 0.40408619\n",
      "Epoch 326, change: 0.39273254\n",
      "Epoch 327, change: 0.59196676\n",
      "Epoch 328, change: 0.50630837\n",
      "Epoch 329, change: 0.47758582\n",
      "Epoch 330, change: 0.47432633\n",
      "Epoch 331, change: 0.43025602\n"
     ]
    },
    {
     "name": "stdout",
     "output_type": "stream",
     "text": [
      "Epoch 332, change: 0.38517395\n",
      "Epoch 333, change: 0.45055019\n",
      "Epoch 334, change: 0.50656555\n",
      "Epoch 335, change: 0.41659875\n",
      "Epoch 336, change: 0.41784995\n",
      "Epoch 337, change: 0.38559438\n",
      "Epoch 338, change: 0.38664097\n",
      "Epoch 339, change: 0.54315062\n",
      "Epoch 340, change: 0.52776700\n",
      "Epoch 341, change: 0.48897562\n",
      "Epoch 342, change: 0.42427592\n",
      "Epoch 343, change: 0.43405919\n",
      "Epoch 344, change: 0.43724478\n",
      "Epoch 345, change: 0.43407145\n",
      "Epoch 346, change: 0.50497421\n",
      "Epoch 347, change: 0.38931886\n",
      "Epoch 348, change: 0.45659469\n",
      "Epoch 349, change: 0.45912577\n",
      "Epoch 350, change: 0.49790274\n",
      "Epoch 351, change: 0.47928751\n",
      "Epoch 352, change: 0.40333158\n",
      "Epoch 353, change: 0.43160144\n",
      "Epoch 354, change: 0.40414610\n",
      "Epoch 355, change: 0.45164978\n",
      "Epoch 356, change: 0.41093046\n",
      "Epoch 357, change: 0.51429698\n",
      "Epoch 358, change: 0.51211958\n",
      "Epoch 359, change: 0.43604938\n",
      "Epoch 360, change: 0.37720005\n",
      "Epoch 361, change: 0.35551149\n",
      "Epoch 362, change: 0.44402612\n",
      "Epoch 363, change: 0.39888254\n",
      "Epoch 364, change: 0.44910463\n",
      "Epoch 365, change: 0.43181854\n",
      "Epoch 366, change: 0.53885660\n",
      "Epoch 367, change: 0.40291824\n",
      "Epoch 368, change: 0.54666188\n",
      "Epoch 369, change: 0.50935963\n",
      "Epoch 370, change: 0.50018420\n",
      "Epoch 371, change: 0.40993080\n",
      "Epoch 372, change: 0.40007802\n",
      "Epoch 373, change: 0.46089873\n",
      "Epoch 374, change: 0.42386955\n",
      "Epoch 375, change: 0.54844207\n",
      "Epoch 376, change: 0.57871350\n",
      "Epoch 377, change: 0.45520969\n",
      "Epoch 378, change: 0.39217695\n",
      "Epoch 379, change: 0.38845145\n",
      "Epoch 380, change: 0.39435619\n",
      "Epoch 381, change: 0.52672653\n",
      "Epoch 382, change: 0.56924818\n",
      "Epoch 383, change: 0.42740424\n",
      "Epoch 384, change: 0.41508840\n",
      "Epoch 385, change: 0.56774960\n",
      "Epoch 386, change: 0.48014896\n",
      "Epoch 387, change: 0.43515083\n",
      "Epoch 388, change: 0.43109264\n",
      "Epoch 389, change: 0.51680395\n",
      "Epoch 390, change: 0.53097278\n",
      "Epoch 391, change: 0.43178536\n",
      "Epoch 392, change: 0.42581240\n",
      "Epoch 393, change: 0.40222979\n",
      "Epoch 394, change: 0.41096979\n",
      "Epoch 395, change: 0.41870858\n",
      "Epoch 396, change: 0.49194418\n",
      "Epoch 397, change: 0.49816892\n",
      "Epoch 398, change: 0.55303477\n",
      "Epoch 399, change: 0.51572577\n",
      "Epoch 400, change: 0.43805848\n",
      "Epoch 401, change: 0.39100083\n",
      "Epoch 402, change: 0.44318602\n",
      "Epoch 403, change: 0.52526701\n",
      "Epoch 404, change: 0.51977923\n",
      "Epoch 405, change: 0.51389017\n",
      "Epoch 406, change: 0.43900602\n",
      "Epoch 407, change: 0.41712930\n",
      "Epoch 408, change: 0.41393432\n",
      "Epoch 409, change: 0.49839930\n",
      "Epoch 410, change: 0.42187101\n",
      "Epoch 411, change: 0.40936172\n",
      "Epoch 412, change: 0.43567792\n",
      "Epoch 413, change: 0.45274935\n",
      "Epoch 414, change: 0.44206121\n",
      "Epoch 415, change: 0.40726245\n",
      "Epoch 416, change: 0.41824743\n",
      "Epoch 417, change: 0.51843275\n",
      "Epoch 418, change: 0.41132995\n",
      "Epoch 419, change: 0.44807420\n",
      "Epoch 420, change: 0.50633411\n",
      "Epoch 421, change: 0.44980512\n",
      "Epoch 422, change: 0.46356338\n",
      "Epoch 423, change: 0.37940563\n",
      "Epoch 424, change: 0.50106962\n",
      "Epoch 425, change: 0.43394167\n",
      "Epoch 426, change: 0.58260089\n",
      "Epoch 427, change: 0.48091182\n",
      "Epoch 428, change: 0.46836133\n",
      "Epoch 429, change: 0.44483902\n",
      "Epoch 430, change: 0.39687876\n",
      "Epoch 431, change: 0.36148799\n",
      "Epoch 432, change: 0.43118173\n",
      "Epoch 433, change: 0.39293215\n",
      "Epoch 434, change: 0.44442453\n",
      "Epoch 435, change: 0.55344683\n",
      "Epoch 436, change: 0.51717220\n",
      "Epoch 437, change: 0.46168607\n",
      "Epoch 438, change: 0.56322574\n",
      "Epoch 439, change: 0.43936906\n",
      "Epoch 440, change: 0.44005031\n",
      "Epoch 441, change: 0.40406644\n",
      "Epoch 442, change: 0.49336504\n",
      "Epoch 443, change: 0.39089154\n",
      "Epoch 444, change: 0.41786966\n",
      "Epoch 445, change: 0.38757904\n",
      "Epoch 446, change: 0.48759272\n",
      "Epoch 447, change: 0.37623450\n",
      "Epoch 448, change: 0.39201547\n",
      "Epoch 449, change: 0.40889568\n",
      "Epoch 450, change: 0.37033106\n",
      "Epoch 451, change: 0.47858195\n",
      "Epoch 452, change: 0.44070401\n",
      "Epoch 453, change: 0.43697877\n",
      "Epoch 454, change: 0.55074144\n",
      "Epoch 455, change: 0.50124587\n",
      "Epoch 456, change: 0.41620597\n",
      "Epoch 457, change: 0.45852267\n",
      "Epoch 458, change: 0.47455515\n",
      "Epoch 459, change: 0.43041500\n",
      "Epoch 460, change: 0.48357330\n",
      "Epoch 461, change: 0.45407935\n",
      "Epoch 462, change: 0.38907797\n",
      "Epoch 463, change: 0.36621162\n",
      "Epoch 464, change: 0.40821642\n",
      "Epoch 465, change: 0.49258660\n",
      "Epoch 466, change: 0.43893478\n",
      "Epoch 467, change: 0.43970605\n",
      "Epoch 468, change: 0.48862023\n",
      "Epoch 469, change: 0.50644413\n",
      "Epoch 470, change: 0.41444144\n",
      "Epoch 471, change: 0.38485281\n",
      "Epoch 472, change: 0.52559132\n",
      "Epoch 473, change: 0.44492397\n",
      "Epoch 474, change: 0.43612305\n",
      "Epoch 475, change: 0.42121188\n",
      "Epoch 476, change: 0.53330042\n",
      "Epoch 477, change: 0.42041255\n",
      "Epoch 478, change: 0.49087535\n",
      "Epoch 479, change: 0.44201166\n",
      "Epoch 480, change: 0.60309754\n",
      "Epoch 481, change: 0.43871523\n",
      "Epoch 482, change: 0.39126226\n",
      "Epoch 483, change: 0.38551745\n",
      "Epoch 484, change: 0.43608372\n",
      "Epoch 485, change: 0.38928623\n",
      "Epoch 486, change: 0.41069065\n",
      "Epoch 487, change: 0.45306821\n",
      "Epoch 488, change: 0.45892104\n",
      "Epoch 489, change: 0.46366465\n",
      "Epoch 490, change: 0.45162374\n",
      "Epoch 491, change: 0.41455790\n",
      "Epoch 492, change: 0.37568143\n",
      "Epoch 493, change: 0.38413405\n",
      "Epoch 494, change: 0.41112702\n",
      "Epoch 495, change: 0.38828281\n",
      "Epoch 496, change: 0.43551834\n",
      "Epoch 497, change: 0.43154923\n",
      "Epoch 498, change: 0.42248624\n",
      "Epoch 499, change: 0.42363175\n",
      "Epoch 500, change: 0.41276942\n",
      "Epoch 501, change: 0.36746480\n",
      "Epoch 502, change: 0.48334441\n",
      "Epoch 503, change: 0.44670172\n",
      "Epoch 504, change: 0.36358331\n",
      "Epoch 505, change: 0.57390736\n",
      "Epoch 506, change: 0.42140870\n",
      "Epoch 507, change: 0.38002935\n",
      "Epoch 508, change: 0.47746507\n",
      "Epoch 509, change: 0.50762273\n",
      "Epoch 510, change: 0.51554913\n",
      "Epoch 511, change: 0.40300430\n",
      "Epoch 512, change: 0.44008652\n",
      "Epoch 513, change: 0.57752116\n",
      "Epoch 514, change: 0.50233516\n",
      "Epoch 515, change: 0.46030518\n",
      "Epoch 516, change: 0.50026518\n",
      "Epoch 517, change: 0.48566772\n",
      "Epoch 518, change: 0.47167659\n",
      "Epoch 519, change: 0.52477696\n",
      "Epoch 520, change: 0.49286558\n",
      "Epoch 521, change: 0.40406777\n",
      "Epoch 522, change: 0.39143241\n",
      "Epoch 523, change: 0.47584308\n",
      "Epoch 524, change: 0.42936862\n",
      "Epoch 525, change: 0.45687545\n",
      "Epoch 526, change: 0.40049177\n",
      "Epoch 527, change: 0.43813068\n",
      "Epoch 528, change: 0.52773353\n",
      "Epoch 529, change: 0.40901592\n",
      "Epoch 530, change: 0.48875430\n",
      "Epoch 531, change: 0.46642747\n",
      "Epoch 532, change: 0.47386013\n",
      "Epoch 533, change: 0.46807687\n",
      "Epoch 534, change: 0.46299438\n",
      "Epoch 535, change: 0.39157253\n",
      "Epoch 536, change: 0.49531181\n",
      "Epoch 537, change: 0.48520123\n",
      "Epoch 538, change: 0.49419698\n",
      "Epoch 539, change: 0.54706627\n",
      "Epoch 540, change: 0.44580119\n",
      "Epoch 541, change: 0.52794373\n",
      "Epoch 542, change: 0.38008685\n",
      "Epoch 543, change: 0.41362111\n",
      "Epoch 544, change: 0.47817844\n",
      "Epoch 545, change: 0.48817460\n",
      "Epoch 546, change: 0.41470195\n",
      "Epoch 547, change: 0.54173753\n",
      "Epoch 548, change: 0.46169103\n",
      "Epoch 549, change: 0.54177275\n",
      "Epoch 550, change: 0.38869429\n",
      "Epoch 551, change: 0.37616816\n",
      "Epoch 552, change: 0.47235047\n",
      "Epoch 553, change: 0.45566862\n",
      "Epoch 554, change: 0.44322123\n",
      "Epoch 555, change: 0.44680160\n",
      "Epoch 556, change: 0.45224082\n",
      "Epoch 557, change: 0.55638160\n",
      "Epoch 558, change: 0.48637043\n",
      "Epoch 559, change: 0.48345721\n",
      "Epoch 560, change: 0.38286677\n",
      "Epoch 561, change: 0.40987383\n",
      "Epoch 562, change: 0.42380633\n",
      "Epoch 563, change: 0.43253529\n",
      "Epoch 564, change: 0.42744896\n",
      "Epoch 565, change: 0.46249185\n",
      "Epoch 566, change: 0.47409596\n",
      "Epoch 567, change: 0.41328059\n",
      "Epoch 568, change: 0.50406658\n",
      "Epoch 569, change: 0.56811551\n",
      "Epoch 570, change: 0.39461034\n",
      "Epoch 571, change: 0.36801080\n",
      "Epoch 572, change: 0.39284692\n",
      "Epoch 573, change: 0.38815582\n",
      "Epoch 574, change: 0.48894900\n",
      "Epoch 575, change: 0.46186190\n",
      "Epoch 576, change: 0.43562963\n",
      "Epoch 577, change: 0.37275856\n",
      "Epoch 578, change: 0.36886254\n",
      "Epoch 579, change: 0.47794343\n",
      "Epoch 580, change: 0.40165350\n",
      "Epoch 581, change: 0.43870614\n",
      "Epoch 582, change: 0.47825134\n",
      "Epoch 583, change: 0.62336533\n",
      "Epoch 584, change: 0.65358226\n",
      "Epoch 585, change: 0.49641389\n",
      "Epoch 586, change: 0.50771451\n",
      "Epoch 587, change: 0.47983921\n",
      "Epoch 588, change: 0.56487078\n",
      "Epoch 589, change: 0.46333070\n",
      "Epoch 590, change: 0.51027649\n",
      "Epoch 591, change: 0.43903842\n",
      "Epoch 592, change: 0.40326862\n",
      "Epoch 593, change: 0.45435708\n",
      "Epoch 594, change: 0.47022851\n",
      "Epoch 595, change: 0.38604526\n",
      "Epoch 596, change: 0.44681811\n",
      "Epoch 597, change: 0.40739530\n",
      "Epoch 598, change: 0.42982777\n",
      "Epoch 599, change: 0.41859477\n",
      "Epoch 600, change: 0.38086541\n",
      "Epoch 601, change: 0.40705303\n",
      "Epoch 602, change: 0.37500030\n",
      "Epoch 603, change: 0.40209817\n",
      "Epoch 604, change: 0.39403261\n"
     ]
    },
    {
     "name": "stdout",
     "output_type": "stream",
     "text": [
      "Epoch 605, change: 0.43087104\n",
      "Epoch 606, change: 0.52144059\n",
      "Epoch 607, change: 0.48589708\n",
      "Epoch 608, change: 0.38573170\n",
      "Epoch 609, change: 0.41262021\n",
      "Epoch 610, change: 0.50250228\n",
      "Epoch 611, change: 0.45144882\n",
      "Epoch 612, change: 0.45129974\n",
      "Epoch 613, change: 0.39758486\n",
      "Epoch 614, change: 0.51187392\n",
      "Epoch 615, change: 0.43765267\n",
      "Epoch 616, change: 0.34494592\n",
      "Epoch 617, change: 0.38122952\n",
      "Epoch 618, change: 0.37648261\n",
      "Epoch 619, change: 0.52539042\n",
      "Epoch 620, change: 0.39978764\n",
      "Epoch 621, change: 0.44679009\n",
      "Epoch 622, change: 0.44260242\n",
      "Epoch 623, change: 0.41849130\n",
      "Epoch 624, change: 0.41055861\n",
      "Epoch 625, change: 0.41940883\n",
      "Epoch 626, change: 0.40630064\n",
      "Epoch 627, change: 0.41164856\n",
      "Epoch 628, change: 0.43874795\n",
      "Epoch 629, change: 0.48023665\n",
      "Epoch 630, change: 0.61265386\n",
      "Epoch 631, change: 0.49089334\n",
      "Epoch 632, change: 0.71102578\n",
      "Epoch 633, change: 0.49384859\n",
      "Epoch 634, change: 0.45702849\n",
      "Epoch 635, change: 0.48499431\n",
      "Epoch 636, change: 0.49771895\n",
      "Epoch 637, change: 0.42046536\n",
      "Epoch 638, change: 0.38485049\n",
      "Epoch 639, change: 0.36590092\n",
      "Epoch 640, change: 0.46103916\n",
      "Epoch 641, change: 0.43463082\n",
      "Epoch 642, change: 0.41927958\n",
      "Epoch 643, change: 0.45633170\n",
      "Epoch 644, change: 0.42553321\n",
      "Epoch 645, change: 0.44340886\n",
      "Epoch 646, change: 0.41858761\n",
      "Epoch 647, change: 0.43949494\n",
      "Epoch 648, change: 0.39990261\n",
      "Epoch 649, change: 0.40373028\n",
      "Epoch 650, change: 0.43859906\n",
      "Epoch 651, change: 0.49113793\n",
      "Epoch 652, change: 0.47783750\n",
      "Epoch 653, change: 0.41830320\n",
      "Epoch 654, change: 0.38833256\n",
      "Epoch 655, change: 0.42822763\n",
      "Epoch 656, change: 0.50785262\n",
      "Epoch 657, change: 0.46852105\n",
      "Epoch 658, change: 0.54978721\n",
      "Epoch 659, change: 0.48800154\n",
      "Epoch 660, change: 0.40204541\n",
      "Epoch 661, change: 0.47588911\n",
      "Epoch 662, change: 0.44808303\n",
      "Epoch 663, change: 0.41240862\n",
      "Epoch 664, change: 0.40498471\n",
      "Epoch 665, change: 0.47868892\n",
      "Epoch 666, change: 0.45691859\n",
      "Epoch 667, change: 0.53706524\n",
      "Epoch 668, change: 0.39928672\n",
      "Epoch 669, change: 0.40261534\n",
      "Epoch 670, change: 0.36670573\n",
      "Epoch 671, change: 0.39073173\n",
      "Epoch 672, change: 0.45151703\n",
      "Epoch 673, change: 0.37498296\n",
      "Epoch 674, change: 0.40883341\n",
      "Epoch 675, change: 0.38403116\n",
      "Epoch 676, change: 0.37563657\n",
      "Epoch 677, change: 0.52592645\n",
      "Epoch 678, change: 0.42436835\n",
      "Epoch 679, change: 0.46826006\n",
      "Epoch 680, change: 0.43762913\n",
      "Epoch 681, change: 0.42349097\n",
      "Epoch 682, change: 0.45888955\n",
      "Epoch 683, change: 0.43312053\n",
      "Epoch 684, change: 0.44759704\n",
      "Epoch 685, change: 0.37409598\n",
      "Epoch 686, change: 0.40757126\n",
      "Epoch 687, change: 0.40974799\n",
      "Epoch 688, change: 0.43561378\n",
      "Epoch 689, change: 0.42455492\n",
      "Epoch 690, change: 0.39601537\n",
      "Epoch 691, change: 0.42352471\n",
      "Epoch 692, change: 0.47866709\n",
      "Epoch 693, change: 0.41559844\n",
      "Epoch 694, change: 0.45636898\n",
      "Epoch 695, change: 0.40939712\n",
      "Epoch 696, change: 0.34389186\n",
      "Epoch 697, change: 0.46049628\n",
      "Epoch 698, change: 0.46160835\n",
      "Epoch 699, change: 0.60291280\n",
      "Epoch 700, change: 0.46050092\n",
      "Epoch 701, change: 0.44316268\n",
      "Epoch 702, change: 0.55551665\n",
      "Epoch 703, change: 0.48291612\n",
      "Epoch 704, change: 0.58442325\n",
      "Epoch 705, change: 0.40503054\n",
      "Epoch 706, change: 0.40166043\n",
      "Epoch 707, change: 0.35426155\n",
      "Epoch 708, change: 0.43150454\n",
      "Epoch 709, change: 0.44260285\n",
      "Epoch 710, change: 0.44704229\n",
      "Epoch 711, change: 0.44255216\n",
      "Epoch 712, change: 0.50468049\n",
      "Epoch 713, change: 0.70047857\n",
      "Epoch 714, change: 0.49099794\n",
      "Epoch 715, change: 0.40130231\n",
      "Epoch 716, change: 0.43855227\n",
      "Epoch 717, change: 0.47834093\n",
      "Epoch 718, change: 0.55249177\n",
      "Epoch 719, change: 0.49836327\n",
      "Epoch 720, change: 0.42785254\n",
      "Epoch 721, change: 0.44306007\n",
      "Epoch 722, change: 0.50573362\n",
      "Epoch 723, change: 0.43899485\n",
      "Epoch 724, change: 0.44938702\n",
      "Epoch 725, change: 0.44927060\n",
      "Epoch 726, change: 0.39367378\n",
      "Epoch 727, change: 0.42971903\n",
      "Epoch 728, change: 0.45394857\n",
      "Epoch 729, change: 0.44665892\n",
      "Epoch 730, change: 0.44719774\n",
      "Epoch 731, change: 0.40747799\n",
      "Epoch 732, change: 0.39231833\n",
      "Epoch 733, change: 0.41760649\n",
      "Epoch 734, change: 0.45924921\n",
      "Epoch 735, change: 0.45234665\n",
      "Epoch 736, change: 0.38877306\n",
      "Epoch 737, change: 0.44002263\n",
      "Epoch 738, change: 0.43688659\n",
      "Epoch 739, change: 0.42400246\n",
      "Epoch 740, change: 0.35704340\n",
      "Epoch 741, change: 0.38860045\n",
      "Epoch 742, change: 0.45066294\n",
      "Epoch 743, change: 0.35787849\n",
      "Epoch 744, change: 0.50701796\n",
      "Epoch 745, change: 0.46844131\n",
      "Epoch 746, change: 0.41565450\n",
      "Epoch 747, change: 0.47675571\n",
      "Epoch 748, change: 0.48550745\n",
      "Epoch 749, change: 0.46533535\n",
      "Epoch 750, change: 0.46033923\n",
      "Epoch 751, change: 0.45419115\n",
      "Epoch 752, change: 0.48822132\n",
      "Epoch 753, change: 0.48516225\n",
      "Epoch 754, change: 0.42373421\n",
      "Epoch 755, change: 0.50494025\n",
      "Epoch 756, change: 0.49880846\n",
      "Epoch 757, change: 0.50091828\n",
      "Epoch 758, change: 0.47982163\n",
      "Epoch 759, change: 0.44446281\n",
      "Epoch 760, change: 0.49498711\n",
      "Epoch 761, change: 0.42312096\n",
      "Epoch 762, change: 0.45620912\n",
      "Epoch 763, change: 0.36219021\n",
      "Epoch 764, change: 0.40195694\n",
      "Epoch 765, change: 0.37135643\n",
      "Epoch 766, change: 0.44998802\n",
      "Epoch 767, change: 0.41840440\n",
      "Epoch 768, change: 0.46732164\n",
      "Epoch 769, change: 0.43751111\n",
      "Epoch 770, change: 0.43727767\n",
      "Epoch 771, change: 0.44680009\n",
      "Epoch 772, change: 0.41279691\n",
      "Epoch 773, change: 0.40600709\n",
      "Epoch 774, change: 0.38421840\n",
      "Epoch 775, change: 0.41139943\n",
      "Epoch 776, change: 0.53907813\n",
      "Epoch 777, change: 0.44989714\n",
      "Epoch 778, change: 0.37799526\n",
      "Epoch 779, change: 0.44646251\n",
      "Epoch 780, change: 0.43215361\n",
      "Epoch 781, change: 0.38638144\n",
      "Epoch 782, change: 0.36548722\n",
      "Epoch 783, change: 0.39080509\n",
      "Epoch 784, change: 0.49353269\n",
      "Epoch 785, change: 0.43898069\n",
      "Epoch 786, change: 0.46440462\n",
      "Epoch 787, change: 0.58072832\n",
      "Epoch 788, change: 0.42630930\n",
      "Epoch 789, change: 0.38656538\n",
      "Epoch 790, change: 0.41001364\n",
      "Epoch 791, change: 0.41105184\n",
      "Epoch 792, change: 0.48277209\n",
      "Epoch 793, change: 0.43625230\n",
      "Epoch 794, change: 0.44892710\n",
      "Epoch 795, change: 0.58518362\n",
      "Epoch 796, change: 0.60018526\n",
      "Epoch 797, change: 0.51686612\n",
      "Epoch 798, change: 0.49476673\n",
      "Epoch 799, change: 0.39504234\n",
      "Epoch 800, change: 0.39994436\n",
      "Epoch 801, change: 0.48351436\n",
      "Epoch 802, change: 0.46877346\n",
      "Epoch 803, change: 0.43527851\n",
      "Epoch 804, change: 0.54684319\n",
      "Epoch 805, change: 0.48184849\n",
      "Epoch 806, change: 0.37004705\n",
      "Epoch 807, change: 0.39049663\n",
      "Epoch 808, change: 0.47769064\n",
      "Epoch 809, change: 0.56526220\n",
      "Epoch 810, change: 0.43293408\n",
      "Epoch 811, change: 0.45238490\n",
      "Epoch 812, change: 0.39299611\n",
      "Epoch 813, change: 0.54472803\n",
      "Epoch 814, change: 0.46991255\n",
      "Epoch 815, change: 0.39566591\n",
      "Epoch 816, change: 0.44097440\n",
      "Epoch 817, change: 0.38711168\n",
      "Epoch 818, change: 0.45517832\n",
      "Epoch 819, change: 0.34994793\n",
      "Epoch 820, change: 0.43832883\n",
      "Epoch 821, change: 0.41053232\n",
      "Epoch 822, change: 0.46838901\n",
      "Epoch 823, change: 0.39741427\n",
      "Epoch 824, change: 0.42017139\n",
      "Epoch 825, change: 0.39043663\n",
      "Epoch 826, change: 0.43135355\n",
      "Epoch 827, change: 0.40124568\n",
      "Epoch 828, change: 0.41528954\n",
      "Epoch 829, change: 0.40294448\n",
      "Epoch 830, change: 0.43180186\n",
      "Epoch 831, change: 0.46042563\n",
      "Epoch 832, change: 0.44499873\n",
      "Epoch 833, change: 0.45224319\n",
      "Epoch 834, change: 0.42504963\n",
      "Epoch 835, change: 0.39210138\n",
      "Epoch 836, change: 0.43044217\n",
      "Epoch 837, change: 0.44359422\n",
      "Epoch 838, change: 0.40543472\n",
      "Epoch 839, change: 0.40528373\n",
      "Epoch 840, change: 0.48715756\n",
      "Epoch 841, change: 0.46474961\n",
      "Epoch 842, change: 0.50587834\n",
      "Epoch 843, change: 0.44137751\n",
      "Epoch 844, change: 0.41581910\n",
      "Epoch 845, change: 0.36021758\n",
      "Epoch 846, change: 0.40485059\n",
      "Epoch 847, change: 0.52342720\n",
      "Epoch 848, change: 0.48406525\n",
      "Epoch 849, change: 0.49909783\n",
      "Epoch 850, change: 0.47054029\n",
      "Epoch 851, change: 0.48096740\n",
      "Epoch 852, change: 0.40429152\n",
      "Epoch 853, change: 0.42536537\n",
      "Epoch 854, change: 0.45270566\n",
      "Epoch 855, change: 0.42227191\n",
      "Epoch 856, change: 0.40560666\n",
      "Epoch 857, change: 0.53239210\n",
      "Epoch 858, change: 0.55804092\n",
      "Epoch 859, change: 0.50634103\n",
      "Epoch 860, change: 0.44571328\n",
      "Epoch 861, change: 0.37619966\n",
      "Epoch 862, change: 0.38970318\n",
      "Epoch 863, change: 0.43004347\n",
      "Epoch 864, change: 0.46670449\n",
      "Epoch 865, change: 0.40678436\n",
      "Epoch 866, change: 0.47651788\n",
      "Epoch 867, change: 0.31581271\n",
      "Epoch 868, change: 0.45277273\n",
      "Epoch 869, change: 0.42372174\n",
      "Epoch 870, change: 0.50305285\n",
      "Epoch 871, change: 0.55124804\n",
      "Epoch 872, change: 0.45083885\n",
      "Epoch 873, change: 0.47690778\n",
      "Epoch 874, change: 0.42145420\n",
      "Epoch 875, change: 0.40938402\n",
      "Epoch 876, change: 0.40183505\n",
      "Epoch 877, change: 0.43612645\n"
     ]
    },
    {
     "name": "stdout",
     "output_type": "stream",
     "text": [
      "Epoch 878, change: 0.3991758max_iter reached after 136 seconds\n"
     ]
    },
    {
     "name": "stderr",
     "output_type": "stream",
     "text": [
      "/home/teja/anaconda3/lib/python3.9/site-packages/sklearn/linear_model/_sag.py:352: ConvergenceWarning: The max_iter was reached which means the coef_ did not converge\n",
      "  warnings.warn(\n",
      "[Parallel(n_jobs=-1)]: Done   1 out of   1 | elapsed:  2.3min finished\n"
     ]
    },
    {
     "name": "stdout",
     "output_type": "stream",
     "text": [
      "accuracy = 0.717, precision = 0.772, recall = 0.717, f1 = 0.737\n"
     ]
    }
   ],
   "source": [
    "from sklearn.linear_model import LogisticRegression\n",
    "\n",
    "clf_tf_new = LogisticRegression(C=30.0, class_weight='balanced', solver='sag', \n",
    "                             multi_class='multinomial', n_jobs=-1, random_state=40, \n",
    "                             verbose=1, max_iter = 1000)\n",
    "clf_tf_new.fit(X_train_tf_new, y_train)\n",
    "y_predicted_tf_new = clf_tf_new.predict(X_test_tf_new)\n",
    "accuracy_tf, precision_tf, recall_tf, f1_tf = get_metrics(y_test, y_predicted_tf_new)\n",
    "print(\"accuracy = %.3f, precision = %.3f, recall = %.3f, f1 = %.3f\" % (accuracy_tf, precision_tf, \n",
    "                                                                       recall_tf, f1_tf))"
   ]
  },
  {
   "cell_type": "code",
   "execution_count": 35,
   "metadata": {
    "colab": {
     "base_uri": "https://localhost:8080/",
     "height": 811
    },
    "id": "aGsNM_1oQf4j",
    "outputId": "969a82c7-28d6-46d9-be8f-6101ed937dd0"
   },
   "outputs": [
    {
     "name": "stdout",
     "output_type": "stream",
     "text": [
      "Accuracy: 6.4e-01\n",
      "Auc: 0.8\n",
      "Detail:\n",
      "              precision    recall  f1-score   support\n",
      "\n",
      "    negative       0.55      0.70      0.61     10064\n",
      "     neutral       0.19      0.45      0.27      3514\n",
      "    positive       0.90      0.64      0.75     26522\n",
      "\n",
      "    accuracy                           0.64     40100\n",
      "   macro avg       0.54      0.60      0.54     40100\n",
      "weighted avg       0.75      0.64      0.67     40100\n",
      "\n"
     ]
    },
    {
     "data": {
      "image/png": "[encoded data removed]",
      "text/plain": [
       "<Figure size 432x288 with 1 Axes>"
      ]
     },
     "metadata": {
      "needs_background": "light"
     },
     "output_type": "display_data"
    },
    {
     "data": {
      "image/png": "[encoded data removed]",
      "text/plain": [
       "<Figure size 432x288 with 2 Axes>"
      ]
     },
     "metadata": {
      "needs_background": "light"
     },
     "output_type": "display_data"
    }
   ],
   "source": [
    "predicted = y_predicted_tf\n",
    "predicted_prob = clf_tf.predict_proba(X_test_tf)\n",
    "\n",
    "classes = np.unique(y_test)\n",
    "y_test_array = pd.get_dummies(y_test, drop_first=False).values\n",
    "    \n",
    "## Accuracy, Precision, Recall\n",
    "accuracy = metrics.accuracy_score(y_test, predicted)\n",
    "auc = metrics.roc_auc_score(y_test, predicted_prob, \n",
    "                            multi_class=\"ovr\")\n",
    "print(\"Accuracy:\",  round(accuracy,2))\n",
    "print(\"Auc:\", round(auc,2))\n",
    "print(\"Detail:\")\n",
    "print(metrics.classification_report(y_test, predicted))\n",
    "    \n",
    "## Plot confusion matrix\n",
    "cm = metrics.confusion_matrix(y_test, predicted)\n",
    "fig, ax = plt.subplots()\n",
    "sns.heatmap(cm, annot=True, fmt='d', ax=ax, cmap=plt.cm.Blues, \n",
    "            cbar=False)\n",
    "ax.set(xlabel=\"Pred\", ylabel=\"True\", xticklabels=classes, \n",
    "       yticklabels=classes, title=\"Confusion matrix\")\n",
    "plt.yticks(rotation=0)\n",
    "\n",
    "fig, ax = plt.subplots(nrows=1, ncols=2)\n",
    "## Plot roc\n",
    "for i in range(len(classes)):\n",
    "    fpr, tpr, thresholds = metrics.roc_curve(y_test_array[:,i],  \n",
    "                           predicted_prob[:,i])\n",
    "    ax[0].plot(fpr, tpr, lw=3, \n",
    "              label='{0} (area={1:0.2f})'.format(classes[i], \n",
    "                              metrics.auc(fpr, tpr))\n",
    "               )\n",
    "ax[0].plot([0,1], [0,1], color='navy', lw=3, linestyle='--')\n",
    "ax[0].set(xlim=[-0.05,1.0], ylim=[0.0,1.05], \n",
    "          xlabel='False Positive Rate', \n",
    "          ylabel=\"True Positive Rate (Recall)\", \n",
    "          title=\"Receiver operating characteristic\")\n",
    "ax[0].legend(loc=\"lower right\")\n",
    "ax[0].grid(True)\n",
    "    \n",
    "## Plot precision-recall curve\n",
    "for i in range(len(classes)):\n",
    "    precision, recall, thresholds = metrics.precision_recall_curve(\n",
    "                 y_test_array[:,i], predicted_prob[:,i])\n",
    "    ax[1].plot(recall, precision, lw=3, \n",
    "               label='{0} (area={1:0.2f})'.format(classes[i], \n",
    "                                  metrics.auc(recall, precision))\n",
    "              )\n",
    "ax[1].set(xlim=[0.0,1.05], ylim=[0.0,1.05], xlabel='Recall', \n",
    "          ylabel=\"Precision\", title=\"Precision-Recall curve\")\n",
    "ax[1].legend(loc=\"best\")\n",
    "ax[1].grid(True)\n",
    "plt.show()"
   ]
  },
  {
   "cell_type": "code",
   "execution_count": 36,
   "metadata": {
    "colab": {
     "base_uri": "https://localhost:8080/",
     "height": 807
    },
    "id": "EpOrZ9RreiSz",
    "outputId": "1ce39d18-57e9-44c8-9ffc-3378ab7e4320"
   },
   "outputs": [
    {
     "name": "stdout",
     "output_type": "stream",
     "text": [
      "Accuracy: 7.2e-01\n",
      "Auc: 0.83\n",
      "Detail:\n",
      "              precision    recall  f1-score   support\n",
      "\n",
      "    negative       0.64      0.69      0.66     10064\n",
      "     neutral       0.27      0.51      0.35      3514\n",
      "    positive       0.89      0.75      0.82     26522\n",
      "\n",
      "    accuracy                           0.72     40100\n",
      "   macro avg       0.60      0.65      0.61     40100\n",
      "weighted avg       0.77      0.72      0.74     40100\n",
      "\n"
     ]
    },
    {
     "data": {
      "image/png": "[encoded data removed]",
      "text/plain": [
       "<Figure size 432x288 with 1 Axes>"
      ]
     },
     "metadata": {
      "needs_background": "light"
     },
     "output_type": "display_data"
    },
    {
     "data": {
      "image/png": "[encoded data removed]",
      "text/plain": [
       "<Figure size 432x288 with 2 Axes>"
      ]
     },
     "metadata": {
      "needs_background": "light"
     },
     "output_type": "display_data"
    }
   ],
   "source": [
    "predicted = y_predicted_tf_new\n",
    "predicted_prob = clf_tf_new.predict_proba(X_test_tf_new)\n",
    "\n",
    "classes = np.unique(y_test)\n",
    "y_test_array = pd.get_dummies(y_test, drop_first=False).values\n",
    "    \n",
    "## Accuracy, Precision, Recall\n",
    "accuracy = metrics.accuracy_score(y_test, predicted)\n",
    "auc = metrics.roc_auc_score(y_test, predicted_prob, \n",
    "                            multi_class=\"ovr\")\n",
    "print(\"Accuracy:\",  round(accuracy,2))\n",
    "print(\"Auc:\", round(auc,2))\n",
    "print(\"Detail:\")\n",
    "print(metrics.classification_report(y_test, predicted))\n",
    "    \n",
    "## Plot confusion matrix\n",
    "cm = metrics.confusion_matrix(y_test, predicted)\n",
    "fig, ax = plt.subplots()\n",
    "sns.heatmap(cm, annot=True, fmt='d', ax=ax, cmap=plt.cm.Blues, \n",
    "            cbar=False)\n",
    "ax.set(xlabel=\"Pred\", ylabel=\"True\", xticklabels=classes, \n",
    "       yticklabels=classes, title=\"Confusion matrix\")\n",
    "plt.yticks(rotation=0)\n",
    "\n",
    "fig, ax = plt.subplots(nrows=1, ncols=2)\n",
    "## Plot roc\n",
    "for i in range(len(classes)):\n",
    "    fpr, tpr, thresholds = metrics.roc_curve(y_test_array[:,i],  \n",
    "                           predicted_prob[:,i])\n",
    "    ax[0].plot(fpr, tpr, lw=3, \n",
    "              label='{0} (area={1:0.2f})'.format(classes[i], \n",
    "                              metrics.auc(fpr, tpr))\n",
    "               )\n",
    "ax[0].plot([0,1], [0,1], color='navy', lw=3, linestyle='--')\n",
    "ax[0].set(xlim=[-0.05,1.0], ylim=[0.0,1.05], \n",
    "          xlabel='False Positive Rate', \n",
    "          ylabel=\"True Positive Rate (Recall)\", \n",
    "          title=\"Receiver operating characteristic\")\n",
    "ax[0].legend(loc=\"lower right\")\n",
    "ax[0].grid(True)\n",
    "    \n",
    "## Plot precision-recall curve\n",
    "for i in range(len(classes)):\n",
    "    precision, recall, thresholds = metrics.precision_recall_curve(\n",
    "                 y_test_array[:,i], predicted_prob[:,i])\n",
    "    ax[1].plot(recall, precision, lw=3, \n",
    "               label='{0} (area={1:0.2f})'.format(classes[i], \n",
    "                                  metrics.auc(recall, precision))\n",
    "              )\n",
    "ax[1].set(xlim=[0.0,1.05], ylim=[0.0,1.05], xlabel='Recall', \n",
    "          ylabel=\"Precision\", title=\"Precision-Recall curve\")\n",
    "ax[1].legend(loc=\"best\")\n",
    "ax[1].grid(True)\n",
    "plt.show()"
   ]
  },
  {
   "cell_type": "code",
   "execution_count": 37,
   "metadata": {
    "colab": {
     "base_uri": "https://localhost:8080/"
    },
    "id": "qjZzKdZqBU7l",
    "outputId": "4dffe6bb-ce2b-4efd-d0f9-cff4dd9e98b4"
   },
   "outputs": [
    {
     "name": "stderr",
     "output_type": "stream",
     "text": [
      "/home/teja/anaconda3/lib/python3.9/site-packages/sklearn/utils/deprecation.py:87: FutureWarning: Function get_feature_names is deprecated; get_feature_names is deprecated in 1.0 and will be removed in 1.2. Please use get_feature_names_out instead.\n",
      "  warnings.warn(msg, category=FutureWarning)\n"
     ]
    }
   ],
   "source": [
    "coef_lr = pd.DataFrame(clf_tf_new.coef_,columns=con_vec_tf.get_feature_names(),index=clf_tf_new.classes_)"
   ]
  },
  {
   "cell_type": "code",
   "execution_count": 38,
   "metadata": {
    "colab": {
     "base_uri": "https://localhost:8080/",
     "height": 510
    },
    "id": "UEEr4WXAAPaB",
    "outputId": "6d1810ce-f0d9-49f9-db4f-3fd7f1eabfa9"
   },
   "outputs": [
    {
     "ename": "FileNotFoundError",
     "evalue": "[Errno 2] No such file or directory: '70420.png'",
     "output_type": "error",
     "traceback": [
      "\u001b[0;31m---------------------------------------------------------------------------\u001b[0m",
      "\u001b[0;31mFileNotFoundError\u001b[0m                         Traceback (most recent call last)",
      "Input \u001b[0;32mIn [38]\u001b[0m, in \u001b[0;36m<cell line: 5>\u001b[0;34m()\u001b[0m\n\u001b[1;32m      2\u001b[0m \u001b[38;5;28;01mimport\u001b[39;00m \u001b[38;5;21;01mPIL\u001b[39;00m\u001b[38;5;21;01m.\u001b[39;00m\u001b[38;5;21;01mImageOps\u001b[39;00m \n\u001b[1;32m      3\u001b[0m \u001b[38;5;28;01mfrom\u001b[39;00m \u001b[38;5;21;01mwordcloud\u001b[39;00m \u001b[38;5;28;01mimport\u001b[39;00m WordCloud, STOPWORDS, ImageColorGenerator\n\u001b[0;32m----> 5\u001b[0m thumb_up\u001b[38;5;241m=\u001b[39m np\u001b[38;5;241m.\u001b[39marray(\u001b[43mImage\u001b[49m\u001b[38;5;241;43m.\u001b[39;49m\u001b[43mopen\u001b[49m\u001b[43m(\u001b[49m\u001b[38;5;124;43m\"\u001b[39;49m\u001b[38;5;124;43m70420.png\u001b[39;49m\u001b[38;5;124;43m\"\u001b[39;49m\u001b[43m)\u001b[49m)\n\u001b[1;32m      6\u001b[0m thumb_up \u001b[38;5;241m=\u001b[39m \u001b[38;5;241m255\u001b[39m \u001b[38;5;241m-\u001b[39m thumb_up\n\u001b[1;32m      7\u001b[0m thumb_down \u001b[38;5;241m=\u001b[39m np\u001b[38;5;241m.\u001b[39mfliplr(thumb_up)[::\u001b[38;5;241m-\u001b[39m\u001b[38;5;241m1\u001b[39m]\n",
      "File \u001b[0;32m~/anaconda3/lib/python3.9/site-packages/PIL/Image.py:2953\u001b[0m, in \u001b[0;36mopen\u001b[0;34m(fp, mode, formats)\u001b[0m\n\u001b[1;32m   2950\u001b[0m     filename \u001b[38;5;241m=\u001b[39m fp\n\u001b[1;32m   2952\u001b[0m \u001b[38;5;28;01mif\u001b[39;00m filename:\n\u001b[0;32m-> 2953\u001b[0m     fp \u001b[38;5;241m=\u001b[39m \u001b[43mbuiltins\u001b[49m\u001b[38;5;241;43m.\u001b[39;49m\u001b[43mopen\u001b[49m\u001b[43m(\u001b[49m\u001b[43mfilename\u001b[49m\u001b[43m,\u001b[49m\u001b[43m \u001b[49m\u001b[38;5;124;43m\"\u001b[39;49m\u001b[38;5;124;43mrb\u001b[39;49m\u001b[38;5;124;43m\"\u001b[39;49m\u001b[43m)\u001b[49m\n\u001b[1;32m   2954\u001b[0m     exclusive_fp \u001b[38;5;241m=\u001b[39m \u001b[38;5;28;01mTrue\u001b[39;00m\n\u001b[1;32m   2956\u001b[0m \u001b[38;5;28;01mtry\u001b[39;00m:\n",
      "\u001b[0;31mFileNotFoundError\u001b[0m: [Errno 2] No such file or directory: '70420.png'"
     ]
    }
   ],
   "source": [
    "from PIL import Image\n",
    "import PIL.ImageOps \n",
    "from wordcloud import WordCloud, STOPWORDS, ImageColorGenerator\n",
    "\n",
    "thumb_up= np.array(Image.open(\"70420.png\"))\n",
    "thumb_up = 255 - thumb_up\n",
    "thumb_down = np.fliplr(thumb_up)[::-1]\n",
    "\n",
    "def top_20_pos_neg_wordcloud(category,mask):\n",
    "\n",
    "    print('Rating as \"' + category +'\": top 20 of Positive coeffients')\n",
    "    #print(coef_lr.loc[category].nlargest(20))\n",
    "\n",
    "    print('\\nRating as \"' + category +'\": top 20 of Negative coeffients')\n",
    "    #print(coef_lr.loc[category].nsmallest(20))\n",
    "\n",
    "    wordcloud = WordCloud(contour_width=1,background_color='white',mask=mask)\n",
    "    wordcloud.generate_from_frequencies(frequencies=coef_lr.loc[category])\n",
    "\n",
    "    #plt.figure(figsize=(10,8))\n",
    "    plt.imshow(wordcloud, interpolation=\"bilinear\")\n",
    "    plt.axis(\"off\")\n",
    "    \n",
    "plt.figure(figsize=(20,10)) \n",
    "plt.subplot(1, 2, 1)\n",
    "top_20_pos_neg_wordcloud('positive',thumb_up)\n",
    "plt.title(\"Positive\",fontsize=30)\n",
    "\n",
    "plt.subplot(1, 2, 2)\n",
    "top_20_pos_neg_wordcloud('negative',thumb_down)\n",
    "plt.title(\"Negative\",fontsize=30)\n",
    "\n",
    "plt.savefig('thumb_up_down_wordcloud.png', bbox_inches = 'tight', pad_inches = 0)"
   ]
  },
  {
   "cell_type": "markdown",
   "metadata": {
    "id": "VtH_bIfhS5yn"
   },
   "source": [
    "### Random Forest"
   ]
  },
  {
   "cell_type": "code",
   "execution_count": 39,
   "metadata": {
    "id": "n4rkQQpFQg8W"
   },
   "outputs": [],
   "source": [
    "from sklearn.ensemble import RandomForestClassifier\n",
    "from sklearn.model_selection import cross_val_score\n",
    "from sklearn.metrics import roc_curve, confusion_matrix, accuracy_score"
   ]
  },
  {
   "cell_type": "code",
   "execution_count": 40,
   "metadata": {
    "id": "vLYpNTxekNnY"
   },
   "outputs": [
    {
     "name": "stdout",
     "output_type": "stream",
     "text": [
      "{'n_estimators': [300, 450, 600], 'max_features': ['auto', 'sqrt'], 'max_depth': [10, 20, 30, 40, 50, 60, 70, 80, 90, 100, 110, None], 'min_samples_split': [2, 5, 10], 'min_samples_leaf': [1, 2, 4], 'bootstrap': [True, False]}\n"
     ]
    },
    {
     "data": {
      "text/plain": [
       "{'bootstrap': [True, False],\n",
       " 'max_depth': [10, 20, 30, 40, 50, 60, 70, 80, 90, 100, None],\n",
       " 'max_features': ['auto', 'sqrt'],\n",
       " 'min_samples_leaf': [1, 2, 4],\n",
       " 'min_samples_split': [2, 5, 10],\n",
       " 'n_estimators': [200, 400, 600, 800, 1000, 1200, 1400, 1600, 1800, 2000]}"
      ]
     },
     "execution_count": 40,
     "metadata": {},
     "output_type": "execute_result"
    }
   ],
   "source": [
    "from sklearn.model_selection import RandomizedSearchCV\n",
    "# Number of trees in random forest\n",
    "n_estimators = [int(x) for x in np.linspace(start = 300, stop = 600, num = 3)]\n",
    "# Number of features to consider at every split\n",
    "max_features = ['auto', 'sqrt']\n",
    "# Maximum number of levels in tree\n",
    "max_depth = [int(x) for x in np.linspace(10, 110, num = 11)]\n",
    "max_depth.append(None)\n",
    "# Minimum number of samples required to split a node\n",
    "min_samples_split = [2, 5, 10]\n",
    "# Minimum number of samples required at each leaf node\n",
    "min_samples_leaf = [1, 2, 4]\n",
    "# Method of selecting samples for training each tree\n",
    "bootstrap = [True, False]\n",
    "# Create the random grid\n",
    "random_grid = {'n_estimators': n_estimators,\n",
    "               'max_features': max_features,\n",
    "               'max_depth': max_depth,\n",
    "               'min_samples_split': min_samples_split,\n",
    "               'min_samples_leaf': min_samples_leaf,\n",
    "               'bootstrap': bootstrap}\n",
    "print(random_grid)\n",
    "{'bootstrap': [True, False],\n",
    " 'max_depth': [10, 20, 30, 40, 50, 60, 70, 80, 90, 100, None],\n",
    " 'max_features': ['auto', 'sqrt'],\n",
    " 'min_samples_leaf': [1, 2, 4],\n",
    " 'min_samples_split': [2, 5, 10],\n",
    " 'n_estimators': [200, 400, 600, 800, 1000, 1200, 1400, 1600, 1800, 2000]}"
   ]
  },
  {
   "cell_type": "code",
   "execution_count": 42,
   "metadata": {
    "colab": {
     "base_uri": "https://localhost:8080/",
     "height": 364
    },
    "id": "FySTo1_lTCbh",
    "outputId": "79ca14d3-3cfe-4564-8e9d-cfb503254d75"
   },
   "outputs": [
    {
     "data": {
      "text/plain": [
       "array([0.80381546, 0.80433427, 0.80388538])"
      ]
     },
     "execution_count": 42,
     "metadata": {},
     "output_type": "execute_result"
    }
   ],
   "source": [
    "rfc = RandomForestClassifier(n_estimators=500,n_jobs=-1)\n",
    "rfc_cv_score = cross_val_score(rfc,X_train_tf,y_train,scoring='accuracy',cv=3,n_jobs=-1)\n",
    "rfc_cv_score"
   ]
  },
  {
   "cell_type": "code",
   "execution_count": 43,
   "metadata": {
    "colab": {
     "base_uri": "https://localhost:8080/"
    },
    "id": "lkVNU1r5fL7N",
    "outputId": "0f19cf36-5521-4d72-d3a7-3a204997a96b"
   },
   "outputs": [
    {
     "data": {
      "text/plain": [
       "0.8474314214463841"
      ]
     },
     "execution_count": 43,
     "metadata": {},
     "output_type": "execute_result"
    }
   ],
   "source": [
    "#rfc = RandomForestClassifier(n_estimators=400,n_jobs=-1)\n",
    "#rfc_cv_score = cross_val_score(rfc,X_train_tf_new,y_train,scoring='accuracy',cv=3,n_jobs=-1)\n",
    "#rfc_cv_score\n",
    "rfc = RandomForestClassifier(n_estimators=400,n_jobs=-1,oob_score=True, min_samples_leaf=1,\n",
    "                             min_samples_split=2)\n",
    "rfc.fit(X_train_tf_new,y_train)\n",
    "y_test_rfc_predict = rfc.predict(X_test_tf_new)\n",
    "rfc_conf_mat = confusion_matrix(y_test,y_test_rfc_predict)\n",
    "accuracy_score(y_test,y_test_rfc_predict)"
   ]
  },
  {
   "cell_type": "code",
   "execution_count": 44,
   "metadata": {
    "colab": {
     "base_uri": "https://localhost:8080/"
    },
    "id": "E4N9XwN3oU8U",
    "outputId": "877575e1-d95d-4c47-b527-ae540ede13b5"
   },
   "outputs": [
    {
     "data": {
      "text/plain": [
       "0.848004987531172"
      ]
     },
     "execution_count": 44,
     "metadata": {},
     "output_type": "execute_result"
    }
   ],
   "source": [
    "#rfc = RandomForestClassifier(n_estimators=400,n_jobs=-1)\n",
    "#rfc_cv_score = cross_val_score(rfc,X_train_tf_new,y_train,scoring='accuracy',cv=3,n_jobs=-1)\n",
    "#rfc_cv_score\n",
    "rfc = RandomForestClassifier(n_estimators=600,n_jobs=-1,oob_score=True, min_samples_leaf=1,\n",
    "                             min_samples_split=2)\n",
    "rfc.fit(X_train_tf_new,y_train)\n",
    "y_test_rfc_predict = rfc.predict(X_test_tf_new)\n",
    "rfc_conf_mat = confusion_matrix(y_test,y_test_rfc_predict)\n",
    "accuracy_score(y_test,y_test_rfc_predict)"
   ]
  },
  {
   "cell_type": "code",
   "execution_count": 45,
   "metadata": {
    "colab": {
     "base_uri": "https://localhost:8080/"
    },
    "id": "oVRxOwiZNqYA",
    "outputId": "f6659feb-1759-4ef4-a9f3-7c5d8e745d4d"
   },
   "outputs": [
    {
     "name": "stdout",
     "output_type": "stream",
     "text": [
      "accuracy = 0.848, precision = 0.866, recall = 0.848, f1 = 0.835\n"
     ]
    }
   ],
   "source": [
    "accuracy_rf, precision_rf, recall_rf, f1_rf = get_metrics(y_test, y_test_rfc_predict)\n",
    "print(\"accuracy = %.3f, precision = %.3f, recall = %.3f, f1 = %.3f\" % (accuracy_rf, precision_rf, \n",
    "                                                                       recall_rf, f1_rf))"
   ]
  },
  {
   "cell_type": "code",
   "execution_count": 46,
   "metadata": {
    "colab": {
     "base_uri": "https://localhost:8080/",
     "height": 807
    },
    "id": "1AdMdid89npu",
    "outputId": "39cd2ca3-8287-4ac5-fae8-6a4e3f52e630"
   },
   "outputs": [
    {
     "ename": "ValueError",
     "evalue": "X has 10000 features, but RandomForestClassifier is expecting 20000 features as input.",
     "output_type": "error",
     "traceback": [
      "\u001b[0;31m---------------------------------------------------------------------------\u001b[0m",
      "\u001b[0;31mValueError\u001b[0m                                Traceback (most recent call last)",
      "Input \u001b[0;32mIn [46]\u001b[0m, in \u001b[0;36m<cell line: 2>\u001b[0;34m()\u001b[0m\n\u001b[1;32m      1\u001b[0m predicted \u001b[38;5;241m=\u001b[39m y_test_rfc_predict\n\u001b[0;32m----> 2\u001b[0m predicted_prob \u001b[38;5;241m=\u001b[39m \u001b[43mrfc\u001b[49m\u001b[38;5;241;43m.\u001b[39;49m\u001b[43mpredict_proba\u001b[49m\u001b[43m(\u001b[49m\u001b[43mX_test_tf\u001b[49m\u001b[43m)\u001b[49m\n\u001b[1;32m      4\u001b[0m classes \u001b[38;5;241m=\u001b[39m np\u001b[38;5;241m.\u001b[39munique(y_test)\n\u001b[1;32m      5\u001b[0m y_test_array \u001b[38;5;241m=\u001b[39m pd\u001b[38;5;241m.\u001b[39mget_dummies(y_test, drop_first\u001b[38;5;241m=\u001b[39m\u001b[38;5;28;01mFalse\u001b[39;00m)\u001b[38;5;241m.\u001b[39mvalues\n",
      "File \u001b[0;32m~/anaconda3/lib/python3.9/site-packages/sklearn/ensemble/_forest.py:850\u001b[0m, in \u001b[0;36mForestClassifier.predict_proba\u001b[0;34m(self, X)\u001b[0m\n\u001b[1;32m    848\u001b[0m check_is_fitted(\u001b[38;5;28mself\u001b[39m)\n\u001b[1;32m    849\u001b[0m \u001b[38;5;66;03m# Check data\u001b[39;00m\n\u001b[0;32m--> 850\u001b[0m X \u001b[38;5;241m=\u001b[39m \u001b[38;5;28;43mself\u001b[39;49m\u001b[38;5;241;43m.\u001b[39;49m\u001b[43m_validate_X_predict\u001b[49m\u001b[43m(\u001b[49m\u001b[43mX\u001b[49m\u001b[43m)\u001b[49m\n\u001b[1;32m    852\u001b[0m \u001b[38;5;66;03m# Assign chunk of trees to jobs\u001b[39;00m\n\u001b[1;32m    853\u001b[0m n_jobs, _, _ \u001b[38;5;241m=\u001b[39m _partition_estimators(\u001b[38;5;28mself\u001b[39m\u001b[38;5;241m.\u001b[39mn_estimators, \u001b[38;5;28mself\u001b[39m\u001b[38;5;241m.\u001b[39mn_jobs)\n",
      "File \u001b[0;32m~/anaconda3/lib/python3.9/site-packages/sklearn/ensemble/_forest.py:579\u001b[0m, in \u001b[0;36mBaseForest._validate_X_predict\u001b[0;34m(self, X)\u001b[0m\n\u001b[1;32m    576\u001b[0m \u001b[38;5;124;03m\"\"\"\u001b[39;00m\n\u001b[1;32m    577\u001b[0m \u001b[38;5;124;03mValidate X whenever one tries to predict, apply, predict_proba.\"\"\"\u001b[39;00m\n\u001b[1;32m    578\u001b[0m check_is_fitted(\u001b[38;5;28mself\u001b[39m)\n\u001b[0;32m--> 579\u001b[0m X \u001b[38;5;241m=\u001b[39m \u001b[38;5;28;43mself\u001b[39;49m\u001b[38;5;241;43m.\u001b[39;49m\u001b[43m_validate_data\u001b[49m\u001b[43m(\u001b[49m\u001b[43mX\u001b[49m\u001b[43m,\u001b[49m\u001b[43m \u001b[49m\u001b[43mdtype\u001b[49m\u001b[38;5;241;43m=\u001b[39;49m\u001b[43mDTYPE\u001b[49m\u001b[43m,\u001b[49m\u001b[43m \u001b[49m\u001b[43maccept_sparse\u001b[49m\u001b[38;5;241;43m=\u001b[39;49m\u001b[38;5;124;43m\"\u001b[39;49m\u001b[38;5;124;43mcsr\u001b[39;49m\u001b[38;5;124;43m\"\u001b[39;49m\u001b[43m,\u001b[49m\u001b[43m \u001b[49m\u001b[43mreset\u001b[49m\u001b[38;5;241;43m=\u001b[39;49m\u001b[38;5;28;43;01mFalse\u001b[39;49;00m\u001b[43m)\u001b[49m\n\u001b[1;32m    580\u001b[0m \u001b[38;5;28;01mif\u001b[39;00m issparse(X) \u001b[38;5;129;01mand\u001b[39;00m (X\u001b[38;5;241m.\u001b[39mindices\u001b[38;5;241m.\u001b[39mdtype \u001b[38;5;241m!=\u001b[39m np\u001b[38;5;241m.\u001b[39mintc \u001b[38;5;129;01mor\u001b[39;00m X\u001b[38;5;241m.\u001b[39mindptr\u001b[38;5;241m.\u001b[39mdtype \u001b[38;5;241m!=\u001b[39m np\u001b[38;5;241m.\u001b[39mintc):\n\u001b[1;32m    581\u001b[0m     \u001b[38;5;28;01mraise\u001b[39;00m \u001b[38;5;167;01mValueError\u001b[39;00m(\u001b[38;5;124m\"\u001b[39m\u001b[38;5;124mNo support for np.int64 index based sparse matrices\u001b[39m\u001b[38;5;124m\"\u001b[39m)\n",
      "File \u001b[0;32m~/anaconda3/lib/python3.9/site-packages/sklearn/base.py:585\u001b[0m, in \u001b[0;36mBaseEstimator._validate_data\u001b[0;34m(self, X, y, reset, validate_separately, **check_params)\u001b[0m\n\u001b[1;32m    582\u001b[0m     out \u001b[38;5;241m=\u001b[39m X, y\n\u001b[1;32m    584\u001b[0m \u001b[38;5;28;01mif\u001b[39;00m \u001b[38;5;129;01mnot\u001b[39;00m no_val_X \u001b[38;5;129;01mand\u001b[39;00m check_params\u001b[38;5;241m.\u001b[39mget(\u001b[38;5;124m\"\u001b[39m\u001b[38;5;124mensure_2d\u001b[39m\u001b[38;5;124m\"\u001b[39m, \u001b[38;5;28;01mTrue\u001b[39;00m):\n\u001b[0;32m--> 585\u001b[0m     \u001b[38;5;28;43mself\u001b[39;49m\u001b[38;5;241;43m.\u001b[39;49m\u001b[43m_check_n_features\u001b[49m\u001b[43m(\u001b[49m\u001b[43mX\u001b[49m\u001b[43m,\u001b[49m\u001b[43m \u001b[49m\u001b[43mreset\u001b[49m\u001b[38;5;241;43m=\u001b[39;49m\u001b[43mreset\u001b[49m\u001b[43m)\u001b[49m\n\u001b[1;32m    587\u001b[0m \u001b[38;5;28;01mreturn\u001b[39;00m out\n",
      "File \u001b[0;32m~/anaconda3/lib/python3.9/site-packages/sklearn/base.py:400\u001b[0m, in \u001b[0;36mBaseEstimator._check_n_features\u001b[0;34m(self, X, reset)\u001b[0m\n\u001b[1;32m    397\u001b[0m     \u001b[38;5;28;01mreturn\u001b[39;00m\n\u001b[1;32m    399\u001b[0m \u001b[38;5;28;01mif\u001b[39;00m n_features \u001b[38;5;241m!=\u001b[39m \u001b[38;5;28mself\u001b[39m\u001b[38;5;241m.\u001b[39mn_features_in_:\n\u001b[0;32m--> 400\u001b[0m     \u001b[38;5;28;01mraise\u001b[39;00m \u001b[38;5;167;01mValueError\u001b[39;00m(\n\u001b[1;32m    401\u001b[0m         \u001b[38;5;124mf\u001b[39m\u001b[38;5;124m\"\u001b[39m\u001b[38;5;124mX has \u001b[39m\u001b[38;5;132;01m{\u001b[39;00mn_features\u001b[38;5;132;01m}\u001b[39;00m\u001b[38;5;124m features, but \u001b[39m\u001b[38;5;132;01m{\u001b[39;00m\u001b[38;5;28mself\u001b[39m\u001b[38;5;241m.\u001b[39m\u001b[38;5;18m__class__\u001b[39m\u001b[38;5;241m.\u001b[39m\u001b[38;5;18m__name__\u001b[39m\u001b[38;5;132;01m}\u001b[39;00m\u001b[38;5;124m \u001b[39m\u001b[38;5;124m\"\u001b[39m\n\u001b[1;32m    402\u001b[0m         \u001b[38;5;124mf\u001b[39m\u001b[38;5;124m\"\u001b[39m\u001b[38;5;124mis expecting \u001b[39m\u001b[38;5;132;01m{\u001b[39;00m\u001b[38;5;28mself\u001b[39m\u001b[38;5;241m.\u001b[39mn_features_in_\u001b[38;5;132;01m}\u001b[39;00m\u001b[38;5;124m features as input.\u001b[39m\u001b[38;5;124m\"\u001b[39m\n\u001b[1;32m    403\u001b[0m     )\n",
      "\u001b[0;31mValueError\u001b[0m: X has 10000 features, but RandomForestClassifier is expecting 20000 features as input."
     ]
    }
   ],
   "source": [
    "predicted = y_test_rfc_predict\n",
    "predicted_prob = rfc.predict_proba(X_test_tf)\n",
    "\n",
    "classes = np.unique(y_test)\n",
    "y_test_array = pd.get_dummies(y_test, drop_first=False).values\n",
    "    \n",
    "## Accuracy, Precision, Recall\n",
    "accuracy = metrics.accuracy_score(y_test, predicted)\n",
    "auc = metrics.roc_auc_score(y_test, predicted_prob, \n",
    "                            multi_class=\"ovr\")\n",
    "print(\"Accuracy:\",  round(accuracy,2))\n",
    "print(\"Auc:\", round(auc,2))\n",
    "print(\"Detail:\")\n",
    "print(metrics.classification_report(y_test, predicted))\n",
    "    \n",
    "## Plot confusion matrix\n",
    "cm = metrics.confusion_matrix(y_test, predicted)\n",
    "fig, ax = plt.subplots()\n",
    "sns.heatmap(cm, annot=True, fmt='d', ax=ax, cmap=plt.cm.Blues, \n",
    "            cbar=False)\n",
    "ax.set(xlabel=\"Pred\", ylabel=\"True\", xticklabels=classes, \n",
    "       yticklabels=classes, title=\"Confusion matrix\")\n",
    "plt.yticks(rotation=0)\n",
    "\n",
    "fig, ax = plt.subplots(nrows=1, ncols=2)\n",
    "## Plot roc\n",
    "for i in range(len(classes)):\n",
    "    fpr, tpr, thresholds = metrics.roc_curve(y_test_array[:,i],  \n",
    "                           predicted_prob[:,i])\n",
    "    ax[0].plot(fpr, tpr, lw=3, \n",
    "              label='{0} (area={1:0.2f})'.format(classes[i], \n",
    "                              metrics.auc(fpr, tpr))\n",
    "               )\n",
    "ax[0].plot([0,1], [0,1], color='navy', lw=3, linestyle='--')\n",
    "ax[0].set(xlim=[-0.05,1.0], ylim=[0.0,1.05], \n",
    "          xlabel='False Positive Rate', \n",
    "          ylabel=\"True Positive Rate (Recall)\", \n",
    "          title=\"Receiver operating characteristic\")\n",
    "ax[0].legend(loc=\"lower right\")\n",
    "ax[0].grid(True)\n",
    "    \n",
    "## Plot precision-recall curve\n",
    "for i in range(len(classes)):\n",
    "    precision, recall, thresholds = metrics.precision_recall_curve(\n",
    "                 y_test_array[:,i], predicted_prob[:,i])\n",
    "    ax[1].plot(recall, precision, lw=3, \n",
    "               label='{0} (area={1:0.2f})'.format(classes[i], \n",
    "                                  metrics.auc(recall, precision))\n",
    "              )\n",
    "ax[1].set(xlim=[0.0,1.05], ylim=[0.0,1.05], xlabel='Recall', \n",
    "          ylabel=\"Precision\", title=\"Precision-Recall curve\")\n",
    "ax[1].legend(loc=\"best\")\n",
    "ax[1].grid(True)\n",
    "plt.show()"
   ]
  },
  {
   "cell_type": "code",
   "execution_count": 47,
   "metadata": {
    "colab": {
     "base_uri": "https://localhost:8080/",
     "height": 653
    },
    "id": "fOTjOUd7DTxv",
    "outputId": "fb12fa68-e657-4ee1-92eb-676fe1684587"
   },
   "outputs": [
    {
     "name": "stderr",
     "output_type": "stream",
     "text": [
      "/home/teja/anaconda3/lib/python3.9/site-packages/sklearn/utils/deprecation.py:87: FutureWarning: Function get_feature_names is deprecated; get_feature_names is deprecated in 1.0 and will be removed in 1.2. Please use get_feature_names_out instead.\n",
      "  warnings.warn(msg, category=FutureWarning)\n"
     ]
    },
    {
     "data": {
      "image/png": "[encoded data removed]",
      "text/plain": [
       "<Figure size 720x720 with 1 Axes>"
      ]
     },
     "metadata": {
      "needs_background": "light"
     },
     "output_type": "display_data"
    }
   ],
   "source": [
    "rfc_feature_importances = pd.DataFrame(rfc.feature_importances_,con_vec_tf.get_feature_names())\n",
    "plt.figure(figsize=(10,10))\n",
    "rfc_feature_importances[0].nlargest(40)[::-1].plot(kind='barh',color='blue',fontsize=15,width=0.7)\n",
    "plt.savefig(\"rfc_feat_import.png\")"
   ]
  },
  {
   "cell_type": "markdown",
   "metadata": {
    "id": "FIAGBEp1-ttI"
   },
   "source": [
    "### SVM"
   ]
  },
  {
   "cell_type": "code",
   "execution_count": null,
   "metadata": {
    "id": "vvqUcXHIDoKD"
   },
   "outputs": [],
   "source": [
    "from sklearn import svm\n",
    "\n",
    "svm = svm.SVC(kernel='poly', degree=2, probability=True)\n",
    "\n",
    "svm.fit(X_train_tf_new, y_train)\n",
    "y_predicted_svm = svm.predict(X_test_tf_new)"
   ]
  },
  {
   "cell_type": "code",
   "execution_count": null,
   "metadata": {
    "colab": {
     "base_uri": "https://localhost:8080/"
    },
    "id": "ubrVbrd7F6am",
    "outputId": "5f534e28-34ac-4380-930c-b6d9c37369fd"
   },
   "outputs": [],
   "source": [
    "accuracy_svm, precision_svm, recall_svm, f1_svm = get_metrics(y_test, y_predicted_svm)\n",
    "print(\"accuracy = %.3f, precision = %.3f, recall = %.3f, f1 = %.3f\" % (accuracy_svm, precision_svm, \n",
    "                                                                       recall_svm, f1_svm))"
   ]
  },
  {
   "cell_type": "code",
   "execution_count": null,
   "metadata": {
    "colab": {
     "base_uri": "https://localhost:8080/"
    },
    "id": "gIcb5_TKNt6l",
    "outputId": "82cae969-8e61-4c42-dc51-fd06acbb0cd7"
   },
   "outputs": [],
   "source": [
    "accuracy_svm, precision_svm, recall_svm, f1_svm = get_metrics(y_test, y_predicted_svm)\n",
    "print(\"accuracy = %.3f, precision = %.3f, recall = %.3f, f1 = %.3f\" % (accuracy_svm, precision_svm, \n",
    "                                                                       recall_svm, f1_svm))"
   ]
  },
  {
   "cell_type": "code",
   "execution_count": null,
   "metadata": {
    "id": "QjZhO1EYTbLz"
   },
   "outputs": [],
   "source": [
    "from sklearn import svm\n",
    "\n",
    "svm = svm.SVC(kernel='rbf', probability=True)\n",
    "\n",
    "svm.fit(X_train_tf_new, y_train)\n",
    "y_predicted_svm = svm.predict(X_test_tf_new)"
   ]
  },
  {
   "cell_type": "code",
   "execution_count": null,
   "metadata": {
    "colab": {
     "base_uri": "https://localhost:8080/"
    },
    "id": "fu9ZTKrrThTE",
    "outputId": "16a8e66d-f77d-420e-8fd3-7b28aece9448"
   },
   "outputs": [],
   "source": [
    "accuracy_svm, precision_svm, recall_svm, f1_svm = get_metrics(y_test, y_predicted_svm)\n",
    "print(\"accuracy = %.3f, precision = %.3f, recall = %.3f, f1 = %.3f\" % (accuracy_svm, precision_svm, \n",
    "                                                                       recall_svm, f1_svm))"
   ]
  },
  {
   "cell_type": "code",
   "execution_count": null,
   "metadata": {
    "colab": {
     "base_uri": "https://localhost:8080/",
     "height": 807
    },
    "id": "DkJWutqHGQRn",
    "outputId": "332c8055-9c7b-4ffa-c950-389c589e5ddc"
   },
   "outputs": [],
   "source": [
    "predicted = y_predicted_svm\n",
    "predicted_prob = svm.predict_proba(X_test_tf_new)\n",
    "\n",
    "classes = np.unique(y_test)\n",
    "y_test_array = pd.get_dummies(y_test, drop_first=False).values\n",
    "    \n",
    "## Accuracy, Precision, Recall\n",
    "accuracy = metrics.accuracy_score(y_test, predicted)\n",
    "auc = metrics.roc_auc_score(y_test, predicted_prob, \n",
    "                            multi_class=\"ovr\")\n",
    "print(\"Accuracy:\",  round(accuracy,2))\n",
    "print(\"Auc:\", round(auc,2))\n",
    "print(\"Detail:\")\n",
    "print(metrics.classification_report(y_test, predicted))\n",
    "    \n",
    "## Plot confusion matrix\n",
    "cm = metrics.confusion_matrix(y_test, predicted)\n",
    "fig, ax = plt.subplots()\n",
    "sns.heatmap(cm, annot=True, fmt='d', ax=ax, cmap=plt.cm.Blues, \n",
    "            cbar=False)\n",
    "ax.set(xlabel=\"Pred\", ylabel=\"True\", xticklabels=classes, \n",
    "       yticklabels=classes, title=\"Confusion matrix\")\n",
    "plt.yticks(rotation=0)\n",
    "\n",
    "fig, ax = plt.subplots(nrows=1, ncols=2)\n",
    "## Plot roc\n",
    "for i in range(len(classes)):\n",
    "    fpr, tpr, thresholds = metrics.roc_curve(y_test_array[:,i],  \n",
    "                           predicted_prob[:,i])\n",
    "    ax[0].plot(fpr, tpr, lw=3, \n",
    "              label='{0} (area={1:0.2f})'.format(classes[i], \n",
    "                              metrics.auc(fpr, tpr))\n",
    "               )\n",
    "ax[0].plot([0,1], [0,1], color='navy', lw=3, linestyle='--')\n",
    "ax[0].set(xlim=[-0.05,1.0], ylim=[0.0,1.05], \n",
    "          xlabel='False Positive Rate', \n",
    "          ylabel=\"True Positive Rate (Recall)\", \n",
    "          title=\"Receiver operating characteristic\")\n",
    "ax[0].legend(loc=\"lower right\")\n",
    "ax[0].grid(True)\n",
    "    \n",
    "## Plot precision-recall curve\n",
    "for i in range(len(classes)):\n",
    "    precision, recall, thresholds = metrics.precision_recall_curve(\n",
    "                 y_test_array[:,i], predicted_prob[:,i])\n",
    "    ax[1].plot(recall, precision, lw=3, \n",
    "               label='{0} (area={1:0.2f})'.format(classes[i], \n",
    "                                  metrics.auc(recall, precision))\n",
    "              )\n",
    "ax[1].set(xlim=[0.0,1.05], ylim=[0.0,1.05], xlabel='Recall', \n",
    "          ylabel=\"Precision\", title=\"Precision-Recall curve\")\n",
    "ax[1].legend(loc=\"best\")\n",
    "ax[1].grid(True)\n",
    "plt.show()"
   ]
  },
  {
   "cell_type": "markdown",
   "metadata": {
    "id": "ZFTQ3DodGoGT"
   },
   "source": [
    "### Multinomial Naive Bayes"
   ]
  },
  {
   "cell_type": "code",
   "execution_count": null,
   "metadata": {
    "id": "I-pyct_jHwq4"
   },
   "outputs": [],
   "source": [
    "from sklearn.naive_bayes import MultinomialNB\n",
    "\n",
    "nb = MultinomialNB()\n",
    "nb.fit(X_train_tf_new, y_train)\n",
    "y_predicted_nb = nb.predict(X_test_tf_new)"
   ]
  },
  {
   "cell_type": "code",
   "execution_count": null,
   "metadata": {
    "colab": {
     "base_uri": "https://localhost:8080/"
    },
    "id": "xGOxUKlNH2pF",
    "outputId": "1f6f2b6f-62ae-49b7-dc0a-c11f792fd9b1"
   },
   "outputs": [],
   "source": [
    "accuracy_nb, precision_nb, recall_nb, f1_nb = get_metrics(y_test, y_predicted_nb)\n",
    "print(\"accuracy = %.3f, precision = %.3f, recall = %.3f, f1 = %.3f\" % (accuracy_nb, precision_nb, \n",
    "                                                                       recall_nb, f1_nb))"
   ]
  },
  {
   "cell_type": "code",
   "execution_count": null,
   "metadata": {
    "colab": {
     "base_uri": "https://localhost:8080/",
     "height": 942
    },
    "id": "bndxPHgAH2tV",
    "outputId": "67ba77d4-5d0e-4143-89cb-c51e7141cf6f"
   },
   "outputs": [],
   "source": [
    "predicted = y_predicted_nb\n",
    "predicted_prob = nb.predict_proba(X_test_tf_new)\n",
    "\n",
    "classes = np.unique(y_test)\n",
    "y_test_array = pd.get_dummies(y_test, drop_first=False).values\n",
    "    \n",
    "## Accuracy, Precision, Recall\n",
    "accuracy = metrics.accuracy_score(y_test, predicted)\n",
    "auc = metrics.roc_auc_score(y_test, predicted_prob, \n",
    "                            multi_class=\"ovr\")\n",
    "print(\"Accuracy:\",  round(accuracy,2))\n",
    "print(\"Auc:\", round(auc,2))\n",
    "print(\"Detail:\")\n",
    "print(metrics.classification_report(y_test, predicted))\n",
    "    \n",
    "## Plot confusion matrix\n",
    "cm = metrics.confusion_matrix(y_test, predicted)\n",
    "fig, ax = plt.subplots()\n",
    "sns.heatmap(cm, annot=True, fmt='d', ax=ax, cmap=plt.cm.Blues, \n",
    "            cbar=False)\n",
    "ax.set(xlabel=\"Pred\", ylabel=\"True\", xticklabels=classes, \n",
    "       yticklabels=classes, title=\"Confusion matrix\")\n",
    "plt.yticks(rotation=0)\n",
    "\n",
    "fig, ax = plt.subplots(nrows=1, ncols=2)\n",
    "## Plot roc\n",
    "for i in range(len(classes)):\n",
    "    fpr, tpr, thresholds = metrics.roc_curve(y_test_array[:,i],  \n",
    "                           predicted_prob[:,i])\n",
    "    ax[0].plot(fpr, tpr, lw=3, \n",
    "              label='{0} (area={1:0.2f})'.format(classes[i], \n",
    "                              metrics.auc(fpr, tpr))\n",
    "               )\n",
    "ax[0].plot([0,1], [0,1], color='navy', lw=3, linestyle='--')\n",
    "ax[0].set(xlim=[-0.05,1.0], ylim=[0.0,1.05], \n",
    "          xlabel='False Positive Rate', \n",
    "          ylabel=\"True Positive Rate (Recall)\", \n",
    "          title=\"Receiver operating characteristic\")\n",
    "ax[0].legend(loc=\"lower right\")\n",
    "ax[0].grid(True)\n",
    "    \n",
    "## Plot precision-recall curve\n",
    "for i in range(len(classes)):\n",
    "    precision, recall, thresholds = metrics.precision_recall_curve(\n",
    "                 y_test_array[:,i], predicted_prob[:,i])\n",
    "    ax[1].plot(recall, precision, lw=3, \n",
    "               label='{0} (area={1:0.2f})'.format(classes[i], \n",
    "                                  metrics.auc(recall, precision))\n",
    "              )\n",
    "ax[1].set(xlim=[0.0,1.05], ylim=[0.0,1.05], xlabel='Recall', \n",
    "          ylabel=\"Precision\", title=\"Precision-Recall curve\")\n",
    "ax[1].legend(loc=\"best\")\n",
    "ax[1].grid(True)\n",
    "plt.show()"
   ]
  },
  {
   "cell_type": "markdown",
   "metadata": {
    "id": "nvTy39bxJN9g"
   },
   "source": [
    "### AdaBoost"
   ]
  },
  {
   "cell_type": "code",
   "execution_count": null,
   "metadata": {
    "id": "59Us_Mi6J0VU"
   },
   "outputs": [],
   "source": [
    "from sklearn.ensemble import AdaBoostClassifier \n",
    "abc = AdaBoostClassifier(n_estimators=50,learning_rate=1)\n",
    "abc.fit(X_train_tf_new, y_train)\n",
    "y_predicted_abc = abc.predict(X_test_tf_new)"
   ]
  },
  {
   "cell_type": "code",
   "execution_count": null,
   "metadata": {
    "colab": {
     "base_uri": "https://localhost:8080/"
    },
    "id": "3eXrrqFpMiIW",
    "outputId": "efa848b0-122c-4406-b9a9-11667f50a5fb"
   },
   "outputs": [],
   "source": [
    "accuracy_abc, precision_abc, recall_abc, f1_abc = get_metrics(y_test, y_predicted_abc)\n",
    "print(\"accuracy = %.3f, precision = %.3f, recall = %.3f, f1 = %.3f\" % (accuracy_abc, precision_abc, \n",
    "                                                                       recall_abc, f1_abc))"
   ]
  },
  {
   "cell_type": "code",
   "execution_count": null,
   "metadata": {
    "colab": {
     "base_uri": "https://localhost:8080/",
     "height": 811
    },
    "id": "pRhLJ9CyOzXy",
    "outputId": "2af4326d-a13b-4237-a946-224b3676edfd"
   },
   "outputs": [],
   "source": [
    "predicted = y_predicted_abc\n",
    "predicted_prob = abc.predict_proba(X_test_tf_new)\n",
    "\n",
    "classes = np.unique(y_test)\n",
    "y_test_array = pd.get_dummies(y_test, drop_first=False).values\n",
    "    \n",
    "## Accuracy, Precision, Recall\n",
    "accuracy = metrics.accuracy_score(y_test, predicted)\n",
    "auc = metrics.roc_auc_score(y_test, predicted_prob, \n",
    "                            multi_class=\"ovr\")\n",
    "print(\"Accuracy:\",  round(accuracy,2))\n",
    "print(\"Auc:\", round(auc,2))\n",
    "print(\"Detail:\")\n",
    "print(metrics.classification_report(y_test, predicted))\n",
    "    \n",
    "## Plot confusion matrix\n",
    "cm = metrics.confusion_matrix(y_test, predicted)\n",
    "fig, ax = plt.subplots()\n",
    "sns.heatmap(cm, annot=True, fmt='d', ax=ax, cmap=plt.cm.Blues, \n",
    "            cbar=False)\n",
    "ax.set(xlabel=\"Pred\", ylabel=\"True\", xticklabels=classes, \n",
    "       yticklabels=classes, title=\"Confusion matrix\")\n",
    "plt.yticks(rotation=0)\n",
    "\n",
    "fig, ax = plt.subplots(nrows=1, ncols=2)\n",
    "## Plot roc\n",
    "for i in range(len(classes)):\n",
    "    fpr, tpr, thresholds = metrics.roc_curve(y_test_array[:,i],  \n",
    "                           predicted_prob[:,i])\n",
    "    ax[0].plot(fpr, tpr, lw=3, \n",
    "              label='{0} (area={1:0.2f})'.format(classes[i], \n",
    "                              metrics.auc(fpr, tpr))\n",
    "               )\n",
    "ax[0].plot([0,1], [0,1], color='navy', lw=3, linestyle='--')\n",
    "ax[0].set(xlim=[-0.05,1.0], ylim=[0.0,1.05], \n",
    "          xlabel='False Positive Rate', \n",
    "          ylabel=\"True Positive Rate (Recall)\", \n",
    "          title=\"Receiver operating characteristic\")\n",
    "ax[0].legend(loc=\"lower right\")\n",
    "ax[0].grid(True)\n",
    "    \n",
    "## Plot precision-recall curve\n",
    "for i in range(len(classes)):\n",
    "    precision, recall, thresholds = metrics.precision_recall_curve(\n",
    "                 y_test_array[:,i], predicted_prob[:,i])\n",
    "    ax[1].plot(recall, precision, lw=3, \n",
    "               label='{0} (area={1:0.2f})'.format(classes[i], \n",
    "                                  metrics.auc(recall, precision))\n",
    "              )\n",
    "ax[1].set(xlim=[0.0,1.05], ylim=[0.0,1.05], xlabel='Recall', \n",
    "          ylabel=\"Precision\", title=\"Precision-Recall curve\")\n",
    "ax[1].legend(loc=\"best\")\n",
    "ax[1].grid(True)\n",
    "plt.show()"
   ]
  },
  {
   "cell_type": "markdown",
   "metadata": {
    "id": "RxRIB5tIPSY7"
   },
   "source": [
    "### XGBoost"
   ]
  },
  {
   "cell_type": "code",
   "execution_count": null,
   "metadata": {
    "id": "bpAVsjX5s3tM"
   },
   "outputs": [],
   "source": [
    "import xgboost as xgb\n",
    "from sklearn.model_selection import GridSearchCV\n",
    "from sklearn.model_selection import train_test_split\n",
    "from sklearn.metrics import recall_score\n",
    "from sklearn.metrics import confusion_matrix\n",
    "from sklearn.metrics import classification_report, roc_auc_score, confusion_matrix, plot_confusion_matrix, roc_curve\n",
    "xgb_model = xgb.XGBClassifier(random_state=6, use_label_encoder=False, n_jobs=-1)"
   ]
  },
  {
   "cell_type": "code",
   "execution_count": null,
   "metadata": {
    "id": "qY--vYSzsRSb"
   },
   "outputs": [],
   "source": [
    "lr = [0.05,0.1]\n",
    "max_depth=np.arange(5,10)\n",
    "n_estimators=[500, 1000, 1500]\n",
    "#gamma=np.arange(0,0.1,0.01)\n",
    "\n",
    "param_grid = dict(learning_rate=lr, max_depth=max_depth, n_estimators=n_estimators)\n",
    "\n",
    "grid_search = GridSearchCV(xgb_model, param_grid, scoring='accuracy', cv=5)\n",
    "grid_result = grid_search.fit(X_train_tf_new, y_train)\n",
    "\n",
    "result_lgr = pd.DataFrame(grid_result.cv_results_)\n",
    "result_lgr.sort_values(by='mean_test_score', ascending=False)[:4]"
   ]
  },
  {
   "cell_type": "code",
   "execution_count": null,
   "metadata": {
    "id": "UUuv5C4mPT1L"
   },
   "outputs": [],
   "source": [
    "import xgboost as xgb\n",
    "\n",
    "xgb = xgb.XGBClassifier(colsample_bytree = 0.5, learning_rate = 0.1,\n",
    "                max_depth = 6, alpha = 10, n_estimators = 500)\n",
    "xgb.fit(X_train_tf_new, y_train)\n",
    "y_predicted_xgb = xgb.predict(X_test_tf_new)"
   ]
  },
  {
   "cell_type": "code",
   "execution_count": null,
   "metadata": {
    "colab": {
     "base_uri": "https://localhost:8080/"
    },
    "id": "mHAZrBJ5Rnev",
    "outputId": "5fb30ba8-012d-4e38-f37c-4e8f008b9002"
   },
   "outputs": [],
   "source": [
    "accuracy_xgb, precision_xgb, recall_xgb, f1_xgb = get_metrics(y_test, y_predicted_xgb)\n",
    "print(\"accuracy = %.3f, precision = %.3f, recall = %.3f, f1 = %.3f\" % (accuracy_xgb, precision_xgb, \n",
    "                                                                       recall_xgb, f1_xgb))"
   ]
  },
  {
   "cell_type": "code",
   "execution_count": null,
   "metadata": {
    "colab": {
     "base_uri": "https://localhost:8080/"
    },
    "id": "0hsewkhiYNxB",
    "outputId": "716a1c0d-538e-48be-b07f-c939517415c1"
   },
   "outputs": [],
   "source": [
    "accuracy_xgb, precision_xgb, recall_xgb, f1_xgb = get_metrics(y_test, y_predicted_xgb)\n",
    "print(\"accuracy = %.3f, precision = %.3f, recall = %.3f, f1 = %.3f\" % (accuracy_xgb, precision_xgb, \n",
    "                                                                       recall_xgb, f1_xgb))"
   ]
  },
  {
   "cell_type": "code",
   "execution_count": null,
   "metadata": {
    "colab": {
     "base_uri": "https://localhost:8080/"
    },
    "id": "hKvgJixDaBOm",
    "outputId": "5c60acd2-fff7-4e2a-f752-6752947d1b54"
   },
   "outputs": [],
   "source": [
    "import xgboost as xgb\n",
    "\n",
    "xgb = xgb.XGBClassifier(colsample_bytree = 0.5, learning_rate = 0.1,\n",
    "                max_depth = 6, alpha = 10, n_estimators = 1000)\n",
    "xgb.fit(X_train_tf_new, y_train)\n",
    "y_predicted_xgb = xgb.predict(X_test_tf_new)\n",
    "accuracy_xgb, precision_xgb, recall_xgb, f1_xgb = get_metrics(y_test, y_predicted_xgb)\n",
    "print(\"accuracy = %.3f, precision = %.3f, recall = %.3f, f1 = %.3f\" % (accuracy_xgb, precision_xgb, \n",
    "                                                                       recall_xgb, f1_xgb))"
   ]
  },
  {
   "cell_type": "code",
   "execution_count": null,
   "metadata": {
    "colab": {
     "base_uri": "https://localhost:8080/"
    },
    "id": "IuoEEr_fdaZd",
    "outputId": "eb0f39fe-22bf-4046-bbab-b191e9a3906d"
   },
   "outputs": [],
   "source": [
    "import xgboost as xgb\n",
    "\n",
    "xgb = xgb.XGBClassifier(colsample_bytree = 0.5, learning_rate = 0.1,\n",
    "                max_depth = 6, n_estimators = 1000)\n",
    "xgb.fit(X_train_tf_new, y_train)\n",
    "y_predicted_xgb = xgb.predict(X_test_tf_new)\n",
    "accuracy_xgb, precision_xgb, recall_xgb, f1_xgb = get_metrics(y_test, y_predicted_xgb)\n",
    "print(\"accuracy = %.3f, precision = %.3f, recall = %.3f, f1 = %.3f\" % (accuracy_xgb, precision_xgb, \n",
    "                                                                       recall_xgb, f1_xgb))"
   ]
  },
  {
   "cell_type": "code",
   "execution_count": null,
   "metadata": {
    "colab": {
     "base_uri": "https://localhost:8080/"
    },
    "id": "CizAfBwzYwSg",
    "outputId": "4d44b90b-ef84-4175-c89d-283c5cfa881a"
   },
   "outputs": [],
   "source": [
    "import xgboost as xgb\n",
    "\n",
    "xgb = xgb.XGBClassifier(colsample_bytree = 0.5, learning_rate = 0.1,\n",
    "                max_depth = 9, alpha = 10, n_estimators = 1000)\n",
    "xgb.fit(X_train_tf_new, y_train)\n",
    "y_predicted_xgb = xgb.predict(X_test_tf_new)\n",
    "accuracy_xgb, precision_xgb, recall_xgb, f1_xgb = get_metrics(y_test, y_predicted_xgb)\n",
    "print(\"accuracy = %.3f, precision = %.3f, recall = %.3f, f1 = %.3f\" % (accuracy_xgb, precision_xgb, \n",
    "                                                                       recall_xgb, f1_xgb))"
   ]
  },
  {
   "cell_type": "code",
   "execution_count": null,
   "metadata": {
    "id": "Mt6En3ihvHcb"
   },
   "outputs": [],
   "source": [
    "import xgboost as xgb\n",
    "\n",
    "xgb = xgb.XGBClassifier(colsample_bytree = 0.5, learning_rate = 0.1,\n",
    "                max_depth = 6, alpha = 10, n_estimators = 1000)\n",
    "xgb.fit(X_train_tf, y_train)\n",
    "y_predicted_xgb = xgb.predict(X_test_tf)"
   ]
  },
  {
   "cell_type": "code",
   "execution_count": null,
   "metadata": {
    "colab": {
     "base_uri": "https://localhost:8080/"
    },
    "id": "Ven0OJIivKWx",
    "outputId": "e2853f4d-25bd-4f0d-b993-f3fad65c36ce"
   },
   "outputs": [],
   "source": [
    "accuracy_xgb, precision_xgb, recall_xgb, f1_xgb = get_metrics(y_test, y_predicted_xgb)\n",
    "print(\"accuracy = %.3f, precision = %.3f, recall = %.3f, f1 = %.3f\" % (accuracy_xgb, precision_xgb, \n",
    "                                                                       recall_xgb, f1_xgb))"
   ]
  },
  {
   "cell_type": "code",
   "execution_count": null,
   "metadata": {
    "id": "UKMzk_E34sZT"
   },
   "outputs": [],
   "source": [
    "import xgboost as xgb\n",
    "\n",
    "xgb = xgb.XGBClassifier(colsample_bytree = 0.5, learning_rate = 0.1,\n",
    "                max_depth = 6, alpha = 10, n_estimators = 1000)\n",
    "xgb.fit(X_train_tf_new, y_train)\n",
    "y_predicted_xgb = xgb.predict(X_test_tf_new)"
   ]
  },
  {
   "cell_type": "code",
   "execution_count": null,
   "metadata": {
    "colab": {
     "base_uri": "https://localhost:8080/"
    },
    "id": "QfdMg4yQ4-kR",
    "outputId": "5d7f5114-abf9-4c5c-ad59-091d9f24de82"
   },
   "outputs": [],
   "source": [
    "accuracy_xgb, precision_xgb, recall_xgb, f1_xgb = get_metrics(y_test, y_predicted_xgb)\n",
    "print(\"accuracy = %.3f, precision = %.3f, recall = %.3f, f1 = %.3f\" % (accuracy_xgb, precision_xgb, \n",
    "                                                                       recall_xgb, f1_xgb))"
   ]
  },
  {
   "cell_type": "code",
   "execution_count": null,
   "metadata": {
    "colab": {
     "base_uri": "https://localhost:8080/",
     "height": 807
    },
    "id": "nMXFQGyURv_X",
    "outputId": "42e96a05-a35a-42d1-f5cf-4fedfe622e8e"
   },
   "outputs": [],
   "source": [
    "predicted = y_predicted_xgb\n",
    "predicted_prob = xgb.predict_proba(X_test_tf)\n",
    "\n",
    "classes = np.unique(y_test)\n",
    "y_test_array = pd.get_dummies(y_test, drop_first=False).values\n",
    "    \n",
    "## Accuracy, Precision, Recall\n",
    "accuracy = metrics.accuracy_score(y_test, predicted)\n",
    "auc = metrics.roc_auc_score(y_test, predicted_prob, \n",
    "                            multi_class=\"ovr\")\n",
    "print(\"Accuracy:\",  round(accuracy,2))\n",
    "print(\"Auc:\", round(auc,2))\n",
    "print(\"Detail:\")\n",
    "print(metrics.classification_report(y_test, predicted))\n",
    "    \n",
    "## Plot confusion matrix\n",
    "cm = metrics.confusion_matrix(y_test, predicted)\n",
    "fig, ax = plt.subplots()\n",
    "sns.heatmap(cm, annot=True, fmt='d', ax=ax, cmap=plt.cm.Blues, \n",
    "            cbar=False)\n",
    "ax.set(xlabel=\"Pred\", ylabel=\"True\", xticklabels=classes, \n",
    "       yticklabels=classes, title=\"Confusion matrix\")\n",
    "plt.yticks(rotation=0)\n",
    "\n",
    "fig, ax = plt.subplots(nrows=1, ncols=2)\n",
    "## Plot roc\n",
    "for i in range(len(classes)):\n",
    "    fpr, tpr, thresholds = metrics.roc_curve(y_test_array[:,i],  \n",
    "                           predicted_prob[:,i])\n",
    "    ax[0].plot(fpr, tpr, lw=3, \n",
    "              label='{0} (area={1:0.2f})'.format(classes[i], \n",
    "                              metrics.auc(fpr, tpr))\n",
    "               )\n",
    "ax[0].plot([0,1], [0,1], color='navy', lw=3, linestyle='--')\n",
    "ax[0].set(xlim=[-0.05,1.0], ylim=[0.0,1.05], \n",
    "          xlabel='False Positive Rate', \n",
    "          ylabel=\"True Positive Rate (Recall)\", \n",
    "          title=\"Receiver operating characteristic\")\n",
    "ax[0].legend(loc=\"lower right\")\n",
    "ax[0].grid(True)\n",
    "    \n",
    "## Plot precision-recall curve\n",
    "for i in range(len(classes)):\n",
    "    precision, recall, thresholds = metrics.precision_recall_curve(\n",
    "                 y_test_array[:,i], predicted_prob[:,i])\n",
    "    ax[1].plot(recall, precision, lw=3, \n",
    "               label='{0} (area={1:0.2f})'.format(classes[i], \n",
    "                                  metrics.auc(recall, precision))\n",
    "              )\n",
    "ax[1].set(xlim=[0.0,1.05], ylim=[0.0,1.05], xlabel='Recall', \n",
    "          ylabel=\"Precision\", title=\"Precision-Recall curve\")\n",
    "ax[1].legend(loc=\"best\")\n",
    "ax[1].grid(True)\n",
    "plt.show()"
   ]
  },
  {
   "cell_type": "markdown",
   "metadata": {
    "id": "sXUUqXJcQuRn"
   },
   "source": [
    "### LightGBM"
   ]
  },
  {
   "cell_type": "code",
   "execution_count": null,
   "metadata": {
    "id": "PNG6R0kGMtNW"
   },
   "outputs": [],
   "source": [
    "import lightgbm as lgb\n",
    "lgb = lgb.LGBMClassifier(learning_rate=0.09,max_depth=-5,random_state=42)\n",
    "lgb.fit(X_train_tf_new, y_train)\n",
    "y_predicted_lgb = lgb.predict(X_test_tf_new)"
   ]
  },
  {
   "cell_type": "code",
   "execution_count": null,
   "metadata": {
    "colab": {
     "base_uri": "https://localhost:8080/"
    },
    "id": "SqKXYVILQ7OS",
    "outputId": "3ee69160-85fd-48cc-ba6c-76a192d3587b"
   },
   "outputs": [],
   "source": [
    "accuracy_lgb, precision_lgb, recall_lgb, f1_lgb = get_metrics(y_test, y_predicted_lgb)\n",
    "print(\"accuracy = %.3f, precision = %.3f, recall = %.3f, f1 = %.3f\" % (accuracy_lgb, precision_lgb, \n",
    "                                                                       recall_lgb, f1_lgb))"
   ]
  },
  {
   "cell_type": "code",
   "execution_count": null,
   "metadata": {
    "colab": {
     "base_uri": "https://localhost:8080/",
     "height": 811
    },
    "id": "wS343C5vQ7Qy",
    "outputId": "13185fc1-9fba-44a3-9df5-b6961886c84b"
   },
   "outputs": [],
   "source": [
    "predicted = y_predicted_lgb\n",
    "predicted_prob = lgb.predict_proba(X_test_tf_new)\n",
    "\n",
    "classes = np.unique(y_test)\n",
    "y_test_array = pd.get_dummies(y_test, drop_first=False).values\n",
    "    \n",
    "## Accuracy, Precision, Recall\n",
    "accuracy = metrics.accuracy_score(y_test, predicted)\n",
    "auc = metrics.roc_auc_score(y_test, predicted_prob, \n",
    "                            multi_class=\"ovr\")\n",
    "print(\"Accuracy:\",  round(accuracy,2))\n",
    "print(\"Auc:\", round(auc,2))\n",
    "print(\"Detail:\")\n",
    "print(metrics.classification_report(y_test, predicted))\n",
    "    \n",
    "## Plot confusion matrix\n",
    "cm = metrics.confusion_matrix(y_test, predicted)\n",
    "fig, ax = plt.subplots()\n",
    "sns.heatmap(cm, annot=True, fmt='d', ax=ax, cmap=plt.cm.Blues, \n",
    "            cbar=False)\n",
    "ax.set(xlabel=\"Pred\", ylabel=\"True\", xticklabels=classes, \n",
    "       yticklabels=classes, title=\"Confusion matrix\")\n",
    "plt.yticks(rotation=0)\n",
    "\n",
    "fig, ax = plt.subplots(nrows=1, ncols=2)\n",
    "## Plot roc\n",
    "for i in range(len(classes)):\n",
    "    fpr, tpr, thresholds = metrics.roc_curve(y_test_array[:,i],  \n",
    "                           predicted_prob[:,i])\n",
    "    ax[0].plot(fpr, tpr, lw=3, \n",
    "              label='{0} (area={1:0.2f})'.format(classes[i], \n",
    "                              metrics.auc(fpr, tpr))\n",
    "               )\n",
    "ax[0].plot([0,1], [0,1], color='navy', lw=3, linestyle='--')\n",
    "ax[0].set(xlim=[-0.05,1.0], ylim=[0.0,1.05], \n",
    "          xlabel='False Positive Rate', \n",
    "          ylabel=\"True Positive Rate (Recall)\", \n",
    "          title=\"Receiver operating characteristic\")\n",
    "ax[0].legend(loc=\"lower right\")\n",
    "ax[0].grid(True)\n",
    "    \n",
    "## Plot precision-recall curve\n",
    "for i in range(len(classes)):\n",
    "    precision, recall, thresholds = metrics.precision_recall_curve(\n",
    "                 y_test_array[:,i], predicted_prob[:,i])\n",
    "    ax[1].plot(recall, precision, lw=3, \n",
    "               label='{0} (area={1:0.2f})'.format(classes[i], \n",
    "                                  metrics.auc(recall, precision))\n",
    "              )\n",
    "ax[1].set(xlim=[0.0,1.05], ylim=[0.0,1.05], xlabel='Recall', \n",
    "          ylabel=\"Precision\", title=\"Precision-Recall curve\")\n",
    "ax[1].legend(loc=\"best\")\n",
    "ax[1].grid(True)\n",
    "plt.show()"
   ]
  },
  {
   "cell_type": "markdown",
   "metadata": {
    "id": "JfUMJFhoxW0K"
   },
   "source": [
    "## Ensemble Learning"
   ]
  },
  {
   "cell_type": "code",
   "execution_count": null,
   "metadata": {
    "id": "3T4zFG00xZJm"
   },
   "outputs": [],
   "source": [
    "from sklearn.ensemble import RandomForestClassifier, VotingClassifier\n",
    "from sklearn.svm import SVC\n",
    "from sklearn.linear_model import LogisticRegression\n",
    "from sklearn.naive_bayes import GaussianNB\n",
    "\n",
    "rfClf = RandomForestClassifier(n_estimators=500, random_state=0) # 500 trees. \n",
    "svmClf = SVC(probability=True, random_state=0) # probability calculation\n",
    "logClf = LogisticRegression(random_state=0)\n",
    "#nbclf = GaussianNB(random_state=0)\n",
    "\n",
    "# constructing the ensemble classifier by mentioning the individual classifiers.\n",
    "clf2 = VotingClassifier(estimators = [('rf',rfClf), ('svm',svmClf), ('log', logClf)], voting='soft') \n",
    "\n",
    "# train the ensemble classifier\n",
    "clf2.fit(X_train_tf_new, y_train)"
   ]
  },
  {
   "cell_type": "code",
   "execution_count": null,
   "metadata": {
    "colab": {
     "base_uri": "https://localhost:8080/"
    },
    "id": "CXL94Smx5QVU",
    "outputId": "0df62f74-daf6-4e8d-a391-530ceec40c66"
   },
   "outputs": [],
   "source": [
    "from sklearn.ensemble import VotingClassifier\n",
    "\n",
    "voting_clf = VotingClassifier(estimators=[('SVC', svm), ('LogReg', clf_tf), ('XGB', xgb)], voting='hard')\n",
    "voting_clf.fit(X_train_tf_new, y_train)\n",
    "preds = voting_clf.predict(X_test_tf_new)\n",
    "acc = accuracy_score(y_test, preds)\n",
    "acc"
   ]
  },
  {
   "cell_type": "code",
   "execution_count": null,
   "metadata": {
    "colab": {
     "base_uri": "https://localhost:8080/"
    },
    "id": "-khv3ChVri4h",
    "outputId": "9e753720-f022-420e-f295-e0e687815827"
   },
   "outputs": [],
   "source": [
    "from sklearn.ensemble import VotingClassifier\n",
    "\n",
    "voting_clf = VotingClassifier(estimators=[('SVC', svm), ('LogReg', clf_tf), ('XGB', xgb)], voting='soft')\n",
    "voting_clf.fit(X_train_tf_new, y_train)\n",
    "preds = voting_clf.predict(X_test_tf_new)\n",
    "acc = accuracy_score(y_test, preds)\n",
    "acc"
   ]
  },
  {
   "cell_type": "code",
   "execution_count": null,
   "metadata": {
    "colab": {
     "base_uri": "https://localhost:8080/",
     "height": 807
    },
    "id": "BbXL--TepMX2",
    "outputId": "e8675c78-061b-46b6-9275-80783c38f7a8"
   },
   "outputs": [],
   "source": [
    "predicted = preds\n",
    "predicted_prob = voting_clf.predict_proba(X_test_tf_new)\n",
    "\n",
    "classes = np.unique(y_test)\n",
    "y_test_array = pd.get_dummies(y_test, drop_first=False).values\n",
    "    \n",
    "## Accuracy, Precision, Recall\n",
    "accuracy = metrics.accuracy_score(y_test, predicted)\n",
    "auc = metrics.roc_auc_score(y_test, predicted_prob, \n",
    "                            multi_class=\"ovr\")\n",
    "print(\"Accuracy:\",  round(accuracy,2))\n",
    "print(\"Auc:\", round(auc,2))\n",
    "print(\"Detail:\")\n",
    "print(metrics.classification_report(y_test, predicted))\n",
    "    \n",
    "## Plot confusion matrix\n",
    "cm = metrics.confusion_matrix(y_test, predicted)\n",
    "fig, ax = plt.subplots()\n",
    "sns.heatmap(cm, annot=True, fmt='d', ax=ax, cmap=plt.cm.Blues, \n",
    "            cbar=False)\n",
    "ax.set(xlabel=\"Pred\", ylabel=\"True\", xticklabels=classes, \n",
    "       yticklabels=classes, title=\"Confusion matrix\")\n",
    "plt.yticks(rotation=0)\n",
    "\n",
    "fig, ax = plt.subplots(nrows=1, ncols=2)\n",
    "## Plot roc\n",
    "for i in range(len(classes)):\n",
    "    fpr, tpr, thresholds = metrics.roc_curve(y_test_array[:,i],  \n",
    "                           predicted_prob[:,i])\n",
    "    ax[0].plot(fpr, tpr, lw=3, \n",
    "              label='{0} (area={1:0.2f})'.format(classes[i], \n",
    "                              metrics.auc(fpr, tpr))\n",
    "               )\n",
    "ax[0].plot([0,1], [0,1], color='navy', lw=3, linestyle='--')\n",
    "ax[0].set(xlim=[-0.05,1.0], ylim=[0.0,1.05], \n",
    "          xlabel='False Positive Rate', \n",
    "          ylabel=\"True Positive Rate (Recall)\", \n",
    "          title=\"Receiver operating characteristic\")\n",
    "ax[0].legend(loc=\"lower right\")\n",
    "ax[0].grid(True)\n",
    "    \n",
    "## Plot precision-recall curve\n",
    "for i in range(len(classes)):\n",
    "    precision, recall, thresholds = metrics.precision_recall_curve(\n",
    "                 y_test_array[:,i], predicted_prob[:,i])\n",
    "    ax[1].plot(recall, precision, lw=3, \n",
    "               label='{0} (area={1:0.2f})'.format(classes[i], \n",
    "                                  metrics.auc(recall, precision))\n",
    "              )\n",
    "ax[1].set(xlim=[0.0,1.05], ylim=[0.0,1.05], xlabel='Recall', \n",
    "          ylabel=\"Precision\", title=\"Precision-Recall curve\")\n",
    "ax[1].legend(loc=\"best\")\n",
    "ax[1].grid(True)\n",
    "plt.show()"
   ]
  },
  {
   "cell_type": "code",
   "execution_count": null,
   "metadata": {
    "colab": {
     "base_uri": "https://localhost:8080/"
    },
    "id": "RxpzoLHTpHRd",
    "outputId": "0625210a-4e1e-4193-8c88-f8f54eddcb4e"
   },
   "outputs": [],
   "source": [
    "from sklearn.ensemble import BaggingClassifier\n",
    "\n",
    "logreg_bagging_model = BaggingClassifier(base_estimator=clf_tf, n_estimators=50, random_state=12)\n",
    "logreg_bagging_model.fit(X_train_tf_new, y_train)\n",
    "preds_log = logreg_bagging_model.predict(X_test_tf_new)\n",
    "acc_log = accuracy_score(y_test, preds_log)\n",
    "acc_log"
   ]
  },
  {
   "cell_type": "code",
   "execution_count": null,
   "metadata": {
    "colab": {
     "base_uri": "https://localhost:8080/",
     "height": 807
    },
    "id": "ZJtzf9e80Qmg",
    "outputId": "2ee780cc-b0e0-467d-945a-cecb013732cd"
   },
   "outputs": [],
   "source": [
    "predicted = preds_log\n",
    "predicted_prob = logreg_bagging_model.predict_proba(X_test_tf_new)\n",
    "\n",
    "classes = np.unique(y_test)\n",
    "y_test_array = pd.get_dummies(y_test, drop_first=False).values\n",
    "    \n",
    "## Accuracy, Precision, Recall\n",
    "accuracy = metrics.accuracy_score(y_test, predicted)\n",
    "auc = metrics.roc_auc_score(y_test, predicted_prob, \n",
    "                            multi_class=\"ovr\")\n",
    "print(\"Accuracy:\",  round(accuracy,2))\n",
    "print(\"Auc:\", round(auc,2))\n",
    "print(\"Detail:\")\n",
    "print(metrics.classification_report(y_test, predicted))\n",
    "    \n",
    "## Plot confusion matrix\n",
    "cm = metrics.confusion_matrix(y_test, predicted)\n",
    "fig, ax = plt.subplots()\n",
    "sns.heatmap(cm, annot=True, fmt='d', ax=ax, cmap=plt.cm.Blues, \n",
    "            cbar=False)\n",
    "ax.set(xlabel=\"Pred\", ylabel=\"True\", xticklabels=classes, \n",
    "       yticklabels=classes, title=\"Confusion matrix\")\n",
    "plt.yticks(rotation=0)\n",
    "\n",
    "fig, ax = plt.subplots(nrows=1, ncols=2)\n",
    "## Plot roc\n",
    "for i in range(len(classes)):\n",
    "    fpr, tpr, thresholds = metrics.roc_curve(y_test_array[:,i],  \n",
    "                           predicted_prob[:,i])\n",
    "    ax[0].plot(fpr, tpr, lw=3, \n",
    "              label='{0} (area={1:0.2f})'.format(classes[i], \n",
    "                              metrics.auc(fpr, tpr))\n",
    "               )\n",
    "ax[0].plot([0,1], [0,1], color='navy', lw=3, linestyle='--')\n",
    "ax[0].set(xlim=[-0.05,1.0], ylim=[0.0,1.05], \n",
    "          xlabel='False Positive Rate', \n",
    "          ylabel=\"True Positive Rate (Recall)\", \n",
    "          title=\"Receiver operating characteristic\")\n",
    "ax[0].legend(loc=\"lower right\")\n",
    "ax[0].grid(True)\n",
    "    \n",
    "## Plot precision-recall curve\n",
    "for i in range(len(classes)):\n",
    "    precision, recall, thresholds = metrics.precision_recall_curve(\n",
    "                 y_test_array[:,i], predicted_prob[:,i])\n",
    "    ax[1].plot(recall, precision, lw=3, \n",
    "               label='{0} (area={1:0.2f})'.format(classes[i], \n",
    "                                  metrics.auc(recall, precision))\n",
    "              )\n",
    "ax[1].set(xlim=[0.0,1.05], ylim=[0.0,1.05], xlabel='Recall', \n",
    "          ylabel=\"Precision\", title=\"Precision-Recall curve\")\n",
    "ax[1].legend(loc=\"best\")\n",
    "ax[1].grid(True)\n",
    "plt.show()"
   ]
  }
 ],
 "metadata": {
  "colab": {
   "name": "Untitled18.ipynb",
   "provenance": []
  },
  "kernelspec": {
   "display_name": "Python 3 (ipykernel)",
   "language": "python",
   "name": "python3"
  },
  "language_info": {
   "codemirror_mode": {
    "name": "ipython",
    "version": 3
   },
   "file_extension": ".py",
   "mimetype": "text/x-python",
   "name": "python",
   "nbconvert_exporter": "python",
   "pygments_lexer": "ipython3",
   "version": "3.9.12"
  }
 },
 "nbformat": 4,
 "nbformat_minor": 1
}
